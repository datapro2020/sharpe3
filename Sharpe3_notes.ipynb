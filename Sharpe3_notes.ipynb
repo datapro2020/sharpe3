{
 "cells": [
  {
   "cell_type": "code",
   "execution_count": 91,
   "metadata": {},
   "outputs": [
    {
     "name": "stdout",
     "output_type": "stream",
     "text": [
      "DataFrame built\n"
     ]
    }
   ],
   "source": [
    "import numpy as np\n",
    "import pandas as pd\n",
    "import pandas_datareader.data as web\n",
    "from datetime import datetime, timedelta\n",
    "import matplotlib.pyplot as plt\n",
    "from sklearn.cluster import KMeans\n",
    "from math import sqrt\n",
    "import  pylab as pl\n",
    "\n",
    "D = 400\n",
    "rf = 0 #Risk free return\n",
    "\n",
    "date_D_days_ago = datetime.now() - timedelta(days=D)\n",
    "now = datetime.now()\n",
    "\n",
    "start_date = date_D_days_ago.strftime('%F')\n",
    "end_date = now.strftime('%F')\n",
    "\n",
    "#Fortmat output\n",
    "pct = lambda x: '{:.2%}'.format(x)\n",
    "dig = lambda x: '{:.2f}'.format(x)\n",
    "\n",
    "\n",
    "\n",
    "# Max Sharpe with Min correlation\n",
    "def MaxSharpe_MinCorr(new_df, sharpe, asset, num):\n",
    "    sharpe = sharpe.drop(asset)    \n",
    "    max_sharpe = sharpe.sort_values(ascending = False).head(num)\n",
    "    list_max = np.array(max_sharpe.index.values)\n",
    "    porfolio_A = new_df[list_max].corrwith(new_df[asset]).abs().sort_values(ascending = True).head(9)  \n",
    "    porfolio_A = pd.Series(porfolio_A.index.values)\n",
    "    return porfolio_A\n",
    "\n",
    "# Min correlation with Max Sharpe\n",
    "def MinCorr_MaxSharpe(new_df, asset, num):\n",
    "    porfolio_B = new_df.corrwith(new_df[asset]).abs().sort_values(ascending = True).head(num)\n",
    "    new_df = new_df[porfolio_B.index.values]\n",
    "    f_sharpe = (250**0.5)*(new_df.mean()/new_df.std())    \n",
    "    f_sharpe.sort_values(ascending = False)\n",
    "    max_sharpe = f_sharpe.head(9)\n",
    "    porfolio_B = pd.Series(max_sharpe.index.values)\n",
    "    return porfolio_B\n",
    "\n",
    "\n",
    "# Pofolio Optimization and Efficient Frontier (TO REVIEW)\n",
    "def P_Optimization(df):\n",
    "    ind_er = df.pct_change().apply(lambda x: np.log(1+x)).mean().apply(lambda x: x*250)\n",
    "    cov_matrix = df.pct_change().apply(lambda x: np.log(1+x)).cov()\n",
    "    corr_matrix = df.pct_change().apply(lambda x: np.log(1+x)).corr()\n",
    "    ann_sd = df.pct_change().apply(lambda x: np.log(1+x)).std().apply(lambda x: x*np.sqrt(250))\n",
    "\n",
    "    p_ret = [] # Define an empty array for portfolio returns\n",
    "    p_vol = [] # Define an empty array for portfolio volatility\n",
    "    p_weights = [] # Define an empty array for asset weights\n",
    "\n",
    "    num_assets = len(df.columns)\n",
    "    num_portfolios = 10000\n",
    "    \n",
    "    for portfolio in range(num_portfolios):\n",
    "        weights = np.random.random(num_assets)\n",
    "        weights = weights/np.sum(weights)\n",
    "        weights= weights.round(2)\n",
    "        p_weights.append(weights)\n",
    "        returns = np.dot(weights, ind_er) # Returns are the product of individual expected returns of asset and its \n",
    "                                      # weights \n",
    "        p_ret.append(returns)\n",
    "        var = cov_matrix.mul(weights, axis=0).mul(weights, axis=1).sum().sum()# Portfolio Variance\n",
    "        sd = np.sqrt(var) # Daily standard deviation\n",
    "        ann_sd = sd*np.sqrt(250) # Annual standard deviation = volatility\n",
    "        p_vol.append(ann_sd)\n",
    "    \n",
    "    data = {'Returns':p_ret, 'Volatility':p_vol}\n",
    "\n",
    "    for counter, symbol in enumerate(df.columns.tolist()):\n",
    "        #print(counter, symbol)\n",
    "        data[symbol+' weight'] = [w[counter] for w in p_weights]\n",
    "\n",
    "    portfolios  = pd.DataFrame(data) #Dataframe of the 10000 portfolios created\n",
    "    return portfolios\n",
    "\n",
    "def Plot_P_Optimization(porfolios,price):\n",
    "        min_vol_port = portfolios.loc[portfolios['Volatility'].idxmin()]\n",
    "        optimal_risky_port = portfolios.loc[((portfolios['Returns']- rf)/portfolios['Volatility']).idxmax()]\n",
    "        ann_mean = price.pct_change().apply(lambda x: np.log(1+x)).mean().apply(lambda x: x*250)\n",
    "        ann_std = price.pct_change().apply(lambda x: np.log(1+x)).std().apply(lambda x: x*np.sqrt(250))\n",
    "              \n",
    "        # Plotting optimal portfolio\n",
    "    #    portfolios.plot.scatter(x='Volatility', y='Returns', marker='o', s=10, alpha=0.3, grid=True, figsize=[10,10])\n",
    "        plt.subplots(figsize=(10, 10))\n",
    "        plt.scatter(portfolios['Volatility'], portfolios['Returns'], marker='o', s=10, alpha=0.3)\n",
    "        plt.xlabel('Volatility', fontsize=20)\n",
    "        plt.ylabel('Returns', fontsize=20)\n",
    "        plt.scatter(min_vol_port[1], min_vol_port[0], color='r', marker='*', s=400, label='Minimum volatility')\n",
    "        plt.legend(loc='upper left', fontsize=12)\n",
    "        plt.scatter(optimal_risky_port[1], optimal_risky_port[0], color='g', marker='*', s=400, label='Maximum Sharpe ratio')\n",
    "        plt.legend(loc='best', fontsize=12)\n",
    "                \n",
    "        #Plotting individual assets\n",
    "        for i in price.columns:\n",
    "            plt.scatter(ann_std[i], ann_mean[i], color='b' , marker='.', s=500)\n",
    "            plt.annotate('   '+i, (ann_std[i], ann_mean[i]), ha='left', va='center')\n",
    "    \n",
    "         #Saving plots to use them later    \n",
    "        plt.savefig('data/img/'+s+'_optimal_porfolio.png')\n",
    "        plt.cla()\n",
    "        plt.close('all')\n",
    "        #return \n",
    "\n",
    "#K-Means Clustering\n",
    "def Clustering(ann_mean, ann_std):\n",
    "        ret_var = pd.concat([ann_mean, ann_std], axis = 1).dropna()\n",
    "        ret_var.columns = [\"Return\",\"Volatility\"]\n",
    "\n",
    "        X =  ret_var.values #Converting ret_var into nummpy arraysse = []for k in range(2,15):\n",
    "        df = pd.DataFrame(X, index=ret_var.index, columns=['X','Y'])\n",
    "        #pl.scatter(X[:,1],X[:,0], c = kmeans.labels_, cmap =\"rainbow\")\n",
    "        #plt.scatter(centroids[:,1],centroids[:,0], marker = 'x', color = 'b', label = 'Centroids')\n",
    "        kmeans = KMeans(n_clusters = 5).fit(X)\n",
    "        centroids = kmeans.cluster_centers_\n",
    "        cluster_labels = pd.DataFrame(kmeans.labels_, index=ret_var.index, columns=['Clustering'])\n",
    "        #tupper = pd.concat([tupper, cluster_labels],axis = 1)\n",
    "        print ('Builing Clustering with the ML Library K-Means') \n",
    "        return cluster_labels\n",
    "    \n",
    "    \n",
    "#Performace for each stock\n",
    "def Performance(p):\n",
    "    window = ['D','W','M','3M','6M','A']\n",
    "    perform = pd.DataFrame(0, index = p.columns, columns=window)\n",
    "\n",
    "    for i in window:    \n",
    "        df = p.resample(i).last().pct_change().tail(2)\n",
    "        perform[i] = df.iloc[0,:].apply(pct) \n",
    "    \n",
    "    df = p.resample('Y').last().pct_change().tail(1)\n",
    "    perform['YTD'] = df.iloc[0,:].apply(pct)\n",
    "    \n",
    "    return perform\n",
    "    \n",
    "# Read industry and sectors of stock market\n",
    "info = pd.read_csv('data/S&P500-Info.csv', index_col=['Symbol'])\n",
    "info = pd.DataFrame(info)\n",
    "\n",
    "\n",
    "\n",
    "custom_date_parser = lambda x: datetime.strptime(x,\"%Y-%m-%d\")\n",
    "price = pd.read_csv('data/price.csv', index_col=['Date'], parse_dates=['Date'], date_parser=custom_date_parser)\n",
    "price = pd.DataFrame(price)\n",
    "\n",
    "# Read  Tickers\n",
    "tickers = price.columns\n",
    "\n",
    "\n",
    "\n",
    "# Expected annualized Return, Volatility, Correlation and Sharpe\n",
    "ann_mean = price.pct_change().apply(lambda x: np.log(1+x)).mean().apply(lambda x: x*250)\n",
    "ann_std = price.pct_change().apply(lambda x: np.log(1+x)).std().apply(lambda x: x*np.sqrt(250))\n",
    "corr = price.pct_change().apply(lambda x: np.log(1+x)).corr()\n",
    "cov  = price.pct_change().apply(lambda x: np.log(1+x)).cov()\n",
    "Sharpe = (ann_mean - rf)/ann_std\n",
    "perform_df = Performance(price)\n",
    "\n",
    "\n",
    "\n",
    "# Building Tupperware\n",
    "tupper = pd.DataFrame(ann_mean, columns=['Return'], index = tickers)\n",
    "tupper.index.name = 'ticker'\n",
    "tupper ['Volatility'] = pd.DataFrame(ann_std, columns=['Volatility'])\n",
    "tupper ['Sharpe'] = pd.DataFrame(Sharpe, columns=['Sharpe'])\n",
    "tupper ['Min_Corr'] = pd.DataFrame(corr.abs().idxmin(), columns=['Min_Corr'])\n",
    "tupper ['Corr_value'] = pd.DataFrame(corr.min(), columns=['Corr_Value'])\n",
    "tupper['Return'] = tupper['Return'].apply(pct)\n",
    "tupper['Volatility'] = tupper['Volatility'].apply(pct)\n",
    "tupper['Sharpe'] = tupper['Sharpe'].apply(dig)\n",
    "\n",
    "\n",
    "#cluster_labels = Clustering(ann_mean, ann_std)\n",
    "tupper = pd.concat([tupper, perform_df],axis = 1)\n",
    "\n",
    "\n",
    "\n",
    "tupper.to_csv('data/tupper_'+end_date+'.csv')\n",
    "print ('DataFrame built')  \n"
   ]
  },
  {
   "cell_type": "code",
   "execution_count": 64,
   "metadata": {},
   "outputs": [],
   "source": [
    "#tupper[tupper['Clustering']==4].sort_values(by='Sharpe',ascending = False).head(5)\n",
    "\n",
    "tupper_now = pd.read_csv('data/tupper_'+end_date+'.csv', index_col='ticker')\n",
    "\n",
    "portfolio = ['NIO','PTON','TSLA']\n",
    "\n",
    "\n",
    "if tupper.index.isin(['AA']).any() ==True:\n",
    "    print('AA')\n",
    "    "
   ]
  },
  {
   "cell_type": "code",
   "execution_count": 65,
   "metadata": {},
   "outputs": [
    {
     "ename": "NameError",
     "evalue": "name 'sp500' is not defined",
     "output_type": "error",
     "traceback": [
      "\u001b[0;31m---------------------------------------------------------------------------\u001b[0m",
      "\u001b[0;31mNameError\u001b[0m                                 Traceback (most recent call last)",
      "\u001b[0;32m<ipython-input-65-733404520c8b>\u001b[0m in \u001b[0;36m<module>\u001b[0;34m\u001b[0m\n\u001b[1;32m      2\u001b[0m \u001b[0mportfolio_df\u001b[0m\u001b[0;34m[\u001b[0m\u001b[0;34m'a0'\u001b[0m\u001b[0;34m]\u001b[0m \u001b[0;34m=\u001b[0m \u001b[0mportfolio_df\u001b[0m\u001b[0;34m.\u001b[0m\u001b[0mindex\u001b[0m\u001b[0;34m.\u001b[0m\u001b[0mvalues\u001b[0m\u001b[0;34m\u001b[0m\u001b[0;34m\u001b[0m\u001b[0m\n\u001b[1;32m      3\u001b[0m \u001b[0;34m\u001b[0m\u001b[0m\n\u001b[0;32m----> 4\u001b[0;31m \u001b[0mmin_vol_port_df\u001b[0m \u001b[0;34m=\u001b[0m \u001b[0mpd\u001b[0m\u001b[0;34m.\u001b[0m\u001b[0mDataFrame\u001b[0m\u001b[0;34m(\u001b[0m\u001b[0;36m0\u001b[0m\u001b[0;34m,\u001b[0m \u001b[0mcolumns\u001b[0m \u001b[0;34m=\u001b[0m \u001b[0;34m[\u001b[0m\u001b[0;34m'mv_Returns'\u001b[0m\u001b[0;34m,\u001b[0m\u001b[0;34m'mv_Volatility'\u001b[0m\u001b[0;34m,\u001b[0m\u001b[0;34m'mv_w0'\u001b[0m\u001b[0;34m,\u001b[0m\u001b[0;34m'mv_w1'\u001b[0m\u001b[0;34m,\u001b[0m\u001b[0;34m'mv_w2'\u001b[0m\u001b[0;34m,\u001b[0m\u001b[0;34m'mv_w3'\u001b[0m\u001b[0;34m,\u001b[0m\u001b[0;34m'mv_w4'\u001b[0m\u001b[0;34m,\u001b[0m\u001b[0;34m'mv_w5'\u001b[0m\u001b[0;34m,\u001b[0m\u001b[0;34m'mv_w6'\u001b[0m\u001b[0;34m,\u001b[0m\u001b[0;34m'mv_w7'\u001b[0m\u001b[0;34m,\u001b[0m\u001b[0;34m'mv_w8'\u001b[0m\u001b[0;34m,\u001b[0m\u001b[0;34m'mv_w9'\u001b[0m\u001b[0;34m]\u001b[0m\u001b[0;34m,\u001b[0m \u001b[0mindex\u001b[0m \u001b[0;34m=\u001b[0m \u001b[0msp500\u001b[0m\u001b[0;34m)\u001b[0m\u001b[0;34m\u001b[0m\u001b[0;34m\u001b[0m\u001b[0m\n\u001b[0m\u001b[1;32m      5\u001b[0m \u001b[0moptimal_risky_port_df\u001b[0m \u001b[0;34m=\u001b[0m \u001b[0mpd\u001b[0m\u001b[0;34m.\u001b[0m\u001b[0mDataFrame\u001b[0m\u001b[0;34m(\u001b[0m\u001b[0;36m0\u001b[0m\u001b[0;34m,\u001b[0m \u001b[0mcolumns\u001b[0m \u001b[0;34m=\u001b[0m \u001b[0;34m[\u001b[0m\u001b[0;34m'or_Returns'\u001b[0m\u001b[0;34m,\u001b[0m\u001b[0;34m'or_Volatility'\u001b[0m\u001b[0;34m,\u001b[0m\u001b[0;34m'or_w0'\u001b[0m\u001b[0;34m,\u001b[0m\u001b[0;34m'or_w1'\u001b[0m\u001b[0;34m,\u001b[0m\u001b[0;34m'or_w2'\u001b[0m\u001b[0;34m,\u001b[0m\u001b[0;34m'or_w3'\u001b[0m\u001b[0;34m,\u001b[0m\u001b[0;34m'or_w4'\u001b[0m\u001b[0;34m,\u001b[0m\u001b[0;34m'or_w5'\u001b[0m\u001b[0;34m,\u001b[0m\u001b[0;34m'or_w6'\u001b[0m\u001b[0;34m,\u001b[0m\u001b[0;34m'or_w7'\u001b[0m\u001b[0;34m,\u001b[0m\u001b[0;34m'or_w8'\u001b[0m\u001b[0;34m,\u001b[0m\u001b[0;34m'or_w9'\u001b[0m\u001b[0;34m]\u001b[0m\u001b[0;34m,\u001b[0m \u001b[0mindex\u001b[0m \u001b[0;34m=\u001b[0m \u001b[0msp500\u001b[0m\u001b[0;34m)\u001b[0m\u001b[0;34m\u001b[0m\u001b[0;34m\u001b[0m\u001b[0m\n\u001b[1;32m      6\u001b[0m \u001b[0;34m\u001b[0m\u001b[0m\n",
      "\u001b[0;31mNameError\u001b[0m: name 'sp500' is not defined"
     ]
    }
   ],
   "source": [
    "\n",
    "portfolio_df= pd.DataFrame(0, columns = ['a0','a1','a2','a3','a4','a5','a6','a7','a8','a9'], index = tickers)                                            \n",
    "portfolio_df['a0'] = portfolio_df.index.values\n",
    "\n",
    "min_vol_port_df = pd.DataFrame(0, columns = ['mv_Returns','mv_Volatility','mv_w0','mv_w1','mv_w2','mv_w3','mv_w4','mv_w5','mv_w6','mv_w7','mv_w8','mv_w9'], index = sp500)\n",
    "optimal_risky_port_df = pd.DataFrame(0, columns = ['or_Returns','or_Volatility','or_w0','or_w1','or_w2','or_w3','or_w4','or_w5','or_w6','or_w7','or_w8','or_w9'], index = sp500)\n",
    "    \n",
    "\n",
    "\n",
    "#Building porfolios \n",
    "for r in portfolio_df.index.values:\n",
    "    Test_A = MaxSharpe_MinCorr(price, Sharpe, r, 100)\n",
    "    for c in range(9):\n",
    "        portfolio_df.loc[r,'a'+str(c+1)] = Test_A[c]\n",
    "         \n",
    "ti = 0\n",
    "    \n",
    "for s in portfolio_df.index.values:\n",
    "    p = price[portfolio_df.loc[s,:]]\n",
    "    ti = ti +1\n",
    "    portfolios = P_Optimization (p)\n",
    "    min_vol_port = portfolios.loc[portfolios['Volatility'].idxmin()]\n",
    "    optimal_risky_port = portfolios.loc[((portfolios['Returns']- rf)/portfolios['Volatility']).idxmax()]\n",
    "    print('Porfolio '+str(ti)+' optimized.')\n",
    "              \n",
    "    # Plotting optimal portfolio\n",
    "    #portfolios.plot.scatter(x='Volatility', y='Returns', marker='o', s=10, alpha=0.3, grid=True, figsize=[10,10])\n",
    "    #Plot_P_Optimization(portfolios,p)\n",
    "        \n",
    "    #Saving optimal porfolios weights in a DataFrame\n",
    "    min_vol_port_df.loc[s,:]  = min_vol_port.values\n",
    "    optimal_risky_port_df.loc[s,:] = optimal_risky_port.values\n",
    "    \n",
    "   \n",
    "print('\\n Porfolio creation ='+str(ti)) \n",
    "\n",
    "#Saving data\n",
    "tupper = pd.concat([tupper,info,portfolio_df,min_vol_port_df,optimal_risky_port_df], axis=1)\n",
    "tupper.to_csv('data/tupper_'+end_date+'.csv')\n",
    "\n",
    "print ('Done! /n Tupperware Data created on '+end_date)"
   ]
  },
  {
   "cell_type": "code",
   "execution_count": null,
   "metadata": {},
   "outputs": [],
   "source": []
  },
  {
   "cell_type": "code",
   "execution_count": null,
   "metadata": {},
   "outputs": [],
   "source": [
    "\n"
   ]
  },
  {
   "cell_type": "code",
   "execution_count": null,
   "metadata": {},
   "outputs": [],
   "source": []
  },
  {
   "cell_type": "code",
   "execution_count": null,
   "metadata": {
    "scrolled": true
   },
   "outputs": [],
   "source": []
  },
  {
   "cell_type": "markdown",
   "metadata": {},
   "source": []
  },
  {
   "cell_type": "code",
   "execution_count": null,
   "metadata": {},
   "outputs": [],
   "source": []
  },
  {
   "cell_type": "code",
   "execution_count": 22,
   "metadata": {},
   "outputs": [],
   "source": []
  },
  {
   "cell_type": "code",
   "execution_count": 75,
   "metadata": {},
   "outputs": [],
   "source": [
    "\n",
    "p = price.loc[:,['TSLA','CSCO']]    "
   ]
  },
  {
   "cell_type": "code",
   "execution_count": 81,
   "metadata": {},
   "outputs": [
    {
     "data": {
      "text/html": [
       "<div>\n",
       "<style scoped>\n",
       "    .dataframe tbody tr th:only-of-type {\n",
       "        vertical-align: middle;\n",
       "    }\n",
       "\n",
       "    .dataframe tbody tr th {\n",
       "        vertical-align: top;\n",
       "    }\n",
       "\n",
       "    .dataframe thead th {\n",
       "        text-align: right;\n",
       "    }\n",
       "</style>\n",
       "<table border=\"1\" class=\"dataframe\">\n",
       "  <thead>\n",
       "    <tr style=\"text-align: right;\">\n",
       "      <th></th>\n",
       "      <th>D</th>\n",
       "      <th>W</th>\n",
       "      <th>M</th>\n",
       "      <th>3M</th>\n",
       "      <th>6M</th>\n",
       "      <th>A</th>\n",
       "      <th>YTD</th>\n",
       "    </tr>\n",
       "  </thead>\n",
       "  <tbody>\n",
       "    <tr>\n",
       "      <th>TSLA</th>\n",
       "      <td>-2.14%</td>\n",
       "      <td>2.48%</td>\n",
       "      <td>24.33%</td>\n",
       "      <td>64.49%</td>\n",
       "      <td>226.76%</td>\n",
       "      <td>743.44%</td>\n",
       "      <td>19.78%</td>\n",
       "    </tr>\n",
       "    <tr>\n",
       "      <th>CSCO</th>\n",
       "      <td>0.97%</td>\n",
       "      <td>-1.45%</td>\n",
       "      <td>4.02%</td>\n",
       "      <td>14.66%</td>\n",
       "      <td>-2.40%</td>\n",
       "      <td>-3.49%</td>\n",
       "      <td>3.03%</td>\n",
       "    </tr>\n",
       "  </tbody>\n",
       "</table>\n",
       "</div>"
      ],
      "text/plain": [
       "           D       W       M      3M       6M        A     YTD\n",
       "TSLA  -2.14%   2.48%  24.33%  64.49%  226.76%  743.44%  19.78%\n",
       "CSCO   0.97%  -1.45%   4.02%  14.66%   -2.40%   -3.49%   3.03%"
      ]
     },
     "execution_count": 81,
     "metadata": {},
     "output_type": "execute_result"
    }
   ],
   "source": [
    "df = Performance(p)\n",
    "\n",
    "df"
   ]
  },
  {
   "cell_type": "code",
   "execution_count": 110,
   "metadata": {},
   "outputs": [
    {
     "data": {
      "text/html": [
       "\n",
       "<div id=\"altair-viz-a2607c0397e34832890ab59fba800f71\"></div>\n",
       "<script type=\"text/javascript\">\n",
       "  (function(spec, embedOpt){\n",
       "    let outputDiv = document.currentScript.previousElementSibling;\n",
       "    if (outputDiv.id !== \"altair-viz-a2607c0397e34832890ab59fba800f71\") {\n",
       "      outputDiv = document.getElementById(\"altair-viz-a2607c0397e34832890ab59fba800f71\");\n",
       "    }\n",
       "    const paths = {\n",
       "      \"vega\": \"https://cdn.jsdelivr.net/npm//vega@5?noext\",\n",
       "      \"vega-lib\": \"https://cdn.jsdelivr.net/npm//vega-lib?noext\",\n",
       "      \"vega-lite\": \"https://cdn.jsdelivr.net/npm//vega-lite@4.8.1?noext\",\n",
       "      \"vega-embed\": \"https://cdn.jsdelivr.net/npm//vega-embed@6?noext\",\n",
       "    };\n",
       "\n",
       "    function loadScript(lib) {\n",
       "      return new Promise(function(resolve, reject) {\n",
       "        var s = document.createElement('script');\n",
       "        s.src = paths[lib];\n",
       "        s.async = true;\n",
       "        s.onload = () => resolve(paths[lib]);\n",
       "        s.onerror = () => reject(`Error loading script: ${paths[lib]}`);\n",
       "        document.getElementsByTagName(\"head\")[0].appendChild(s);\n",
       "      });\n",
       "    }\n",
       "\n",
       "    function showError(err) {\n",
       "      outputDiv.innerHTML = `<div class=\"error\" style=\"color:red;\">${err}</div>`;\n",
       "      throw err;\n",
       "    }\n",
       "\n",
       "    function displayChart(vegaEmbed) {\n",
       "      vegaEmbed(outputDiv, spec, embedOpt)\n",
       "        .catch(err => showError(`Javascript Error: ${err.message}<br>This usually means there's a typo in your chart specification. See the javascript console for the full traceback.`));\n",
       "    }\n",
       "\n",
       "    if(typeof define === \"function\" && define.amd) {\n",
       "      requirejs.config({paths});\n",
       "      require([\"vega-embed\"], displayChart, err => showError(`Error loading script: ${err.message}`));\n",
       "    } else if (typeof vegaEmbed === \"function\") {\n",
       "      displayChart(vegaEmbed);\n",
       "    } else {\n",
       "      loadScript(\"vega\")\n",
       "        .then(() => loadScript(\"vega-lite\"))\n",
       "        .then(() => loadScript(\"vega-embed\"))\n",
       "        .catch(showError)\n",
       "        .then(() => displayChart(vegaEmbed));\n",
       "    }\n",
       "  })({\"config\": {\"view\": {\"continuousWidth\": 400, \"continuousHeight\": 300}}, \"data\": {\"name\": \"data-fe667899826c2f5ed4dcab460a3d17d9\"}, \"mark\": \"bar\", \"encoding\": {\"x\": {\"type\": \"nominal\", \"field\": \"value\"}, \"y\": {\"type\": \"quantitative\", \"aggregate\": \"count\"}}, \"$schema\": \"https://vega.github.io/schema/vega-lite/v4.8.1.json\", \"datasets\": {\"data-fe667899826c2f5ed4dcab460a3d17d9\": [{\"Clustering\": 0}, {\"Clustering\": 0}, {\"Clustering\": 3}, {\"Clustering\": 0}, {\"Clustering\": 3}, {\"Clustering\": 3}, {\"Clustering\": 3}, {\"Clustering\": 1}, {\"Clustering\": 0}, {\"Clustering\": 1}, {\"Clustering\": 3}, {\"Clustering\": 0}, {\"Clustering\": 0}, {\"Clustering\": 2}, {\"Clustering\": 3}, {\"Clustering\": 0}, {\"Clustering\": 3}, {\"Clustering\": 3}, {\"Clustering\": 1}, {\"Clustering\": 1}, {\"Clustering\": 0}, {\"Clustering\": 0}, {\"Clustering\": 0}, {\"Clustering\": 1}, {\"Clustering\": 3}, {\"Clustering\": 0}, {\"Clustering\": 0}, {\"Clustering\": 2}, {\"Clustering\": 1}, {\"Clustering\": 1}, {\"Clustering\": 1}, {\"Clustering\": 0}, {\"Clustering\": 0}, {\"Clustering\": 0}, {\"Clustering\": 0}, {\"Clustering\": 0}, {\"Clustering\": 0}, {\"Clustering\": 0}, {\"Clustering\": 0}, {\"Clustering\": 3}, {\"Clustering\": 1}, {\"Clustering\": 0}, {\"Clustering\": 0}, {\"Clustering\": 2}, {\"Clustering\": 3}, {\"Clustering\": 3}, {\"Clustering\": 3}, {\"Clustering\": 0}, {\"Clustering\": 3}, {\"Clustering\": 0}, {\"Clustering\": 0}, {\"Clustering\": 1}, {\"Clustering\": 1}, {\"Clustering\": 3}, {\"Clustering\": 0}, {\"Clustering\": 1}, {\"Clustering\": 1}, {\"Clustering\": 0}, {\"Clustering\": 1}, {\"Clustering\": 0}, {\"Clustering\": 1}, {\"Clustering\": 1}, {\"Clustering\": 1}, {\"Clustering\": 0}, {\"Clustering\": 0}, {\"Clustering\": 0}, {\"Clustering\": 3}, {\"Clustering\": 1}, {\"Clustering\": 3}, {\"Clustering\": 2}, {\"Clustering\": 1}, {\"Clustering\": 1}, {\"Clustering\": 1}, {\"Clustering\": 1}, {\"Clustering\": 0}, {\"Clustering\": 3}, {\"Clustering\": 0}, {\"Clustering\": 0}, {\"Clustering\": 0}, {\"Clustering\": 0}, {\"Clustering\": 3}, {\"Clustering\": 0}, {\"Clustering\": 1}, {\"Clustering\": 0}, {\"Clustering\": 3}, {\"Clustering\": 2}, {\"Clustering\": 4}, {\"Clustering\": 3}, {\"Clustering\": 0}, {\"Clustering\": 1}, {\"Clustering\": 1}, {\"Clustering\": 1}, {\"Clustering\": 1}, {\"Clustering\": 1}, {\"Clustering\": 1}, {\"Clustering\": 0}, {\"Clustering\": 1}, {\"Clustering\": 0}, {\"Clustering\": 0}, {\"Clustering\": 1}, {\"Clustering\": 3}, {\"Clustering\": 1}, {\"Clustering\": 0}, {\"Clustering\": 0}, {\"Clustering\": 1}, {\"Clustering\": 0}, {\"Clustering\": 0}, {\"Clustering\": 1}, {\"Clustering\": 1}, {\"Clustering\": 0}, {\"Clustering\": 3}, {\"Clustering\": 1}, {\"Clustering\": 1}, {\"Clustering\": 1}, {\"Clustering\": 0}, {\"Clustering\": 0}, {\"Clustering\": 0}, {\"Clustering\": 1}, {\"Clustering\": 0}, {\"Clustering\": 1}, {\"Clustering\": 2}, {\"Clustering\": 1}, {\"Clustering\": 0}, {\"Clustering\": 0}, {\"Clustering\": 0}, {\"Clustering\": 0}, {\"Clustering\": 3}, {\"Clustering\": 0}, {\"Clustering\": 0}, {\"Clustering\": 0}, {\"Clustering\": 3}, {\"Clustering\": 0}, {\"Clustering\": 3}, {\"Clustering\": 3}, {\"Clustering\": 1}, {\"Clustering\": 3}, {\"Clustering\": 3}, {\"Clustering\": 2}, {\"Clustering\": 1}, {\"Clustering\": 2}, {\"Clustering\": 3}, {\"Clustering\": 2}, {\"Clustering\": 0}, {\"Clustering\": 1}, {\"Clustering\": 0}, {\"Clustering\": 0}, {\"Clustering\": 1}, {\"Clustering\": 0}, {\"Clustering\": 0}, {\"Clustering\": 1}, {\"Clustering\": 0}, {\"Clustering\": 0}, {\"Clustering\": 1}, {\"Clustering\": 1}, {\"Clustering\": 0}, {\"Clustering\": 0}, {\"Clustering\": 0}, {\"Clustering\": 2}, {\"Clustering\": 0}, {\"Clustering\": 0}, {\"Clustering\": 3}, {\"Clustering\": 0}, {\"Clustering\": 1}, {\"Clustering\": 0}, {\"Clustering\": 0}, {\"Clustering\": 0}, {\"Clustering\": 4}, {\"Clustering\": 1}, {\"Clustering\": 2}, {\"Clustering\": 0}, {\"Clustering\": 0}, {\"Clustering\": 1}, {\"Clustering\": 1}, {\"Clustering\": 0}, {\"Clustering\": 4}, {\"Clustering\": 1}, {\"Clustering\": 0}, {\"Clustering\": 1}, {\"Clustering\": 1}, {\"Clustering\": 0}, {\"Clustering\": 0}, {\"Clustering\": 0}, {\"Clustering\": 1}, {\"Clustering\": 3}, {\"Clustering\": 0}, {\"Clustering\": 0}, {\"Clustering\": 1}, {\"Clustering\": 3}, {\"Clustering\": 1}, {\"Clustering\": 1}, {\"Clustering\": 1}, {\"Clustering\": 0}, {\"Clustering\": 1}, {\"Clustering\": 1}, {\"Clustering\": 1}, {\"Clustering\": 1}, {\"Clustering\": 0}, {\"Clustering\": 0}, {\"Clustering\": 3}, {\"Clustering\": 0}, {\"Clustering\": 3}, {\"Clustering\": 1}, {\"Clustering\": 1}, {\"Clustering\": 0}, {\"Clustering\": 3}, {\"Clustering\": 1}, {\"Clustering\": 0}, {\"Clustering\": 0}, {\"Clustering\": 1}, {\"Clustering\": 1}, {\"Clustering\": 0}, {\"Clustering\": 3}, {\"Clustering\": 1}, {\"Clustering\": 0}, {\"Clustering\": 1}, {\"Clustering\": 1}, {\"Clustering\": 0}, {\"Clustering\": 0}, {\"Clustering\": 2}, {\"Clustering\": 0}, {\"Clustering\": 1}, {\"Clustering\": 1}, {\"Clustering\": 0}, {\"Clustering\": 1}, {\"Clustering\": 0}, {\"Clustering\": 0}, {\"Clustering\": 1}, {\"Clustering\": 1}, {\"Clustering\": 1}, {\"Clustering\": 2}, {\"Clustering\": 3}, {\"Clustering\": 0}, {\"Clustering\": 0}, {\"Clustering\": 0}, {\"Clustering\": 1}, {\"Clustering\": 1}, {\"Clustering\": 0}, {\"Clustering\": 0}, {\"Clustering\": 1}, {\"Clustering\": 1}, {\"Clustering\": 0}, {\"Clustering\": 3}, {\"Clustering\": 0}, {\"Clustering\": 0}, {\"Clustering\": 0}, {\"Clustering\": 0}, {\"Clustering\": 0}, {\"Clustering\": 1}, {\"Clustering\": 0}, {\"Clustering\": 1}, {\"Clustering\": 0}, {\"Clustering\": 0}, {\"Clustering\": 1}, {\"Clustering\": 3}, {\"Clustering\": 0}, {\"Clustering\": 0}, {\"Clustering\": 3}, {\"Clustering\": 0}, {\"Clustering\": 0}, {\"Clustering\": 0}, {\"Clustering\": 0}, {\"Clustering\": 0}, {\"Clustering\": 0}, {\"Clustering\": 0}, {\"Clustering\": 0}, {\"Clustering\": 1}, {\"Clustering\": 0}, {\"Clustering\": 3}, {\"Clustering\": 0}, {\"Clustering\": 1}, {\"Clustering\": 3}, {\"Clustering\": 0}, {\"Clustering\": 1}, {\"Clustering\": 1}, {\"Clustering\": 3}, {\"Clustering\": 0}, {\"Clustering\": 0}, {\"Clustering\": 3}, {\"Clustering\": 1}, {\"Clustering\": 0}, {\"Clustering\": 3}, {\"Clustering\": 1}, {\"Clustering\": 1}, {\"Clustering\": 1}, {\"Clustering\": 0}, {\"Clustering\": 3}, {\"Clustering\": 3}, {\"Clustering\": 2}, {\"Clustering\": 0}, {\"Clustering\": 1}, {\"Clustering\": 1}, {\"Clustering\": 1}, {\"Clustering\": 1}, {\"Clustering\": 3}, {\"Clustering\": 3}, {\"Clustering\": 1}, {\"Clustering\": 1}, {\"Clustering\": 2}, {\"Clustering\": 2}, {\"Clustering\": 3}, {\"Clustering\": 1}, {\"Clustering\": 0}, {\"Clustering\": 1}, {\"Clustering\": 0}, {\"Clustering\": 0}, {\"Clustering\": 0}, {\"Clustering\": 3}, {\"Clustering\": 0}, {\"Clustering\": 0}, {\"Clustering\": 0}, {\"Clustering\": 1}, {\"Clustering\": 1}, {\"Clustering\": 3}, {\"Clustering\": 2}, {\"Clustering\": 3}, {\"Clustering\": 3}, {\"Clustering\": 3}, {\"Clustering\": 0}, {\"Clustering\": 1}, {\"Clustering\": 0}, {\"Clustering\": 0}, {\"Clustering\": 0}, {\"Clustering\": 0}, {\"Clustering\": 3}, {\"Clustering\": 0}, {\"Clustering\": 0}, {\"Clustering\": 3}, {\"Clustering\": 0}, {\"Clustering\": 0}, {\"Clustering\": 3}, {\"Clustering\": 3}, {\"Clustering\": 3}, {\"Clustering\": 3}, {\"Clustering\": 0}, {\"Clustering\": 3}, {\"Clustering\": 0}, {\"Clustering\": 0}, {\"Clustering\": 1}, {\"Clustering\": 0}, {\"Clustering\": 1}, {\"Clustering\": 1}, {\"Clustering\": 3}, {\"Clustering\": 2}, {\"Clustering\": 2}, {\"Clustering\": 0}, {\"Clustering\": 1}, {\"Clustering\": 3}, {\"Clustering\": 0}, {\"Clustering\": 0}, {\"Clustering\": 2}, {\"Clustering\": 3}, {\"Clustering\": 1}, {\"Clustering\": 2}, {\"Clustering\": 0}, {\"Clustering\": 3}, {\"Clustering\": 0}, {\"Clustering\": 0}, {\"Clustering\": 0}, {\"Clustering\": 0}, {\"Clustering\": 3}, {\"Clustering\": 3}, {\"Clustering\": 0}, {\"Clustering\": 1}, {\"Clustering\": 0}, {\"Clustering\": 3}, {\"Clustering\": 1}, {\"Clustering\": 0}, {\"Clustering\": 0}, {\"Clustering\": 2}, {\"Clustering\": 1}, {\"Clustering\": 2}, {\"Clustering\": 1}, {\"Clustering\": 3}, {\"Clustering\": 0}, {\"Clustering\": 1}, {\"Clustering\": 1}, {\"Clustering\": 0}, {\"Clustering\": 0}, {\"Clustering\": 0}, {\"Clustering\": 1}, {\"Clustering\": 0}, {\"Clustering\": 0}, {\"Clustering\": 0}, {\"Clustering\": 2}, {\"Clustering\": 3}, {\"Clustering\": 3}, {\"Clustering\": 3}, {\"Clustering\": 0}, {\"Clustering\": 1}, {\"Clustering\": 0}, {\"Clustering\": 1}, {\"Clustering\": 1}, {\"Clustering\": 1}, {\"Clustering\": 3}, {\"Clustering\": 1}, {\"Clustering\": 0}, {\"Clustering\": 3}, {\"Clustering\": 0}, {\"Clustering\": 0}, {\"Clustering\": 3}, {\"Clustering\": 0}, {\"Clustering\": 1}, {\"Clustering\": 2}, {\"Clustering\": 0}, {\"Clustering\": 3}, {\"Clustering\": 0}, {\"Clustering\": 2}, {\"Clustering\": 0}, {\"Clustering\": 0}, {\"Clustering\": 1}, {\"Clustering\": 3}, {\"Clustering\": 0}, {\"Clustering\": 2}, {\"Clustering\": 3}, {\"Clustering\": 1}, {\"Clustering\": 0}, {\"Clustering\": 0}, {\"Clustering\": 1}, {\"Clustering\": 0}, {\"Clustering\": 0}, {\"Clustering\": 1}, {\"Clustering\": 0}, {\"Clustering\": 0}, {\"Clustering\": 3}, {\"Clustering\": 1}, {\"Clustering\": 3}, {\"Clustering\": 1}, {\"Clustering\": 3}, {\"Clustering\": 3}, {\"Clustering\": 3}, {\"Clustering\": 1}, {\"Clustering\": 3}, {\"Clustering\": 0}, {\"Clustering\": 2}, {\"Clustering\": 0}, {\"Clustering\": 0}, {\"Clustering\": 3}, {\"Clustering\": 4}, {\"Clustering\": 0}, {\"Clustering\": 1}, {\"Clustering\": 3}, {\"Clustering\": 0}, {\"Clustering\": 3}, {\"Clustering\": 3}, {\"Clustering\": 1}, {\"Clustering\": 0}, {\"Clustering\": 1}, {\"Clustering\": 3}, {\"Clustering\": 3}, {\"Clustering\": 1}, {\"Clustering\": 1}, {\"Clustering\": 0}, {\"Clustering\": 1}, {\"Clustering\": 1}, {\"Clustering\": 1}, {\"Clustering\": 0}, {\"Clustering\": 2}, {\"Clustering\": 0}, {\"Clustering\": 3}, {\"Clustering\": 3}, {\"Clustering\": 1}, {\"Clustering\": 1}, {\"Clustering\": 2}, {\"Clustering\": 0}, {\"Clustering\": 1}, {\"Clustering\": 0}, {\"Clustering\": 0}, {\"Clustering\": 0}, {\"Clustering\": 0}, {\"Clustering\": 1}, {\"Clustering\": 0}, {\"Clustering\": 1}, {\"Clustering\": 0}, {\"Clustering\": 3}, {\"Clustering\": 2}, {\"Clustering\": 0}, {\"Clustering\": 1}, {\"Clustering\": 1}, {\"Clustering\": 0}, {\"Clustering\": 1}, {\"Clustering\": 0}, {\"Clustering\": 0}, {\"Clustering\": 0}, {\"Clustering\": 0}, {\"Clustering\": 2}, {\"Clustering\": 1}, {\"Clustering\": 3}, {\"Clustering\": 1}, {\"Clustering\": 1}, {\"Clustering\": 1}, {\"Clustering\": 1}, {\"Clustering\": 3}, {\"Clustering\": 1}, {\"Clustering\": 0}, {\"Clustering\": 2}, {\"Clustering\": 0}, {\"Clustering\": 2}, {\"Clustering\": 3}, {\"Clustering\": 0}, {\"Clustering\": 0}, {\"Clustering\": 3}, {\"Clustering\": 0}, {\"Clustering\": 1}, {\"Clustering\": 0}]}}, {\"mode\": \"vega-lite\"});\n",
       "</script>"
      ],
      "text/plain": [
       "alt.Chart(...)"
      ]
     },
     "execution_count": 110,
     "metadata": {},
     "output_type": "execute_result"
    }
   ],
   "source": [
    "import altair as alt\n",
    "\n",
    "df = cluster_labels\n",
    "\n",
    "alt.Chart(df).mark_bar().encode(\n",
    "    x='value:N',\n",
    "    y='count():Q'\n",
    ")"
   ]
  },
  {
   "cell_type": "code",
   "execution_count": 112,
   "metadata": {},
   "outputs": [
    {
     "data": {
      "text/plain": [
       "<function ndarray.argpartition>"
      ]
     },
     "execution_count": 112,
     "metadata": {},
     "output_type": "execute_result"
    }
   ],
   "source": [
    "cluster_labels.values.partic"
   ]
  },
  {
   "cell_type": "code",
   "execution_count": null,
   "metadata": {},
   "outputs": [],
   "source": []
  },
  {
   "cell_type": "code",
   "execution_count": null,
   "metadata": {},
   "outputs": [],
   "source": [
    "                                                                                                                                                                                                                                                                                                                                                                                                                                                                                                                                                    "
   ]
  },
  {
   "cell_type": "code",
   "execution_count": null,
   "metadata": {},
   "outputs": [],
   "source": []
  },
  {
   "cell_type": "code",
   "execution_count": null,
   "metadata": {},
   "outputs": [],
   "source": []
  },
  {
   "cell_type": "code",
   "execution_count": 14,
   "metadata": {},
   "outputs": [
    {
     "name": "stdout",
     "output_type": "stream",
     "text": [
      "Populating the interactive namespace from numpy and matplotlib\n"
     ]
    },
    {
     "name": "stderr",
     "output_type": "stream",
     "text": [
      "/Users/datapro/opt/anaconda3/lib/python3.8/site-packages/IPython/core/magics/pylab.py:159: UserWarning: pylab import has clobbered these variables: ['info', 'f', 'datetime', 'sqrt', 'cov']\n",
      "`%matplotlib` prevents importing * from pylab and numpy\n",
      "  warn(\"pylab import has clobbered these variables: %s\"  % clobbered +\n"
     ]
    },
    {
     "data": {
      "text/plain": [
       "<module 'matplotlib.pyplot' from '/Users/datapro/opt/anaconda3/lib/python3.8/site-packages/matplotlib/pyplot.py'>"
      ]
     },
     "execution_count": 14,
     "metadata": {},
     "output_type": "execute_result"
    },
    {
     "data": {
      "image/png": "[encoded data removed]",
      "text/plain": [
       "<Figure size 432x288 with 2 Axes>"
      ]
     },
     "metadata": {
      "needs_background": "light"
     },
     "output_type": "display_data"
    }
   ],
   "source": [
    "%pylab inline\n",
    "\n",
    "returns.plot_corr_heatmap()\n",
    "\n"
   ]
  },
  {
   "cell_type": "code",
   "execution_count": 174,
   "metadata": {},
   "outputs": [],
   "source": [
    "US_index = ['^GSPC','^IXIC']\n",
    "gold = 'GC=F'\n",
    "oil  = 'CL=F'\n",
    "bitcoin = 'BTC-USD'"
   ]
  },
  {
   "cell_type": "code",
   "execution_count": 73,
   "metadata": {
    "scrolled": true
   },
   "outputs": [
    {
     "ename": "SyntaxError",
     "evalue": "invalid syntax (<ipython-input-73-c2d6bda2dda6>, line 1)",
     "output_type": "error",
     "traceback": [
      "\u001b[0;36m  File \u001b[0;32m\"<ipython-input-73-c2d6bda2dda6>\"\u001b[0;36m, line \u001b[0;32m1\u001b[0m\n\u001b[0;31m    cluster_labels.\u001b[0m\n\u001b[0m                   ^\u001b[0m\n\u001b[0;31mSyntaxError\u001b[0m\u001b[0;31m:\u001b[0m invalid syntax\n"
     ]
    }
   ],
   "source": [
    "cluster_labels.\n"
   ]
  },
  {
   "cell_type": "code",
   "execution_count": 81,
   "metadata": {},
   "outputs": [
    {
     "name": "stdout",
     "output_type": "stream",
     "text": [
      "Esto\n"
     ]
    }
   ],
   "source": [
    "\n",
    "#tupper[tupper['Clustering']==4].sort_values(by='Sharpe',ascending = False).head(5)\n",
    "\n",
    "\n",
    "tupper_now = pd.read_csv('data/tupper_'+end_date+'.csv', index_col='ticker')\n",
    "\n",
    "portfolio = ['NIO','PTON','TSLA']\n",
    "\n",
    "df = tupper.iloc[:,[0,1]]\n",
    "\n",
    "if df.index.isin(['TSLA']).any() == True:\n",
    "    \n",
    "else:\n",
    "    df.append()\n"
   ]
  },
  {
   "cell_type": "code",
   "execution_count": 72,
   "metadata": {},
   "outputs": [
    {
     "data": {
      "text/html": [
       "<div>\n",
       "<style scoped>\n",
       "    .dataframe tbody tr th:only-of-type {\n",
       "        vertical-align: middle;\n",
       "    }\n",
       "\n",
       "    .dataframe tbody tr th {\n",
       "        vertical-align: top;\n",
       "    }\n",
       "\n",
       "    .dataframe thead th {\n",
       "        text-align: right;\n",
       "    }\n",
       "</style>\n",
       "<table border=\"1\" class=\"dataframe\">\n",
       "  <thead>\n",
       "    <tr style=\"text-align: right;\">\n",
       "      <th></th>\n",
       "      <th>Exp Return</th>\n",
       "      <th>Volatility</th>\n",
       "      <th>Sharpe</th>\n",
       "      <th>Min_Corr</th>\n",
       "      <th>Corr_value</th>\n",
       "    </tr>\n",
       "    <tr>\n",
       "      <th>ticker</th>\n",
       "      <th></th>\n",
       "      <th></th>\n",
       "      <th></th>\n",
       "      <th></th>\n",
       "      <th></th>\n",
       "    </tr>\n",
       "  </thead>\n",
       "  <tbody>\n",
       "    <tr>\n",
       "      <th>MMM</th>\n",
       "      <td>0.082392</td>\n",
       "      <td>0.367006</td>\n",
       "      <td>0.224497</td>\n",
       "      <td>VNT</td>\n",
       "      <td>0.063177</td>\n",
       "    </tr>\n",
       "    <tr>\n",
       "      <th>ABBV</th>\n",
       "      <td>0.200927</td>\n",
       "      <td>0.343440</td>\n",
       "      <td>0.585044</td>\n",
       "      <td>NEM</td>\n",
       "      <td>0.121352</td>\n",
       "    </tr>\n",
       "    <tr>\n",
       "      <th>ABMD</th>\n",
       "      <td>0.712941</td>\n",
       "      <td>0.458253</td>\n",
       "      <td>1.555781</td>\n",
       "      <td>KR</td>\n",
       "      <td>0.054239</td>\n",
       "    </tr>\n",
       "    <tr>\n",
       "      <th>ACN</th>\n",
       "      <td>0.169539</td>\n",
       "      <td>0.400641</td>\n",
       "      <td>0.423168</td>\n",
       "      <td>KR</td>\n",
       "      <td>0.201943</td>\n",
       "    </tr>\n",
       "    <tr>\n",
       "      <th>ATVI</th>\n",
       "      <td>0.402349</td>\n",
       "      <td>0.379823</td>\n",
       "      <td>1.059306</td>\n",
       "      <td>OTIS</td>\n",
       "      <td>-0.087953</td>\n",
       "    </tr>\n",
       "    <tr>\n",
       "      <th>...</th>\n",
       "      <td>...</td>\n",
       "      <td>...</td>\n",
       "      <td>...</td>\n",
       "      <td>...</td>\n",
       "      <td>...</td>\n",
       "    </tr>\n",
       "    <tr>\n",
       "      <th>YUM</th>\n",
       "      <td>0.033956</td>\n",
       "      <td>0.418083</td>\n",
       "      <td>0.081218</td>\n",
       "      <td>CLX</td>\n",
       "      <td>-0.027267</td>\n",
       "    </tr>\n",
       "    <tr>\n",
       "      <th>ZBRA</th>\n",
       "      <td>0.400108</td>\n",
       "      <td>0.481007</td>\n",
       "      <td>0.831813</td>\n",
       "      <td>NEM</td>\n",
       "      <td>0.157344</td>\n",
       "    </tr>\n",
       "    <tr>\n",
       "      <th>ZBH</th>\n",
       "      <td>0.051616</td>\n",
       "      <td>0.480893</td>\n",
       "      <td>0.107334</td>\n",
       "      <td>CPB</td>\n",
       "      <td>-0.083091</td>\n",
       "    </tr>\n",
       "    <tr>\n",
       "      <th>ZION</th>\n",
       "      <td>-0.091475</td>\n",
       "      <td>0.581623</td>\n",
       "      <td>-0.157275</td>\n",
       "      <td>KR</td>\n",
       "      <td>-0.108818</td>\n",
       "    </tr>\n",
       "    <tr>\n",
       "      <th>ZTS</th>\n",
       "      <td>0.172714</td>\n",
       "      <td>0.382386</td>\n",
       "      <td>0.451675</td>\n",
       "      <td>KR</td>\n",
       "      <td>0.083827</td>\n",
       "    </tr>\n",
       "  </tbody>\n",
       "</table>\n",
       "<p>504 rows × 5 columns</p>\n",
       "</div>"
      ],
      "text/plain": [
       "        Exp Return  Volatility    Sharpe Min_Corr  Corr_value\n",
       "ticker                                                       \n",
       "MMM       0.082392    0.367006  0.224497      VNT    0.063177\n",
       "ABBV      0.200927    0.343440  0.585044      NEM    0.121352\n",
       "ABMD      0.712941    0.458253  1.555781       KR    0.054239\n",
       "ACN       0.169539    0.400641  0.423168       KR    0.201943\n",
       "ATVI      0.402349    0.379823  1.059306     OTIS   -0.087953\n",
       "...            ...         ...       ...      ...         ...\n",
       "YUM       0.033956    0.418083  0.081218      CLX   -0.027267\n",
       "ZBRA      0.400108    0.481007  0.831813      NEM    0.157344\n",
       "ZBH       0.051616    0.480893  0.107334      CPB   -0.083091\n",
       "ZION     -0.091475    0.581623 -0.157275       KR   -0.108818\n",
       "ZTS       0.172714    0.382386  0.451675       KR    0.083827\n",
       "\n",
       "[504 rows x 5 columns]"
      ]
     },
     "execution_count": 72,
     "metadata": {},
     "output_type": "execute_result"
    }
   ],
   "source": [
    "df.append(df2)"
   ]
  },
  {
   "cell_type": "code",
   "execution_count": null,
   "metadata": {},
   "outputs": [],
   "source": []
  }
 ],
 "metadata": {
  "kernelspec": {
   "display_name": "Python 3",
   "language": "python",
   "name": "python3"
  },
  "language_info": {
   "codemirror_mode": {
    "name": "ipython",
    "version": 3
   },
   "file_extension": ".py",
   "mimetype": "text/x-python",
   "name": "python",
   "nbconvert_exporter": "python",
   "pygments_lexer": "ipython3",
   "version": "3.8.5"
  }
 },
 "nbformat": 4,
 "nbformat_minor": 4
}
