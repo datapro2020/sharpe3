{
 "cells": [
  {
   "cell_type": "code",
   "execution_count": 4,
   "metadata": {},
   "outputs": [],
   "source": [
    "import justpy as jp\n",
    "\n",
    "\n",
    "\n",
    "button_classes = 'bg-transparent hover:bg-blue-500 text-blue-700 font-semibold hover:text-white py-2 px-4 border border-blue-500 hover:border-transparent rounded m-2'\n",
    "input_classes = 'border m-2 p-2'\n",
    "\n",
    "\n",
    "def main_test():\n",
    "    wp = jp.WebPage()\n",
    "    wp.display_url = '/search'\n",
    "\n",
    "    form1 = jp.Form(a=wp, classes='border m-1 p-1 w-64')\n",
    "\n",
    "    user_label = jp.Label(text='Stock', classes='block uppercase tracking-wide text-gray-700 text-xs font-bold mb-2', a=form1)\n",
    "    in1 = jp.Input(placeholder='Stock', a=form1, classes='form-input')\n",
    "    user_label.for_component = in1\n",
    "\n",
    "    \n",
    "    submit_button = jp.Input(value='Search', type='submit', a=form1, classes=button_classes)\n",
    "\n",
    "    def submit_form(self, msg):\n",
    "        print(msg)\n",
    "        msg.page.redirect = '/dashboard'\n",
    "        session_data[msg.session_id] = msg.form_data\n",
    "\n",
    "    form1.on('submit', submit_form)\n",
    "\n",
    "    return wp\n",
    "\n",
    "@jp.SetRoute('/dashboard')\n",
    "def form_submitted(request):\n",
    "    wp = jp.WebPage()\n",
    "    wp.display_url = '/dashboard'\n",
    "    jp.Div(text='Thank you for submitting the form', a=wp, classes='text-xl m-2 p-2')\n",
    "    \n",
    "    return wp\n",
    "\n"
   ]
  },
  {
   "cell_type": "code",
   "execution_count": null,
   "metadata": {},
   "outputs": [],
   "source": [
    "wp."
   ]
  },
  {
   "cell_type": "code",
   "execution_count": null,
   "metadata": {},
   "outputs": [],
   "source": []
  }
 ],
 "metadata": {
  "kernelspec": {
   "display_name": "Python 3",
   "language": "python",
   "name": "python3"
  },
  "language_info": {
   "codemirror_mode": {
    "name": "ipython",
    "version": 3
   },
   "file_extension": ".py",
   "mimetype": "text/x-python",
   "name": "python",
   "nbconvert_exporter": "python",
   "pygments_lexer": "ipython3",
   "version": "3.8.5"
  }
 },
 "nbformat": 4,
 "nbformat_minor": 4
}
