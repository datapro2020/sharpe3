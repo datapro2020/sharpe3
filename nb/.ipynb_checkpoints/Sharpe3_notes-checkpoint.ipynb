{
 "cells": [
  {
   "cell_type": "code",
   "execution_count": 2,
   "metadata": {},
   "outputs": [
    {
     "name": "stdout",
     "output_type": "stream",
     "text": [
      "DataFrame built\n"
     ]
    }
   ],
   "source": [
    "import numpy as np\n",
    "import pandas as pd\n",
    "import pandas_datareader.data as web\n",
    "from datetime import datetime, timedelta\n",
    "import matplotlib.pyplot as plt\n",
    "from sklearn.cluster import KMeans\n",
    "from math import sqrt\n",
    "import  pylab as pl\n",
    "\n",
    "D = 400\n",
    "rf = 0 #Risk free return\n",
    "\n",
    "date_D_days_ago = datetime.now() - timedelta(days=D)\n",
    "now = datetime.now()\n",
    "\n",
    "start_date = date_D_days_ago.strftime('%F')\n",
    "end_date = now.strftime('%F')\n",
    "\n",
    "#Fortmat output\n",
    "pct = lambda x: '{:.2%}'.format(x)\n",
    "dig = lambda x: '{:.2f}'.format(x)\n",
    "\n",
    "\n",
    "\n",
    "# Max Sharpe with Min correlation\n",
    "def MaxSharpe_MinCorr(new_df, sharpe, asset, num):\n",
    "    sharpe = sharpe.drop(asset)    \n",
    "    max_sharpe = sharpe.sort_values(ascending = False).head(num)\n",
    "    list_max = np.array(max_sharpe.index.values)\n",
    "    porfolio_A = new_df[list_max].corrwith(new_df[asset]).abs().sort_values(ascending = True).head(9)  \n",
    "    porfolio_A = pd.Series(porfolio_A.index.values)\n",
    "    return porfolio_A\n",
    "\n",
    "# Min correlation with Max Sharpe\n",
    "def MinCorr_MaxSharpe(new_df, asset, num):\n",
    "    porfolio_B = new_df.corrwith(new_df[asset]).abs().sort_values(ascending = True).head(num)\n",
    "    new_df = new_df[porfolio_B.index.values]\n",
    "    f_sharpe = (250**0.5)*(new_df.mean()/new_df.std())    \n",
    "    f_sharpe.sort_values(ascending = False)\n",
    "    max_sharpe = f_sharpe.head(9)\n",
    "    porfolio_B = pd.Series(max_sharpe.index.values)\n",
    "    return porfolio_B\n",
    "\n",
    "\n",
    "# Pofolio Optimization and Efficient Frontier (TO REVIEW)\n",
    "def P_Optimization(df):\n",
    "    ind_er = df.pct_change().apply(lambda x: np.log(1+x)).mean().apply(lambda x: x*250)\n",
    "    cov_matrix = df.pct_change().apply(lambda x: np.log(1+x)).cov()\n",
    "    corr_matrix = df.pct_change().apply(lambda x: np.log(1+x)).corr()\n",
    "    ann_sd = df.pct_change().apply(lambda x: np.log(1+x)).std().apply(lambda x: x*np.sqrt(250))\n",
    "\n",
    "    p_ret = [] # Define an empty array for portfolio returns\n",
    "    p_vol = [] # Define an empty array for portfolio volatility\n",
    "    p_weights = [] # Define an empty array for asset weights\n",
    "\n",
    "    num_assets = len(df.columns)\n",
    "    num_portfolios = 10000\n",
    "    \n",
    "    for portfolio in range(num_portfolios):\n",
    "        weights = np.random.random(num_assets)\n",
    "        weights = weights/np.sum(weights)\n",
    "        weights= weights.round(2)\n",
    "        p_weights.append(weights)\n",
    "        returns = np.dot(weights, ind_er) # Returns are the product of individual expected returns of asset and its \n",
    "                                      # weights \n",
    "        p_ret.append(returns)\n",
    "        var = cov_matrix.mul(weights, axis=0).mul(weights, axis=1).sum().sum()# Portfolio Variance\n",
    "        sd = np.sqrt(var) # Daily standard deviation\n",
    "        ann_sd = sd*np.sqrt(250) # Annual standard deviation = volatility\n",
    "        p_vol.append(ann_sd)\n",
    "    \n",
    "    data = {'Returns':p_ret, 'Volatility':p_vol}\n",
    "\n",
    "    for counter, symbol in enumerate(df.columns.tolist()):\n",
    "        #print(counter, symbol)\n",
    "        data[symbol+' weight'] = [w[counter] for w in p_weights]\n",
    "\n",
    "    portfolios  = pd.DataFrame(data) #Dataframe of the 10000 portfolios created\n",
    "    return portfolios\n",
    "\n",
    "def Plot_P_Optimization(porfolios,price):\n",
    "        min_vol_port = portfolios.loc[portfolios['Volatility'].idxmin()]\n",
    "        optimal_risky_port = portfolios.loc[((portfolios['Returns']- rf)/portfolios['Volatility']).idxmax()]\n",
    "        ann_mean = price.pct_change().apply(lambda x: np.log(1+x)).mean().apply(lambda x: x*250)\n",
    "        ann_std = price.pct_change().apply(lambda x: np.log(1+x)).std().apply(lambda x: x*np.sqrt(250))\n",
    "              \n",
    "        # Plotting optimal portfolio\n",
    "    #    portfolios.plot.scatter(x='Volatility', y='Returns', marker='o', s=10, alpha=0.3, grid=True, figsize=[10,10])\n",
    "        plt.subplots(figsize=(10, 10))\n",
    "        plt.scatter(portfolios['Volatility'], portfolios['Returns'], marker='o', s=10, alpha=0.3)\n",
    "        plt.xlabel('Volatility', fontsize=20)\n",
    "        plt.ylabel('Returns', fontsize=20)\n",
    "        plt.scatter(min_vol_port[1], min_vol_port[0], color='r', marker='*', s=400, label='Minimum volatility')\n",
    "        plt.legend(loc='upper left', fontsize=12)\n",
    "        plt.scatter(optimal_risky_port[1], optimal_risky_port[0], color='g', marker='*', s=400, label='Maximum Sharpe ratio')\n",
    "        plt.legend(loc='best', fontsize=12)\n",
    "                \n",
    "        #Plotting individual assets\n",
    "        for i in price.columns:\n",
    "            plt.scatter(ann_std[i], ann_mean[i], color='b' , marker='.', s=500)\n",
    "            plt.annotate('   '+i, (ann_std[i], ann_mean[i]), ha='left', va='center')\n",
    "    \n",
    "         #Saving plots to use them later    \n",
    "        plt.savefig('data/img/'+s+'_optimal_porfolio.png')\n",
    "        plt.cla()\n",
    "        plt.close('all')\n",
    "        #return \n",
    "\n",
    "#K-Means Clustering\n",
    "def Clustering(ann_mean, ann_std):\n",
    "        ret_var = pd.concat([ann_mean, ann_std], axis = 1).dropna()\n",
    "        ret_var.columns = [\"Return\",\"Volatility\"]\n",
    "\n",
    "        X =  ret_var.values #Converting ret_var into nummpy arraysse = []for k in range(2,15):\n",
    "        df = pd.DataFrame(X, index=ret_var.index, columns=['X','Y'])\n",
    "        #pl.scatter(X[:,1],X[:,0], c = kmeans.labels_, cmap =\"rainbow\")\n",
    "        #plt.scatter(centroids[:,1],centroids[:,0], marker = 'x', color = 'b', label = 'Centroids')\n",
    "        kmeans = KMeans(n_clusters = 5).fit(X)\n",
    "        centroids = kmeans.cluster_centers_\n",
    "        cluster_labels = pd.DataFrame(kmeans.labels_, index=ret_var.index, columns=['Clustering'])\n",
    "        #tupper = pd.concat([tupper, cluster_labels],axis = 1)\n",
    "        print ('Builing Clustering with the ML Library K-Means') \n",
    "        return cluster_labels\n",
    "    \n",
    "    \n",
    "#Performace for each stock\n",
    "def Performance(p):\n",
    "    window = ['D','W','M','3M','6M','A']\n",
    "    perform = pd.DataFrame(0, index = p.columns, columns=window)\n",
    "\n",
    "    for i in window:    \n",
    "        df = p.resample(i).last().pct_change().tail(2)\n",
    "        perform[i] = df.iloc[0,:].apply(pct) \n",
    "    \n",
    "    df = p.resample('Y').last().pct_change().tail(1)\n",
    "    perform['YTD'] = df.iloc[0,:].apply(pct)\n",
    "    \n",
    "    return perform\n",
    "    \n",
    "# Read industry and sectors of stock market\n",
    "info = pd.read_csv('../data/S&P500-Info.csv', index_col=['Symbol'])\n",
    "info = pd.DataFrame(info)\n",
    "\n",
    "\n",
    "\n",
    "custom_date_parser = lambda x: datetime.strptime(x,\"%Y-%m-%d\")\n",
    "price = pd.read_csv('../data/price.csv', index_col=['Date'], parse_dates=['Date'], date_parser=custom_date_parser)\n",
    "price = pd.DataFrame(price)\n",
    "\n",
    "# Read  Tickers\n",
    "tickers = price.columns\n",
    "\n",
    "\n",
    "\n",
    "# Expected annualized Return, Volatility, Correlation and Sharpe\n",
    "ann_mean = price.pct_change().apply(lambda x: np.log(1+x)).mean().apply(lambda x: x*250)\n",
    "ann_std = price.pct_change().apply(lambda x: np.log(1+x)).std().apply(lambda x: x*np.sqrt(250))\n",
    "corr = price.pct_change().apply(lambda x: np.log(1+x)).corr()\n",
    "cov  = price.pct_change().apply(lambda x: np.log(1+x)).cov()\n",
    "Sharpe = (ann_mean - rf)/ann_std\n",
    "perform_df = Performance(price)\n",
    "\n",
    "\n",
    "\n",
    "# Building Tupperware\n",
    "tupper = pd.DataFrame(ann_mean, columns=['Return'], index = tickers)\n",
    "tupper.index.name = 'ticker'\n",
    "tupper ['Volatility'] = pd.DataFrame(ann_std, columns=['Volatility'])\n",
    "tupper ['Sharpe'] = pd.DataFrame(Sharpe, columns=['Sharpe'])\n",
    "tupper ['Min_Corr'] = pd.DataFrame(corr.abs().idxmin(), columns=['Min_Corr'])\n",
    "tupper ['Corr_value'] = pd.DataFrame(corr.min(), columns=['Corr_Value'])\n",
    "tupper['Return'] = tupper['Return'].apply(pct)\n",
    "tupper['Volatility'] = tupper['Volatility'].apply(pct)\n",
    "tupper['Sharpe'] = tupper['Sharpe'].apply(dig)\n",
    "\n",
    "\n",
    "#cluster_labels = Clustering(ann_mean, ann_std)\n",
    "tupper = pd.concat([tupper, perform_df],axis = 1)\n",
    "\n",
    "\n",
    "\n",
    "tupper.to_csv('../data/tupper_'+end_date+'.csv')\n",
    "print ('DataFrame built')  \n"
   ]
  },
  {
   "cell_type": "code",
   "execution_count": 64,
   "metadata": {},
   "outputs": [],
   "source": [
    "#tupper[tupper['Clustering']==4].sort_values(by='Sharpe',ascending = False).head(5)\n",
    "\n",
    "tupper_now = pd.read_csv('data/tupper_'+end_date+'.csv', index_col='ticker')\n",
    "\n",
    "portfolio = ['NIO','PTON','TSLA']\n",
    "\n",
    "\n",
    "if tupper.index.isin(['AA']).any() ==True:\n",
    "    print('AA')\n",
    "    "
   ]
  },
  {
   "cell_type": "code",
   "execution_count": 65,
   "metadata": {},
   "outputs": [
    {
     "ename": "NameError",
     "evalue": "name 'sp500' is not defined",
     "output_type": "error",
     "traceback": [
      "\u001b[0;31m---------------------------------------------------------------------------\u001b[0m",
      "\u001b[0;31mNameError\u001b[0m                                 Traceback (most recent call last)",
      "\u001b[0;32m<ipython-input-65-733404520c8b>\u001b[0m in \u001b[0;36m<module>\u001b[0;34m\u001b[0m\n\u001b[1;32m      2\u001b[0m \u001b[0mportfolio_df\u001b[0m\u001b[0;34m[\u001b[0m\u001b[0;34m'a0'\u001b[0m\u001b[0;34m]\u001b[0m \u001b[0;34m=\u001b[0m \u001b[0mportfolio_df\u001b[0m\u001b[0;34m.\u001b[0m\u001b[0mindex\u001b[0m\u001b[0;34m.\u001b[0m\u001b[0mvalues\u001b[0m\u001b[0;34m\u001b[0m\u001b[0;34m\u001b[0m\u001b[0m\n\u001b[1;32m      3\u001b[0m \u001b[0;34m\u001b[0m\u001b[0m\n\u001b[0;32m----> 4\u001b[0;31m \u001b[0mmin_vol_port_df\u001b[0m \u001b[0;34m=\u001b[0m \u001b[0mpd\u001b[0m\u001b[0;34m.\u001b[0m\u001b[0mDataFrame\u001b[0m\u001b[0;34m(\u001b[0m\u001b[0;36m0\u001b[0m\u001b[0;34m,\u001b[0m \u001b[0mcolumns\u001b[0m \u001b[0;34m=\u001b[0m \u001b[0;34m[\u001b[0m\u001b[0;34m'mv_Returns'\u001b[0m\u001b[0;34m,\u001b[0m\u001b[0;34m'mv_Volatility'\u001b[0m\u001b[0;34m,\u001b[0m\u001b[0;34m'mv_w0'\u001b[0m\u001b[0;34m,\u001b[0m\u001b[0;34m'mv_w1'\u001b[0m\u001b[0;34m,\u001b[0m\u001b[0;34m'mv_w2'\u001b[0m\u001b[0;34m,\u001b[0m\u001b[0;34m'mv_w3'\u001b[0m\u001b[0;34m,\u001b[0m\u001b[0;34m'mv_w4'\u001b[0m\u001b[0;34m,\u001b[0m\u001b[0;34m'mv_w5'\u001b[0m\u001b[0;34m,\u001b[0m\u001b[0;34m'mv_w6'\u001b[0m\u001b[0;34m,\u001b[0m\u001b[0;34m'mv_w7'\u001b[0m\u001b[0;34m,\u001b[0m\u001b[0;34m'mv_w8'\u001b[0m\u001b[0;34m,\u001b[0m\u001b[0;34m'mv_w9'\u001b[0m\u001b[0;34m]\u001b[0m\u001b[0;34m,\u001b[0m \u001b[0mindex\u001b[0m \u001b[0;34m=\u001b[0m \u001b[0msp500\u001b[0m\u001b[0;34m)\u001b[0m\u001b[0;34m\u001b[0m\u001b[0;34m\u001b[0m\u001b[0m\n\u001b[0m\u001b[1;32m      5\u001b[0m \u001b[0moptimal_risky_port_df\u001b[0m \u001b[0;34m=\u001b[0m \u001b[0mpd\u001b[0m\u001b[0;34m.\u001b[0m\u001b[0mDataFrame\u001b[0m\u001b[0;34m(\u001b[0m\u001b[0;36m0\u001b[0m\u001b[0;34m,\u001b[0m \u001b[0mcolumns\u001b[0m \u001b[0;34m=\u001b[0m \u001b[0;34m[\u001b[0m\u001b[0;34m'or_Returns'\u001b[0m\u001b[0;34m,\u001b[0m\u001b[0;34m'or_Volatility'\u001b[0m\u001b[0;34m,\u001b[0m\u001b[0;34m'or_w0'\u001b[0m\u001b[0;34m,\u001b[0m\u001b[0;34m'or_w1'\u001b[0m\u001b[0;34m,\u001b[0m\u001b[0;34m'or_w2'\u001b[0m\u001b[0;34m,\u001b[0m\u001b[0;34m'or_w3'\u001b[0m\u001b[0;34m,\u001b[0m\u001b[0;34m'or_w4'\u001b[0m\u001b[0;34m,\u001b[0m\u001b[0;34m'or_w5'\u001b[0m\u001b[0;34m,\u001b[0m\u001b[0;34m'or_w6'\u001b[0m\u001b[0;34m,\u001b[0m\u001b[0;34m'or_w7'\u001b[0m\u001b[0;34m,\u001b[0m\u001b[0;34m'or_w8'\u001b[0m\u001b[0;34m,\u001b[0m\u001b[0;34m'or_w9'\u001b[0m\u001b[0;34m]\u001b[0m\u001b[0;34m,\u001b[0m \u001b[0mindex\u001b[0m \u001b[0;34m=\u001b[0m \u001b[0msp500\u001b[0m\u001b[0;34m)\u001b[0m\u001b[0;34m\u001b[0m\u001b[0;34m\u001b[0m\u001b[0m\n\u001b[1;32m      6\u001b[0m \u001b[0;34m\u001b[0m\u001b[0m\n",
      "\u001b[0;31mNameError\u001b[0m: name 'sp500' is not defined"
     ]
    }
   ],
   "source": [
    "\n",
    "portfolio_df= pd.DataFrame(0, columns = ['a0','a1','a2','a3','a4','a5','a6','a7','a8','a9'], index = tickers)                                            \n",
    "portfolio_df['a0'] = portfolio_df.index.values\n",
    "\n",
    "min_vol_port_df = pd.DataFrame(0, columns = ['mv_Returns','mv_Volatility','mv_w0','mv_w1','mv_w2','mv_w3','mv_w4','mv_w5','mv_w6','mv_w7','mv_w8','mv_w9'], index = sp500)\n",
    "optimal_risky_port_df = pd.DataFrame(0, columns = ['or_Returns','or_Volatility','or_w0','or_w1','or_w2','or_w3','or_w4','or_w5','or_w6','or_w7','or_w8','or_w9'], index = sp500)\n",
    "    \n",
    "\n",
    "\n",
    "#Building porfolios \n",
    "for r in portfolio_df.index.values:\n",
    "    Test_A = MaxSharpe_MinCorr(price, Sharpe, r, 100)\n",
    "    for c in range(9):\n",
    "        portfolio_df.loc[r,'a'+str(c+1)] = Test_A[c]\n",
    "         \n",
    "ti = 0\n",
    "    \n",
    "for s in portfolio_df.index.values:\n",
    "    p = price[portfolio_df.loc[s,:]]\n",
    "    ti = ti +1\n",
    "    portfolios = P_Optimization (p)\n",
    "    min_vol_port = portfolios.loc[portfolios['Volatility'].idxmin()]\n",
    "    optimal_risky_port = portfolios.loc[((portfolios['Returns']- rf)/portfolios['Volatility']).idxmax()]\n",
    "    print('Porfolio '+str(ti)+' optimized.')\n",
    "              \n",
    "    # Plotting optimal portfolio\n",
    "    #portfolios.plot.scatter(x='Volatility', y='Returns', marker='o', s=10, alpha=0.3, grid=True, figsize=[10,10])\n",
    "    #Plot_P_Optimization(portfolios,p)\n",
    "        \n",
    "    #Saving optimal porfolios weights in a DataFrame\n",
    "    min_vol_port_df.loc[s,:]  = min_vol_port.values\n",
    "    optimal_risky_port_df.loc[s,:] = optimal_risky_port.values\n",
    "    \n",
    "   \n",
    "print('\\n Porfolio creation ='+str(ti)) \n",
    "\n",
    "#Saving data\n",
    "tupper = pd.concat([tupper,info,portfolio_df,min_vol_port_df,optimal_risky_port_df], axis=1)\n",
    "tupper.to_csv('data/tupper_'+end_date+'.csv')\n",
    "\n",
    "print ('Done! /n Tupperware Data created on '+end_date)"
   ]
  },
  {
   "cell_type": "code",
   "execution_count": null,
   "metadata": {},
   "outputs": [],
   "source": []
  },
  {
   "cell_type": "code",
   "execution_count": null,
   "metadata": {},
   "outputs": [],
   "source": [
    "\n"
   ]
  },
  {
   "cell_type": "code",
   "execution_count": null,
   "metadata": {},
   "outputs": [],
   "source": []
  },
  {
   "cell_type": "code",
   "execution_count": null,
   "metadata": {
    "scrolled": true
   },
   "outputs": [],
   "source": []
  },
  {
   "cell_type": "markdown",
   "metadata": {},
   "source": []
  },
  {
   "cell_type": "code",
   "execution_count": null,
   "metadata": {},
   "outputs": [],
   "source": []
  },
  {
   "cell_type": "code",
   "execution_count": 22,
   "metadata": {},
   "outputs": [],
   "source": []
  },
  {
   "cell_type": "code",
   "execution_count": 4,
   "metadata": {},
   "outputs": [],
   "source": [
    "\n",
    "p = price.loc[:,['TSLA','CSCO']]    "
   ]
  },
  {
   "cell_type": "code",
   "execution_count": 25,
   "metadata": {},
   "outputs": [
    {
     "data": {
      "text/html": [
       "<div>\n",
       "<style scoped>\n",
       "    .dataframe tbody tr th:only-of-type {\n",
       "        vertical-align: middle;\n",
       "    }\n",
       "\n",
       "    .dataframe tbody tr th {\n",
       "        vertical-align: top;\n",
       "    }\n",
       "\n",
       "    .dataframe thead th {\n",
       "        text-align: right;\n",
       "    }\n",
       "</style>\n",
       "<table border=\"1\" class=\"dataframe\">\n",
       "  <thead>\n",
       "    <tr style=\"text-align: right;\">\n",
       "      <th></th>\n",
       "      <th>D</th>\n",
       "      <th>W</th>\n",
       "      <th>M</th>\n",
       "      <th>3M</th>\n",
       "      <th>6M</th>\n",
       "      <th>A</th>\n",
       "      <th>YTD</th>\n",
       "    </tr>\n",
       "    <tr>\n",
       "      <th>ticker</th>\n",
       "      <th></th>\n",
       "      <th></th>\n",
       "      <th></th>\n",
       "      <th></th>\n",
       "      <th></th>\n",
       "      <th></th>\n",
       "      <th></th>\n",
       "    </tr>\n",
       "  </thead>\n",
       "  <tbody>\n",
       "    <tr>\n",
       "      <th>TSLA</th>\n",
       "      <td>-2.14%</td>\n",
       "      <td>2.48%</td>\n",
       "      <td>24.33%</td>\n",
       "      <td>64.49%</td>\n",
       "      <td>226.76%</td>\n",
       "      <td>743.44%</td>\n",
       "      <td>19.78%</td>\n",
       "    </tr>\n",
       "    <tr>\n",
       "      <th>CSCO</th>\n",
       "      <td>0.97%</td>\n",
       "      <td>-1.45%</td>\n",
       "      <td>4.02%</td>\n",
       "      <td>14.66%</td>\n",
       "      <td>-2.40%</td>\n",
       "      <td>-3.49%</td>\n",
       "      <td>3.03%</td>\n",
       "    </tr>\n",
       "  </tbody>\n",
       "</table>\n",
       "</div>"
      ],
      "text/plain": [
       "             D       W       M      3M       6M        A     YTD\n",
       "ticker                                                          \n",
       "TSLA    -2.14%   2.48%  24.33%  64.49%  226.76%  743.44%  19.78%\n",
       "CSCO     0.97%  -1.45%   4.02%  14.66%   -2.40%   -3.49%   3.03%"
      ]
     },
     "execution_count": 25,
     "metadata": {},
     "output_type": "execute_result"
    }
   ],
   "source": [
    "df = Performance(p)\n",
    "\n",
    "df"
   ]
  },
  {
   "cell_type": "code",
   "execution_count": 110,
   "metadata": {},
   "outputs": [
    {
     "data": {
      "text/html": [
       "\n",
       "<div id=\"altair-viz-a2607c0397e34832890ab59fba800f71\"></div>\n",
       "<script type=\"text/javascript\">\n",
       "  (function(spec, embedOpt){\n",
       "    let outputDiv = document.currentScript.previousElementSibling;\n",
       "    if (outputDiv.id !== \"altair-viz-a2607c0397e34832890ab59fba800f71\") {\n",
       "      outputDiv = document.getElementById(\"altair-viz-a2607c0397e34832890ab59fba800f71\");\n",
       "    }\n",
       "    const paths = {\n",
       "      \"vega\": \"https://cdn.jsdelivr.net/npm//vega@5?noext\",\n",
       "      \"vega-lib\": \"https://cdn.jsdelivr.net/npm//vega-lib?noext\",\n",
       "      \"vega-lite\": \"https://cdn.jsdelivr.net/npm//vega-lite@4.8.1?noext\",\n",
       "      \"vega-embed\": \"https://cdn.jsdelivr.net/npm//vega-embed@6?noext\",\n",
       "    };\n",
       "\n",
       "    function loadScript(lib) {\n",
       "      return new Promise(function(resolve, reject) {\n",
       "        var s = document.createElement('script');\n",
       "        s.src = paths[lib];\n",
       "        s.async = true;\n",
       "        s.onload = () => resolve(paths[lib]);\n",
       "        s.onerror = () => reject(`Error loading script: ${paths[lib]}`);\n",
       "        document.getElementsByTagName(\"head\")[0].appendChild(s);\n",
       "      });\n",
       "    }\n",
       "\n",
       "    function showError(err) {\n",
       "      outputDiv.innerHTML = `<div class=\"error\" style=\"color:red;\">${err}</div>`;\n",
       "      throw err;\n",
       "    }\n",
       "\n",
       "    function displayChart(vegaEmbed) {\n",
       "      vegaEmbed(outputDiv, spec, embedOpt)\n",
       "        .catch(err => showError(`Javascript Error: ${err.message}<br>This usually means there's a typo in your chart specification. See the javascript console for the full traceback.`));\n",
       "    }\n",
       "\n",
       "    if(typeof define === \"function\" && define.amd) {\n",
       "      requirejs.config({paths});\n",
       "      require([\"vega-embed\"], displayChart, err => showError(`Error loading script: ${err.message}`));\n",
       "    } else if (typeof vegaEmbed === \"function\") {\n",
       "      displayChart(vegaEmbed);\n",
       "    } else {\n",
       "      loadScript(\"vega\")\n",
       "        .then(() => loadScript(\"vega-lite\"))\n",
       "        .then(() => loadScript(\"vega-embed\"))\n",
       "        .catch(showError)\n",
       "        .then(() => displayChart(vegaEmbed));\n",
       "    }\n",
       "  })({\"config\": {\"view\": {\"continuousWidth\": 400, \"continuousHeight\": 300}}, \"data\": {\"name\": \"data-fe667899826c2f5ed4dcab460a3d17d9\"}, \"mark\": \"bar\", \"encoding\": {\"x\": {\"type\": \"nominal\", \"field\": \"value\"}, \"y\": {\"type\": \"quantitative\", \"aggregate\": \"count\"}}, \"$schema\": \"https://vega.github.io/schema/vega-lite/v4.8.1.json\", \"datasets\": {\"data-fe667899826c2f5ed4dcab460a3d17d9\": [{\"Clustering\": 0}, {\"Clustering\": 0}, {\"Clustering\": 3}, {\"Clustering\": 0}, {\"Clustering\": 3}, {\"Clustering\": 3}, {\"Clustering\": 3}, {\"Clustering\": 1}, {\"Clustering\": 0}, {\"Clustering\": 1}, {\"Clustering\": 3}, {\"Clustering\": 0}, {\"Clustering\": 0}, {\"Clustering\": 2}, {\"Clustering\": 3}, {\"Clustering\": 0}, {\"Clustering\": 3}, {\"Clustering\": 3}, {\"Clustering\": 1}, {\"Clustering\": 1}, {\"Clustering\": 0}, {\"Clustering\": 0}, {\"Clustering\": 0}, {\"Clustering\": 1}, {\"Clustering\": 3}, {\"Clustering\": 0}, {\"Clustering\": 0}, {\"Clustering\": 2}, {\"Clustering\": 1}, {\"Clustering\": 1}, {\"Clustering\": 1}, {\"Clustering\": 0}, {\"Clustering\": 0}, {\"Clustering\": 0}, {\"Clustering\": 0}, {\"Clustering\": 0}, {\"Clustering\": 0}, {\"Clustering\": 0}, {\"Clustering\": 0}, {\"Clustering\": 3}, {\"Clustering\": 1}, {\"Clustering\": 0}, {\"Clustering\": 0}, {\"Clustering\": 2}, {\"Clustering\": 3}, {\"Clustering\": 3}, {\"Clustering\": 3}, {\"Clustering\": 0}, {\"Clustering\": 3}, {\"Clustering\": 0}, {\"Clustering\": 0}, {\"Clustering\": 1}, {\"Clustering\": 1}, {\"Clustering\": 3}, {\"Clustering\": 0}, {\"Clustering\": 1}, {\"Clustering\": 1}, {\"Clustering\": 0}, {\"Clustering\": 1}, {\"Clustering\": 0}, {\"Clustering\": 1}, {\"Clustering\": 1}, {\"Clustering\": 1}, {\"Clustering\": 0}, {\"Clustering\": 0}, {\"Clustering\": 0}, {\"Clustering\": 3}, {\"Clustering\": 1}, {\"Clustering\": 3}, {\"Clustering\": 2}, {\"Clustering\": 1}, {\"Clustering\": 1}, {\"Clustering\": 1}, {\"Clustering\": 1}, {\"Clustering\": 0}, {\"Clustering\": 3}, {\"Clustering\": 0}, {\"Clustering\": 0}, {\"Clustering\": 0}, {\"Clustering\": 0}, {\"Clustering\": 3}, {\"Clustering\": 0}, {\"Clustering\": 1}, {\"Clustering\": 0}, {\"Clustering\": 3}, {\"Clustering\": 2}, {\"Clustering\": 4}, {\"Clustering\": 3}, {\"Clustering\": 0}, {\"Clustering\": 1}, {\"Clustering\": 1}, {\"Clustering\": 1}, {\"Clustering\": 1}, {\"Clustering\": 1}, {\"Clustering\": 1}, {\"Clustering\": 0}, {\"Clustering\": 1}, {\"Clustering\": 0}, {\"Clustering\": 0}, {\"Clustering\": 1}, {\"Clustering\": 3}, {\"Clustering\": 1}, {\"Clustering\": 0}, {\"Clustering\": 0}, {\"Clustering\": 1}, {\"Clustering\": 0}, {\"Clustering\": 0}, {\"Clustering\": 1}, {\"Clustering\": 1}, {\"Clustering\": 0}, {\"Clustering\": 3}, {\"Clustering\": 1}, {\"Clustering\": 1}, {\"Clustering\": 1}, {\"Clustering\": 0}, {\"Clustering\": 0}, {\"Clustering\": 0}, {\"Clustering\": 1}, {\"Clustering\": 0}, {\"Clustering\": 1}, {\"Clustering\": 2}, {\"Clustering\": 1}, {\"Clustering\": 0}, {\"Clustering\": 0}, {\"Clustering\": 0}, {\"Clustering\": 0}, {\"Clustering\": 3}, {\"Clustering\": 0}, {\"Clustering\": 0}, {\"Clustering\": 0}, {\"Clustering\": 3}, {\"Clustering\": 0}, {\"Clustering\": 3}, {\"Clustering\": 3}, {\"Clustering\": 1}, {\"Clustering\": 3}, {\"Clustering\": 3}, {\"Clustering\": 2}, {\"Clustering\": 1}, {\"Clustering\": 2}, {\"Clustering\": 3}, {\"Clustering\": 2}, {\"Clustering\": 0}, {\"Clustering\": 1}, {\"Clustering\": 0}, {\"Clustering\": 0}, {\"Clustering\": 1}, {\"Clustering\": 0}, {\"Clustering\": 0}, {\"Clustering\": 1}, {\"Clustering\": 0}, {\"Clustering\": 0}, {\"Clustering\": 1}, {\"Clustering\": 1}, {\"Clustering\": 0}, {\"Clustering\": 0}, {\"Clustering\": 0}, {\"Clustering\": 2}, {\"Clustering\": 0}, {\"Clustering\": 0}, {\"Clustering\": 3}, {\"Clustering\": 0}, {\"Clustering\": 1}, {\"Clustering\": 0}, {\"Clustering\": 0}, {\"Clustering\": 0}, {\"Clustering\": 4}, {\"Clustering\": 1}, {\"Clustering\": 2}, {\"Clustering\": 0}, {\"Clustering\": 0}, {\"Clustering\": 1}, {\"Clustering\": 1}, {\"Clustering\": 0}, {\"Clustering\": 4}, {\"Clustering\": 1}, {\"Clustering\": 0}, {\"Clustering\": 1}, {\"Clustering\": 1}, {\"Clustering\": 0}, {\"Clustering\": 0}, {\"Clustering\": 0}, {\"Clustering\": 1}, {\"Clustering\": 3}, {\"Clustering\": 0}, {\"Clustering\": 0}, {\"Clustering\": 1}, {\"Clustering\": 3}, {\"Clustering\": 1}, {\"Clustering\": 1}, {\"Clustering\": 1}, {\"Clustering\": 0}, {\"Clustering\": 1}, {\"Clustering\": 1}, {\"Clustering\": 1}, {\"Clustering\": 1}, {\"Clustering\": 0}, {\"Clustering\": 0}, {\"Clustering\": 3}, {\"Clustering\": 0}, {\"Clustering\": 3}, {\"Clustering\": 1}, {\"Clustering\": 1}, {\"Clustering\": 0}, {\"Clustering\": 3}, {\"Clustering\": 1}, {\"Clustering\": 0}, {\"Clustering\": 0}, {\"Clustering\": 1}, {\"Clustering\": 1}, {\"Clustering\": 0}, {\"Clustering\": 3}, {\"Clustering\": 1}, {\"Clustering\": 0}, {\"Clustering\": 1}, {\"Clustering\": 1}, {\"Clustering\": 0}, {\"Clustering\": 0}, {\"Clustering\": 2}, {\"Clustering\": 0}, {\"Clustering\": 1}, {\"Clustering\": 1}, {\"Clustering\": 0}, {\"Clustering\": 1}, {\"Clustering\": 0}, {\"Clustering\": 0}, {\"Clustering\": 1}, {\"Clustering\": 1}, {\"Clustering\": 1}, {\"Clustering\": 2}, {\"Clustering\": 3}, {\"Clustering\": 0}, {\"Clustering\": 0}, {\"Clustering\": 0}, {\"Clustering\": 1}, {\"Clustering\": 1}, {\"Clustering\": 0}, {\"Clustering\": 0}, {\"Clustering\": 1}, {\"Clustering\": 1}, {\"Clustering\": 0}, {\"Clustering\": 3}, {\"Clustering\": 0}, {\"Clustering\": 0}, {\"Clustering\": 0}, {\"Clustering\": 0}, {\"Clustering\": 0}, {\"Clustering\": 1}, {\"Clustering\": 0}, {\"Clustering\": 1}, {\"Clustering\": 0}, {\"Clustering\": 0}, {\"Clustering\": 1}, {\"Clustering\": 3}, {\"Clustering\": 0}, {\"Clustering\": 0}, {\"Clustering\": 3}, {\"Clustering\": 0}, {\"Clustering\": 0}, {\"Clustering\": 0}, {\"Clustering\": 0}, {\"Clustering\": 0}, {\"Clustering\": 0}, {\"Clustering\": 0}, {\"Clustering\": 0}, {\"Clustering\": 1}, {\"Clustering\": 0}, {\"Clustering\": 3}, {\"Clustering\": 0}, {\"Clustering\": 1}, {\"Clustering\": 3}, {\"Clustering\": 0}, {\"Clustering\": 1}, {\"Clustering\": 1}, {\"Clustering\": 3}, {\"Clustering\": 0}, {\"Clustering\": 0}, {\"Clustering\": 3}, {\"Clustering\": 1}, {\"Clustering\": 0}, {\"Clustering\": 3}, {\"Clustering\": 1}, {\"Clustering\": 1}, {\"Clustering\": 1}, {\"Clustering\": 0}, {\"Clustering\": 3}, {\"Clustering\": 3}, {\"Clustering\": 2}, {\"Clustering\": 0}, {\"Clustering\": 1}, {\"Clustering\": 1}, {\"Clustering\": 1}, {\"Clustering\": 1}, {\"Clustering\": 3}, {\"Clustering\": 3}, {\"Clustering\": 1}, {\"Clustering\": 1}, {\"Clustering\": 2}, {\"Clustering\": 2}, {\"Clustering\": 3}, {\"Clustering\": 1}, {\"Clustering\": 0}, {\"Clustering\": 1}, {\"Clustering\": 0}, {\"Clustering\": 0}, {\"Clustering\": 0}, {\"Clustering\": 3}, {\"Clustering\": 0}, {\"Clustering\": 0}, {\"Clustering\": 0}, {\"Clustering\": 1}, {\"Clustering\": 1}, {\"Clustering\": 3}, {\"Clustering\": 2}, {\"Clustering\": 3}, {\"Clustering\": 3}, {\"Clustering\": 3}, {\"Clustering\": 0}, {\"Clustering\": 1}, {\"Clustering\": 0}, {\"Clustering\": 0}, {\"Clustering\": 0}, {\"Clustering\": 0}, {\"Clustering\": 3}, {\"Clustering\": 0}, {\"Clustering\": 0}, {\"Clustering\": 3}, {\"Clustering\": 0}, {\"Clustering\": 0}, {\"Clustering\": 3}, {\"Clustering\": 3}, {\"Clustering\": 3}, {\"Clustering\": 3}, {\"Clustering\": 0}, {\"Clustering\": 3}, {\"Clustering\": 0}, {\"Clustering\": 0}, {\"Clustering\": 1}, {\"Clustering\": 0}, {\"Clustering\": 1}, {\"Clustering\": 1}, {\"Clustering\": 3}, {\"Clustering\": 2}, {\"Clustering\": 2}, {\"Clustering\": 0}, {\"Clustering\": 1}, {\"Clustering\": 3}, {\"Clustering\": 0}, {\"Clustering\": 0}, {\"Clustering\": 2}, {\"Clustering\": 3}, {\"Clustering\": 1}, {\"Clustering\": 2}, {\"Clustering\": 0}, {\"Clustering\": 3}, {\"Clustering\": 0}, {\"Clustering\": 0}, {\"Clustering\": 0}, {\"Clustering\": 0}, {\"Clustering\": 3}, {\"Clustering\": 3}, {\"Clustering\": 0}, {\"Clustering\": 1}, {\"Clustering\": 0}, {\"Clustering\": 3}, {\"Clustering\": 1}, {\"Clustering\": 0}, {\"Clustering\": 0}, {\"Clustering\": 2}, {\"Clustering\": 1}, {\"Clustering\": 2}, {\"Clustering\": 1}, {\"Clustering\": 3}, {\"Clustering\": 0}, {\"Clustering\": 1}, {\"Clustering\": 1}, {\"Clustering\": 0}, {\"Clustering\": 0}, {\"Clustering\": 0}, {\"Clustering\": 1}, {\"Clustering\": 0}, {\"Clustering\": 0}, {\"Clustering\": 0}, {\"Clustering\": 2}, {\"Clustering\": 3}, {\"Clustering\": 3}, {\"Clustering\": 3}, {\"Clustering\": 0}, {\"Clustering\": 1}, {\"Clustering\": 0}, {\"Clustering\": 1}, {\"Clustering\": 1}, {\"Clustering\": 1}, {\"Clustering\": 3}, {\"Clustering\": 1}, {\"Clustering\": 0}, {\"Clustering\": 3}, {\"Clustering\": 0}, {\"Clustering\": 0}, {\"Clustering\": 3}, {\"Clustering\": 0}, {\"Clustering\": 1}, {\"Clustering\": 2}, {\"Clustering\": 0}, {\"Clustering\": 3}, {\"Clustering\": 0}, {\"Clustering\": 2}, {\"Clustering\": 0}, {\"Clustering\": 0}, {\"Clustering\": 1}, {\"Clustering\": 3}, {\"Clustering\": 0}, {\"Clustering\": 2}, {\"Clustering\": 3}, {\"Clustering\": 1}, {\"Clustering\": 0}, {\"Clustering\": 0}, {\"Clustering\": 1}, {\"Clustering\": 0}, {\"Clustering\": 0}, {\"Clustering\": 1}, {\"Clustering\": 0}, {\"Clustering\": 0}, {\"Clustering\": 3}, {\"Clustering\": 1}, {\"Clustering\": 3}, {\"Clustering\": 1}, {\"Clustering\": 3}, {\"Clustering\": 3}, {\"Clustering\": 3}, {\"Clustering\": 1}, {\"Clustering\": 3}, {\"Clustering\": 0}, {\"Clustering\": 2}, {\"Clustering\": 0}, {\"Clustering\": 0}, {\"Clustering\": 3}, {\"Clustering\": 4}, {\"Clustering\": 0}, {\"Clustering\": 1}, {\"Clustering\": 3}, {\"Clustering\": 0}, {\"Clustering\": 3}, {\"Clustering\": 3}, {\"Clustering\": 1}, {\"Clustering\": 0}, {\"Clustering\": 1}, {\"Clustering\": 3}, {\"Clustering\": 3}, {\"Clustering\": 1}, {\"Clustering\": 1}, {\"Clustering\": 0}, {\"Clustering\": 1}, {\"Clustering\": 1}, {\"Clustering\": 1}, {\"Clustering\": 0}, {\"Clustering\": 2}, {\"Clustering\": 0}, {\"Clustering\": 3}, {\"Clustering\": 3}, {\"Clustering\": 1}, {\"Clustering\": 1}, {\"Clustering\": 2}, {\"Clustering\": 0}, {\"Clustering\": 1}, {\"Clustering\": 0}, {\"Clustering\": 0}, {\"Clustering\": 0}, {\"Clustering\": 0}, {\"Clustering\": 1}, {\"Clustering\": 0}, {\"Clustering\": 1}, {\"Clustering\": 0}, {\"Clustering\": 3}, {\"Clustering\": 2}, {\"Clustering\": 0}, {\"Clustering\": 1}, {\"Clustering\": 1}, {\"Clustering\": 0}, {\"Clustering\": 1}, {\"Clustering\": 0}, {\"Clustering\": 0}, {\"Clustering\": 0}, {\"Clustering\": 0}, {\"Clustering\": 2}, {\"Clustering\": 1}, {\"Clustering\": 3}, {\"Clustering\": 1}, {\"Clustering\": 1}, {\"Clustering\": 1}, {\"Clustering\": 1}, {\"Clustering\": 3}, {\"Clustering\": 1}, {\"Clustering\": 0}, {\"Clustering\": 2}, {\"Clustering\": 0}, {\"Clustering\": 2}, {\"Clustering\": 3}, {\"Clustering\": 0}, {\"Clustering\": 0}, {\"Clustering\": 3}, {\"Clustering\": 0}, {\"Clustering\": 1}, {\"Clustering\": 0}]}}, {\"mode\": \"vega-lite\"});\n",
       "</script>"
      ],
      "text/plain": [
       "alt.Chart(...)"
      ]
     },
     "execution_count": 110,
     "metadata": {},
     "output_type": "execute_result"
    }
   ],
   "source": [
    "import altair as alt\n",
    "\n",
    "df = cluster_labels\n",
    "\n",
    "alt.Chart(df).mark_bar().encode(\n",
    "    x='value:N',\n",
    "    y='count():Q'\n",
    ")"
   ]
  },
  {
   "cell_type": "code",
   "execution_count": 112,
   "metadata": {},
   "outputs": [
    {
     "data": {
      "text/plain": [
       "<function ndarray.argpartition>"
      ]
     },
     "execution_count": 112,
     "metadata": {},
     "output_type": "execute_result"
    }
   ],
   "source": [
    "cluster_labels.values.partic"
   ]
  },
  {
   "cell_type": "code",
   "execution_count": null,
   "metadata": {},
   "outputs": [],
   "source": []
  },
  {
   "cell_type": "code",
   "execution_count": null,
   "metadata": {},
   "outputs": [],
   "source": [
    "                                                                                                                                                                                                                                                                                                                                                                                                                                                                                                                                                    "
   ]
  },
  {
   "cell_type": "code",
   "execution_count": null,
   "metadata": {},
   "outputs": [],
   "source": []
  },
  {
   "cell_type": "code",
   "execution_count": null,
   "metadata": {},
   "outputs": [],
   "source": []
  },
  {
   "cell_type": "code",
   "execution_count": 14,
   "metadata": {},
   "outputs": [
    {
     "name": "stdout",
     "output_type": "stream",
     "text": [
      "Populating the interactive namespace from numpy and matplotlib\n"
     ]
    },
    {
     "name": "stderr",
     "output_type": "stream",
     "text": [
      "/Users/datapro/opt/anaconda3/lib/python3.8/site-packages/IPython/core/magics/pylab.py:159: UserWarning: pylab import has clobbered these variables: ['info', 'f', 'datetime', 'sqrt', 'cov']\n",
      "`%matplotlib` prevents importing * from pylab and numpy\n",
      "  warn(\"pylab import has clobbered these variables: %s\"  % clobbered +\n"
     ]
    },
    {
     "data": {
      "text/plain": [
       "<module 'matplotlib.pyplot' from '/Users/datapro/opt/anaconda3/lib/python3.8/site-packages/matplotlib/pyplot.py'>"
      ]
     },
     "execution_count": 14,
     "metadata": {},
     "output_type": "execute_result"
    },
    {
     "data": {
      "image/png": "[encoded data removed]",
      "text/plain": [
       "<Figure size 432x288 with 2 Axes>"
      ]
     },
     "metadata": {
      "needs_background": "light"
     },
     "output_type": "display_data"
    }
   ],
   "source": [
    "%pylab inline\n",
    "\n",
    "returns.plot_corr_heatmap()\n",
    "\n"
   ]
  },
  {
   "cell_type": "code",
   "execution_count": 174,
   "metadata": {},
   "outputs": [],
   "source": [
    "US_index = ['^GSPC','^IXIC']\n",
    "gold = 'GC=F'\n",
    "oil  = 'CL=F'\n",
    "bitcoin = 'BTC-USD'"
   ]
  },
  {
   "cell_type": "code",
   "execution_count": 73,
   "metadata": {
    "scrolled": true
   },
   "outputs": [
    {
     "ename": "SyntaxError",
     "evalue": "invalid syntax (<ipython-input-73-c2d6bda2dda6>, line 1)",
     "output_type": "error",
     "traceback": [
      "\u001b[0;36m  File \u001b[0;32m\"<ipython-input-73-c2d6bda2dda6>\"\u001b[0;36m, line \u001b[0;32m1\u001b[0m\n\u001b[0;31m    cluster_labels.\u001b[0m\n\u001b[0m                   ^\u001b[0m\n\u001b[0;31mSyntaxError\u001b[0m\u001b[0;31m:\u001b[0m invalid syntax\n"
     ]
    }
   ],
   "source": [
    "cluster_labels.\n"
   ]
  },
  {
   "cell_type": "code",
   "execution_count": 81,
   "metadata": {},
   "outputs": [
    {
     "name": "stdout",
     "output_type": "stream",
     "text": [
      "Esto\n"
     ]
    }
   ],
   "source": [
    "\n",
    "#tupper[tupper['Clustering']==4].sort_values(by='Sharpe',ascending = False).head(5)\n",
    "\n",
    "\n",
    "tupper_now = pd.read_csv('data/tupper_'+end_date+'.csv', index_col='ticker')\n",
    "\n",
    "portfolio = ['NIO','PTON','TSLA']\n",
    "\n",
    "df = tupper.iloc[:,[0,1]]\n",
    "\n",
    "if df.index.isin(['TSLA']).any() == True:\n",
    "    \n",
    "else:\n",
    "    df.append()\n"
   ]
  },
  {
   "cell_type": "code",
   "execution_count": 71,
   "metadata": {},
   "outputs": [],
   "source": [
    "df = tupper.iloc[:5,:2]\n"
   ]
  },
  {
   "cell_type": "code",
   "execution_count": 7,
   "metadata": {},
   "outputs": [
    {
     "ename": "SyntaxError",
     "evalue": "invalid syntax (<ipython-input-7-c203b539c4c1>, line 17)",
     "output_type": "error",
     "traceback": [
      "\u001b[0;36m  File \u001b[0;32m\"<ipython-input-7-c203b539c4c1>\"\u001b[0;36m, line \u001b[0;32m17\u001b[0m\n\u001b[0;31m    text = points.mark_text(align='left',baseline='middle',dx=7).encode(text='ticker')\u001b[0m\n\u001b[0m    ^\u001b[0m\n\u001b[0;31mSyntaxError\u001b[0m\u001b[0;31m:\u001b[0m invalid syntax\n"
     ]
    }
   ],
   "source": [
    "import altair as alt\n",
    "\n",
    "to_float = lambda x: float(x.strip('%'))/100\n",
    "\n",
    "def Plot_P_Optimization(df):\n",
    "    \n",
    "    df = df.reset_index()\n",
    "    df['ticker'] = df['ticker'].apply(str)\n",
    "    df['Return'] = df['Return'].apply(to_float)\n",
    "    df['Volatility'] = df['Volatility'].apply(to_float)\n",
    "    print(df)\n",
    "    points = alt.Chart(df).mark_point().encode(alt.X('Volatility:Q',scale=alt.Scale(zero=False)\n",
    "    ),y='Return:Q')\n",
    "    \n",
    "    points = alt.Chart(df).mark_square().encode(x = df.loc['MMM'],scale=alt.Scale(zero=False)\n",
    "    \n",
    "    text = points.mark_text(align='left',baseline='middle',dx=7).encode(text='ticker')\n",
    "    \n",
    "    return points + text"
   ]
  },
  {
   "cell_type": "code",
   "execution_count": 96,
   "metadata": {},
   "outputs": [
    {
     "name": "stdout",
     "output_type": "stream",
     "text": [
      "  ticker  Return  Volatility\n",
      "0    MMM  0.0824      0.3670\n",
      "1   ABBV  0.2009      0.3434\n",
      "2   ABMD  0.7129      0.4583\n",
      "3    ACN  0.1695      0.4006\n",
      "4   ATVI  0.4023      0.3798\n"
     ]
    },
    {
     "data": {
      "text/html": [
       "\n",
       "<div id=\"altair-viz-bbb24158881241b99e9da3c21075b856\"></div>\n",
       "<script type=\"text/javascript\">\n",
       "  (function(spec, embedOpt){\n",
       "    let outputDiv = document.currentScript.previousElementSibling;\n",
       "    if (outputDiv.id !== \"altair-viz-bbb24158881241b99e9da3c21075b856\") {\n",
       "      outputDiv = document.getElementById(\"altair-viz-bbb24158881241b99e9da3c21075b856\");\n",
       "    }\n",
       "    const paths = {\n",
       "      \"vega\": \"https://cdn.jsdelivr.net/npm//vega@5?noext\",\n",
       "      \"vega-lib\": \"https://cdn.jsdelivr.net/npm//vega-lib?noext\",\n",
       "      \"vega-lite\": \"https://cdn.jsdelivr.net/npm//vega-lite@4.8.1?noext\",\n",
       "      \"vega-embed\": \"https://cdn.jsdelivr.net/npm//vega-embed@6?noext\",\n",
       "    };\n",
       "\n",
       "    function loadScript(lib) {\n",
       "      return new Promise(function(resolve, reject) {\n",
       "        var s = document.createElement('script');\n",
       "        s.src = paths[lib];\n",
       "        s.async = true;\n",
       "        s.onload = () => resolve(paths[lib]);\n",
       "        s.onerror = () => reject(`Error loading script: ${paths[lib]}`);\n",
       "        document.getElementsByTagName(\"head\")[0].appendChild(s);\n",
       "      });\n",
       "    }\n",
       "\n",
       "    function showError(err) {\n",
       "      outputDiv.innerHTML = `<div class=\"error\" style=\"color:red;\">${err}</div>`;\n",
       "      throw err;\n",
       "    }\n",
       "\n",
       "    function displayChart(vegaEmbed) {\n",
       "      vegaEmbed(outputDiv, spec, embedOpt)\n",
       "        .catch(err => showError(`Javascript Error: ${err.message}<br>This usually means there's a typo in your chart specification. See the javascript console for the full traceback.`));\n",
       "    }\n",
       "\n",
       "    if(typeof define === \"function\" && define.amd) {\n",
       "      requirejs.config({paths});\n",
       "      require([\"vega-embed\"], displayChart, err => showError(`Error loading script: ${err.message}`));\n",
       "    } else if (typeof vegaEmbed === \"function\") {\n",
       "      displayChart(vegaEmbed);\n",
       "    } else {\n",
       "      loadScript(\"vega\")\n",
       "        .then(() => loadScript(\"vega-lite\"))\n",
       "        .then(() => loadScript(\"vega-embed\"))\n",
       "        .catch(showError)\n",
       "        .then(() => displayChart(vegaEmbed));\n",
       "    }\n",
       "  })({\"config\": {\"view\": {\"continuousWidth\": 400, \"continuousHeight\": 300}}, \"layer\": [{\"mark\": \"point\", \"encoding\": {\"x\": {\"type\": \"quantitative\", \"field\": \"Volatility\", \"scale\": {\"zero\": false}}, \"y\": {\"type\": \"quantitative\", \"field\": \"Return\"}}}, {\"mark\": {\"type\": \"text\", \"align\": \"left\", \"baseline\": \"middle\", \"dx\": 7}, \"encoding\": {\"text\": {\"type\": \"nominal\", \"field\": \"ticker\"}, \"x\": {\"type\": \"quantitative\", \"field\": \"Volatility\", \"scale\": {\"zero\": false}}, \"y\": {\"type\": \"quantitative\", \"field\": \"Return\"}}}], \"data\": {\"name\": \"data-021dc21fcc30addfdce99615a204fa9f\"}, \"$schema\": \"https://vega.github.io/schema/vega-lite/v4.8.1.json\", \"datasets\": {\"data-021dc21fcc30addfdce99615a204fa9f\": [{\"ticker\": \"MMM\", \"Return\": 0.0824, \"Volatility\": 0.36700000000000005}, {\"ticker\": \"ABBV\", \"Return\": 0.2009, \"Volatility\": 0.34340000000000004}, {\"ticker\": \"ABMD\", \"Return\": 0.7129000000000001, \"Volatility\": 0.4583}, {\"ticker\": \"ACN\", \"Return\": 0.16949999999999998, \"Volatility\": 0.4006}, {\"ticker\": \"ATVI\", \"Return\": 0.4023, \"Volatility\": 0.37979999999999997}]}}, {\"mode\": \"vega-lite\"});\n",
       "</script>"
      ],
      "text/plain": [
       "alt.LayerChart(...)"
      ]
     },
     "execution_count": 96,
     "metadata": {},
     "output_type": "execute_result"
    }
   ],
   "source": [
    "Plot_P_Optimization(df)\n"
   ]
  },
  {
   "cell_type": "code",
   "execution_count": 139,
   "metadata": {},
   "outputs": [],
   "source": [
    "df = price[['MMM','ACN','TSLA']]"
   ]
  },
  {
   "cell_type": "code",
   "execution_count": 8,
   "metadata": {},
   "outputs": [],
   "source": [
    "import altair as alt\n",
    "\n",
    "def Plot_Performance(df):\n",
    "\n",
    "    return alt.Chart(df.reset_index()).mark_line().encode(x='Date:T', y='df.values:Q',)"
   ]
  },
  {
   "cell_type": "code",
   "execution_count": 151,
   "metadata": {},
   "outputs": [
    {
     "data": {
      "text/html": [
       "\n",
       "<div id=\"altair-viz-114161cf8e1042859c4eb5c39758259f\"></div>\n",
       "<script type=\"text/javascript\">\n",
       "  (function(spec, embedOpt){\n",
       "    let outputDiv = document.currentScript.previousElementSibling;\n",
       "    if (outputDiv.id !== \"altair-viz-114161cf8e1042859c4eb5c39758259f\") {\n",
       "      outputDiv = document.getElementById(\"altair-viz-114161cf8e1042859c4eb5c39758259f\");\n",
       "    }\n",
       "    const paths = {\n",
       "      \"vega\": \"https://cdn.jsdelivr.net/npm//vega@5?noext\",\n",
       "      \"vega-lib\": \"https://cdn.jsdelivr.net/npm//vega-lib?noext\",\n",
       "      \"vega-lite\": \"https://cdn.jsdelivr.net/npm//vega-lite@4.8.1?noext\",\n",
       "      \"vega-embed\": \"https://cdn.jsdelivr.net/npm//vega-embed@6?noext\",\n",
       "    };\n",
       "\n",
       "    function loadScript(lib) {\n",
       "      return new Promise(function(resolve, reject) {\n",
       "        var s = document.createElement('script');\n",
       "        s.src = paths[lib];\n",
       "        s.async = true;\n",
       "        s.onload = () => resolve(paths[lib]);\n",
       "        s.onerror = () => reject(`Error loading script: ${paths[lib]}`);\n",
       "        document.getElementsByTagName(\"head\")[0].appendChild(s);\n",
       "      });\n",
       "    }\n",
       "\n",
       "    function showError(err) {\n",
       "      outputDiv.innerHTML = `<div class=\"error\" style=\"color:red;\">${err}</div>`;\n",
       "      throw err;\n",
       "    }\n",
       "\n",
       "    function displayChart(vegaEmbed) {\n",
       "      vegaEmbed(outputDiv, spec, embedOpt)\n",
       "        .catch(err => showError(`Javascript Error: ${err.message}<br>This usually means there's a typo in your chart specification. See the javascript console for the full traceback.`));\n",
       "    }\n",
       "\n",
       "    if(typeof define === \"function\" && define.amd) {\n",
       "      requirejs.config({paths});\n",
       "      require([\"vega-embed\"], displayChart, err => showError(`Error loading script: ${err.message}`));\n",
       "    } else if (typeof vegaEmbed === \"function\") {\n",
       "      displayChart(vegaEmbed);\n",
       "    } else {\n",
       "      loadScript(\"vega\")\n",
       "        .then(() => loadScript(\"vega-lite\"))\n",
       "        .then(() => loadScript(\"vega-embed\"))\n",
       "        .catch(showError)\n",
       "        .then(() => displayChart(vegaEmbed));\n",
       "    }\n",
       "  })({\"config\": {\"view\": {\"continuousWidth\": 400, \"continuousHeight\": 300}}, \"data\": {\"name\": \"data-999ad979d74135be45f8d09e7f19ad9d\"}, \"mark\": \"line\", \"encoding\": {\"x\": {\"type\": \"temporal\", \"field\": \"Date\"}, \"y\": {\"type\": \"quantitative\", \"field\": \"df.values\"}}, \"height\": 300, \"width\": 500, \"$schema\": \"https://vega.github.io/schema/vega-lite/v4.8.1.json\", \"datasets\": {\"data-999ad979d74135be45f8d09e7f19ad9d\": [{\"Date\": \"2019-12-26T00:00:00\", \"MMM\": 170.2506561279297, \"ACN\": 207.9889678955078, \"TSLA\": 86.18800354003906}, {\"Date\": \"2019-12-27T00:00:00\", \"MMM\": 170.8966064453125, \"ACN\": 208.1556854248047, \"TSLA\": 86.07599639892578}, {\"Date\": \"2019-12-30T00:00:00\", \"MMM\": 169.5179443359375, \"ACN\": 206.60595703125, \"TSLA\": 82.94000244140625}, {\"Date\": \"2019-12-31T00:00:00\", \"MMM\": 170.08677673339844, \"ACN\": 206.5373077392578, \"TSLA\": 83.66600036621094}, {\"Date\": \"2020-01-02T00:00:00\", \"MMM\": 173.53823852539062, \"ACN\": 206.12533569335938, \"TSLA\": 86.052001953125}, {\"Date\": \"2020-01-03T00:00:00\", \"MMM\": 172.04388427734375, \"ACN\": 205.7820281982422, \"TSLA\": 88.60199737548828}, {\"Date\": \"2020-01-06T00:00:00\", \"MMM\": 172.20779418945312, \"ACN\": 204.43829345703125, \"TSLA\": 90.30799865722656}, {\"Date\": \"2020-01-07T00:00:00\", \"MMM\": 171.5136260986328, \"ACN\": 200.02442932128903, \"TSLA\": 93.81199645996094}, {\"Date\": \"2020-01-08T00:00:00\", \"MMM\": 174.14564514160156, \"ACN\": 200.4168243408203, \"TSLA\": 98.4280014038086}, {\"Date\": \"2020-01-09T00:00:00\", \"MMM\": 174.69517517089844, \"ACN\": 202.2019500732422, \"TSLA\": 96.26799774169922}, {\"Date\": \"2020-01-10T00:00:00\", \"MMM\": 173.9913787841797, \"ACN\": 203.6830291748047, \"TSLA\": 95.62999725341795}, {\"Date\": \"2020-01-13T00:00:00\", \"MMM\": 174.4252166748047, \"ACN\": 205.57606506347656, \"TSLA\": 104.97200012207031}, {\"Date\": \"2020-01-14T00:00:00\", \"MMM\": 174.8590545654297, \"ACN\": 203.75167846679688, \"TSLA\": 107.58399963378906}, {\"Date\": \"2020-01-15T00:00:00\", \"MMM\": 173.32614135742188, \"ACN\": 204.0766143798828, \"TSLA\": 103.6999969482422}, {\"Date\": \"2020-01-16T00:00:00\", \"MMM\": 174.51197814941406, \"ACN\": 205.77020263671875, \"TSLA\": 102.697998046875}, {\"Date\": \"2020-01-17T00:00:00\", \"MMM\": 174.8397979736328, \"ACN\": 205.98681640625, \"TSLA\": 102.0999984741211}, {\"Date\": \"2020-01-21T00:00:00\", \"MMM\": 172.95013427734375, \"ACN\": 205.9375915527344, \"TSLA\": 109.44000244140624}, {\"Date\": \"2020-01-22T00:00:00\", \"MMM\": 171.6389617919922, \"ACN\": 206.193603515625, \"TSLA\": 113.91200256347656}, {\"Date\": \"2020-01-23T00:00:00\", \"MMM\": 171.359375, \"ACN\": 207.444091796875, \"TSLA\": 114.44000244140624}, {\"Date\": \"2020-01-24T00:00:00\", \"MMM\": 171.75466918945312, \"ACN\": 205.3665008544922, \"TSLA\": 112.96399688720705}, {\"Date\": \"2020-01-27T00:00:00\", \"MMM\": 169.32513427734375, \"ACN\": 203.37754821777344, \"TSLA\": 111.60399627685548}, {\"Date\": \"2020-01-28T00:00:00\", \"MMM\": 159.6359100341797, \"ACN\": 207.0108642578125, \"TSLA\": 113.37999725341795}, {\"Date\": \"2020-01-29T00:00:00\", \"MMM\": 156.18441772460938, \"ACN\": 204.7658843994141, \"TSLA\": 116.197998046875}, {\"Date\": \"2020-01-30T00:00:00\", \"MMM\": 156.67611694335938, \"ACN\": 205.1695709228516, \"TSLA\": 128.16200256347656}, {\"Date\": \"2020-01-31T00:00:00\", \"MMM\": 152.96432495117188, \"ACN\": 202.05812072753903, \"TSLA\": 130.11399841308594}, {\"Date\": \"2020-02-03T00:00:00\", \"MMM\": 150.9686279296875, \"ACN\": 204.60833740234372, \"TSLA\": 156.0}, {\"Date\": \"2020-02-04T00:00:00\", \"MMM\": 151.59530639648438, \"ACN\": 209.26568603515625, \"TSLA\": 177.41200256347656}, {\"Date\": \"2020-02-05T00:00:00\", \"MMM\": 156.5025634765625, \"ACN\": 208.96044921875, \"TSLA\": 146.94000244140625}, {\"Date\": \"2020-02-06T00:00:00\", \"MMM\": 157.04246520996094, \"ACN\": 210.8706359863281, \"TSLA\": 149.79200744628906}, {\"Date\": \"2020-02-07T00:00:00\", \"MMM\": 154.33334350585938, \"ACN\": 208.33026123046875, \"TSLA\": 149.61399841308594}, {\"Date\": \"2020-02-10T00:00:00\", \"MMM\": 154.4008331298828, \"ACN\": 209.28538513183597, \"TSLA\": 154.25599670410156}, {\"Date\": \"2020-02-11T00:00:00\", \"MMM\": 156.61827087402344, \"ACN\": 208.8816680908203, \"TSLA\": 154.87600708007812}, {\"Date\": \"2020-02-12T00:00:00\", \"MMM\": 157.9197998046875, \"ACN\": 208.7339782714844, \"TSLA\": 153.45799255371094}, {\"Date\": \"2020-02-13T00:00:00\", \"MMM\": 155.41961669921875, \"ACN\": 209.1376800537109, \"TSLA\": 160.8000030517578}, {\"Date\": \"2020-02-14T00:00:00\", \"MMM\": 156.6356658935547, \"ACN\": 209.10813903808597, \"TSLA\": 160.00599670410156}, {\"Date\": \"2020-02-18T00:00:00\", \"MMM\": 154.5635528564453, \"ACN\": 210.47679138183597, \"TSLA\": 171.67999267578125}, {\"Date\": \"2020-02-19T00:00:00\", \"MMM\": 155.0110321044922, \"ACN\": 212.6036071777344, \"TSLA\": 183.48399353027344}, {\"Date\": \"2020-02-20T00:00:00\", \"MMM\": 154.25222778320312, \"ACN\": 210.6146240234375, \"TSLA\": 179.8820037841797}, {\"Date\": \"2020-02-21T00:00:00\", \"MMM\": 152.66650390625, \"ACN\": 208.6355133056641, \"TSLA\": 180.1999969482422}, {\"Date\": \"2020-02-24T00:00:00\", \"MMM\": 148.405517578125, \"ACN\": 201.22116088867188, \"TSLA\": 166.75799560546875}, {\"Date\": \"2020-02-25T00:00:00\", \"MMM\": 142.86038208007812, \"ACN\": 194.0726776123047, \"TSLA\": 159.98199462890625}, {\"Date\": \"2020-02-26T00:00:00\", \"MMM\": 144.91305541992188, \"ACN\": 192.66465759277344, \"TSLA\": 155.75999450683594}, {\"Date\": \"2020-02-27T00:00:00\", \"MMM\": 146.0804443359375, \"ACN\": 183.57640075683597, \"TSLA\": 135.80000305175778}, {\"Date\": \"2020-02-28T00:00:00\", \"MMM\": 145.18544006347656, \"ACN\": 177.81625366210938, \"TSLA\": 133.59800720214844}, {\"Date\": \"2020-03-02T00:00:00\", \"MMM\": 148.8627471923828, \"ACN\": 186.6386260986328, \"TSLA\": 148.7239990234375}, {\"Date\": \"2020-03-03T00:00:00\", \"MMM\": 141.2941131591797, \"ACN\": 179.4212188720703, \"TSLA\": 149.1020050048828}, {\"Date\": \"2020-03-04T00:00:00\", \"MMM\": 149.79666137695312, \"ACN\": 185.9592437744141, \"TSLA\": 149.89999389648438}, {\"Date\": \"2020-03-05T00:00:00\", \"MMM\": 147.29649353027344, \"ACN\": 179.75601196289062, \"TSLA\": 144.9080047607422}, {\"Date\": \"2020-03-06T00:00:00\", \"MMM\": 149.4756317138672, \"ACN\": 176.0045166015625, \"TSLA\": 140.69599914550778}, {\"Date\": \"2020-03-09T00:00:00\", \"MMM\": 140.14617919921878, \"ACN\": 161.58937072753906, \"TSLA\": 121.5999984741211}, {\"Date\": \"2020-03-10T00:00:00\", \"MMM\": 149.13514709472656, \"ACN\": 171.87887573242188, \"TSLA\": 129.06599426269528}, {\"Date\": \"2020-03-11T00:00:00\", \"MMM\": 143.23976135253906, \"ACN\": 162.5740203857422, \"TSLA\": 126.84600067138672}, {\"Date\": \"2020-03-12T00:00:00\", \"MMM\": 129.95089721679688, \"ACN\": 150.18724060058594, \"TSLA\": 112.11000061035156}, {\"Date\": \"2020-03-13T00:00:00\", \"MMM\": 137.830810546875, \"ACN\": 163.9525146484375, \"TSLA\": 109.3239974975586}, {\"Date\": \"2020-03-16T00:00:00\", \"MMM\": 127.35343933105469, \"ACN\": 150.1970672607422, \"TSLA\": 89.01399993896484}, {\"Date\": \"2020-03-17T00:00:00\", \"MMM\": 130.78752136230472, \"ACN\": 155.28768920898438, \"TSLA\": 86.04000091552734}, {\"Date\": \"2020-03-18T00:00:00\", \"MMM\": 133.29743957519528, \"ACN\": 148.8284454345703, \"TSLA\": 72.24400329589844}, {\"Date\": \"2020-03-19T00:00:00\", \"MMM\": 133.77410888671878, \"ACN\": 156.06553649902344, \"TSLA\": 85.52799987792969}, {\"Date\": \"2020-03-20T00:00:00\", \"MMM\": 121.49697875976562, \"ACN\": 147.6370391845703, \"TSLA\": 85.50599670410156}, {\"Date\": \"2020-03-23T00:00:00\", \"MMM\": 114.6677017211914, \"ACN\": 141.48301696777344, \"TSLA\": 86.85800170898438}, {\"Date\": \"2020-03-24T00:00:00\", \"MMM\": 129.11427307128906, \"ACN\": 154.44090270996094, \"TSLA\": 101.0}, {\"Date\": \"2020-03-25T00:00:00\", \"MMM\": 127.96631622314452, \"ACN\": 149.48814392089844, \"TSLA\": 107.8499984741211}, {\"Date\": \"2020-03-26T00:00:00\", \"MMM\": 132.48025512695312, \"ACN\": 168.7083282470703, \"TSLA\": 105.63200378417969}, {\"Date\": \"2020-03-27T00:00:00\", \"MMM\": 129.62013244628906, \"ACN\": 160.37828063964844, \"TSLA\": 102.87200164794922}, {\"Date\": \"2020-03-30T00:00:00\", \"MMM\": 133.99786376953122, \"ACN\": 167.21170043945312, \"TSLA\": 100.4260025024414}, {\"Date\": \"2020-03-31T00:00:00\", \"MMM\": 132.80126953125, \"ACN\": 160.75242614746094, \"TSLA\": 104.8000030517578}, {\"Date\": \"2020-04-01T00:00:00\", \"MMM\": 129.52284240722656, \"ACN\": 152.30419921875, \"TSLA\": 96.31199645996094}, {\"Date\": \"2020-04-02T00:00:00\", \"MMM\": 134.16325378417972, \"ACN\": 153.8697967529297, \"TSLA\": 90.8939971923828}, {\"Date\": \"2020-04-03T00:00:00\", \"MMM\": 130.15518188476562, \"ACN\": 149.8130645751953, \"TSLA\": 96.0019989013672}, {\"Date\": \"2020-04-06T00:00:00\", \"MMM\": 136.87745666503906, \"ACN\": 163.49957275390625, \"TSLA\": 103.2480010986328}, {\"Date\": \"2020-04-07T00:00:00\", \"MMM\": 140.67149353027344, \"ACN\": 161.59922790527344, \"TSLA\": 109.08999633789062}, {\"Date\": \"2020-04-08T00:00:00\", \"MMM\": 144.94224548339844, \"ACN\": 169.09234619140625, \"TSLA\": 109.76799774169922}, {\"Date\": \"2020-04-09T00:00:00\", \"MMM\": 143.76510620117188, \"ACN\": 175.187255859375, \"TSLA\": 114.5999984741211}, {\"Date\": \"2020-04-13T00:00:00\", \"MMM\": 142.42257690429688, \"ACN\": 169.91944885253906, \"TSLA\": 130.19000244140622}, {\"Date\": \"2020-04-14T00:00:00\", \"MMM\": 146.0609893798828, \"ACN\": 175.36451721191406, \"TSLA\": 141.97799682617188}, {\"Date\": \"2020-04-15T00:00:00\", \"MMM\": 141.21627807617188, \"ACN\": 167.60018920898438, \"TSLA\": 145.96600341796875}, {\"Date\": \"2020-04-16T00:00:00\", \"MMM\": 140.96334838867188, \"ACN\": 166.1165771484375, \"TSLA\": 149.04200744628906}, {\"Date\": \"2020-04-17T00:00:00\", \"MMM\": 142.48097229003906, \"ACN\": 173.1786346435547, \"TSLA\": 150.7779998779297}, {\"Date\": \"2020-04-20T00:00:00\", \"MMM\": 139.76675415039062, \"ACN\": 172.83245849609375, \"TSLA\": 149.27200317382812}, {\"Date\": \"2020-04-21T00:00:00\", \"MMM\": 137.78219604492188, \"ACN\": 164.4252471923828, \"TSLA\": 137.343994140625}, {\"Date\": \"2020-04-22T00:00:00\", \"MMM\": 139.70840454101562, \"ACN\": 170.42897033691406, \"TSLA\": 146.4219970703125}, {\"Date\": \"2020-04-23T00:00:00\", \"MMM\": 140.40882873535156, \"ACN\": 171.0125274658203, \"TSLA\": 141.12600708007812}, {\"Date\": \"2020-04-24T00:00:00\", \"MMM\": 143.0063018798828, \"ACN\": 173.5446014404297, \"TSLA\": 145.02999877929688}, {\"Date\": \"2020-04-27T00:00:00\", \"MMM\": 149.4756317138672, \"ACN\": 177.4712371826172, \"TSLA\": 159.75}, {\"Date\": \"2020-04-28T00:00:00\", \"MMM\": 153.3280487060547, \"ACN\": 176.41293334960938, \"TSLA\": 153.82400512695312}, {\"Date\": \"2020-04-29T00:00:00\", \"MMM\": 152.0147247314453, \"ACN\": 185.5124969482422, \"TSLA\": 160.1020050048828}, {\"Date\": \"2020-04-30T00:00:00\", \"MMM\": 147.79263305664062, \"ACN\": 183.1683654785156, \"TSLA\": 156.37600708007812}, {\"Date\": \"2020-05-01T00:00:00\", \"MMM\": 144.56283569335938, \"ACN\": 178.12403869628906, \"TSLA\": 140.26400756835938}, {\"Date\": \"2020-05-04T00:00:00\", \"MMM\": 144.3682403564453, \"ACN\": 177.57015991210938, \"TSLA\": 152.23800659179688}, {\"Date\": \"2020-05-05T00:00:00\", \"MMM\": 143.4246063232422, \"ACN\": 179.6373291015625, \"TSLA\": 153.64199829101562}, {\"Date\": \"2020-05-06T00:00:00\", \"MMM\": 142.22802734375, \"ACN\": 178.410888671875, \"TSLA\": 156.51600646972656}, {\"Date\": \"2020-05-07T00:00:00\", \"MMM\": 141.78053283691406, \"ACN\": 185.0674133300781, \"TSLA\": 156.00799560546875}, {\"Date\": \"2020-05-08T00:00:00\", \"MMM\": 144.4752655029297, \"ACN\": 186.50157165527344, \"TSLA\": 163.88400268554688}, {\"Date\": \"2020-05-11T00:00:00\", \"MMM\": 141.7707977294922, \"ACN\": 185.70040893554688, \"TSLA\": 162.25799560546875}, {\"Date\": \"2020-05-12T00:00:00\", \"MMM\": 137.6751708984375, \"ACN\": 183.6925811767578, \"TSLA\": 161.8820037841797}, {\"Date\": \"2020-05-13T00:00:00\", \"MMM\": 132.42189025878906, \"ACN\": 179.0241241455078, \"TSLA\": 158.19200134277344}, {\"Date\": \"2020-05-14T00:00:00\", \"MMM\": 132.29542541503906, \"ACN\": 178.025146484375, \"TSLA\": 160.66600036621094}, {\"Date\": \"2020-05-15T00:00:00\", \"MMM\": 134.92205810546878, \"ACN\": 181.8726959228516, \"TSLA\": 159.83399963378906}, {\"Date\": \"2020-05-18T00:00:00\", \"MMM\": 145.21461486816406, \"ACN\": 190.64584350585938, \"TSLA\": 162.7259979248047}, {\"Date\": \"2020-05-19T00:00:00\", \"MMM\": 144.34881591796875, \"ACN\": 188.01487731933597, \"TSLA\": 161.6020050048828}, {\"Date\": \"2020-05-20T00:00:00\", \"MMM\": 145.61346435546875, \"ACN\": 193.04931640625, \"TSLA\": 163.11199951171875}, {\"Date\": \"2020-05-21T00:00:00\", \"MMM\": 143.25552368164062, \"ACN\": 191.38766479492188, \"TSLA\": 165.52000427246094}, {\"Date\": \"2020-05-22T00:00:00\", \"MMM\": 143.87449645996094, \"ACN\": 191.59536743164062, \"TSLA\": 163.37600708007812}, {\"Date\": \"2020-05-26T00:00:00\", \"MMM\": 149.41567993164062, \"ACN\": 194.2559814453125, \"TSLA\": 163.7740020751953}, {\"Date\": \"2020-05-27T00:00:00\", \"MMM\": 155.37933349609375, \"ACN\": 197.74745178222656, \"TSLA\": 164.04600524902344}, {\"Date\": \"2020-05-28T00:00:00\", \"MMM\": 154.07264709472656, \"ACN\": 199.4684600830078, \"TSLA\": 161.16200256347656}, {\"Date\": \"2020-05-29T00:00:00\", \"MMM\": 153.6992950439453, \"ACN\": 199.41900634765625, \"TSLA\": 167.0}, {\"Date\": \"2020-06-01T00:00:00\", \"MMM\": 152.8543701171875, \"ACN\": 201.1598052978516, \"TSLA\": 179.6199951171875}, {\"Date\": \"2020-06-02T00:00:00\", \"MMM\": 154.87828063964844, \"ACN\": 203.5335998535156, \"TSLA\": 176.31199645996094}, {\"Date\": \"2020-06-03T00:00:00\", \"MMM\": 158.3857421875, \"ACN\": 205.0172271728516, \"TSLA\": 176.5919952392578}, {\"Date\": \"2020-06-04T00:00:00\", \"MMM\": 159.70225524902344, \"ACN\": 200.88287353515625, \"TSLA\": 172.87600708007812}, {\"Date\": \"2020-06-05T00:00:00\", \"MMM\": 164.47711181640625, \"ACN\": 206.21401977539062, \"TSLA\": 177.1320037841797}, {\"Date\": \"2020-06-08T00:00:00\", \"MMM\": 163.94656372070312, \"ACN\": 208.9735565185547, \"TSLA\": 189.98399353027344}, {\"Date\": \"2020-06-09T00:00:00\", \"MMM\": 163.77955627441406, \"ACN\": 205.0765686035156, \"TSLA\": 188.13400268554688}, {\"Date\": \"2020-06-10T00:00:00\", \"MMM\": 161.02859497070312, \"ACN\": 207.14373779296875, \"TSLA\": 205.00999450683597}, {\"Date\": \"2020-06-11T00:00:00\", \"MMM\": 149.71043395996094, \"ACN\": 193.81089782714844, \"TSLA\": 194.5679931640625}, {\"Date\": \"2020-06-12T00:00:00\", \"MMM\": 152.15679931640625, \"ACN\": 199.38934326171875, \"TSLA\": 187.05599975585938}, {\"Date\": \"2020-06-15T00:00:00\", \"MMM\": 154.96669006347656, \"ACN\": 197.6089782714844, \"TSLA\": 198.17999267578125}, {\"Date\": \"2020-06-16T00:00:00\", \"MMM\": 156.87271118164062, \"ACN\": 202.1686553955078, \"TSLA\": 196.42599487304688}, {\"Date\": \"2020-06-17T00:00:00\", \"MMM\": 156.43060302734375, \"ACN\": 202.95993041992188, \"TSLA\": 198.3580017089844}, {\"Date\": \"2020-06-18T00:00:00\", \"MMM\": 156.4207763671875, \"ACN\": 200.71470642089844, \"TSLA\": 200.79200744628903}, {\"Date\": \"2020-06-19T00:00:00\", \"MMM\": 155.37933349609375, \"ACN\": 199.34979248046875, \"TSLA\": 200.17999267578125}, {\"Date\": \"2020-06-22T00:00:00\", \"MMM\": 153.94493103027344, \"ACN\": 200.3883209228516, \"TSLA\": 198.86399841308597}, {\"Date\": \"2020-06-23T00:00:00\", \"MMM\": 155.07476806640625, \"ACN\": 205.1359100341797, \"TSLA\": 200.3560028076172}, {\"Date\": \"2020-06-24T00:00:00\", \"MMM\": 149.55322265625, \"ACN\": 199.63661193847656, \"TSLA\": 192.1699981689453}, {\"Date\": \"2020-06-25T00:00:00\", \"MMM\": 151.96029663085938, \"ACN\": 214.9476318359375, \"TSLA\": 197.1959991455078}, {\"Date\": \"2020-06-26T00:00:00\", \"MMM\": 149.8479766845703, \"ACN\": 210.15057373046875, \"TSLA\": 191.947998046875}, {\"Date\": \"2020-06-29T00:00:00\", \"MMM\": 152.84454345703125, \"ACN\": 210.3978271484375, \"TSLA\": 201.8699951171875}, {\"Date\": \"2020-06-30T00:00:00\", \"MMM\": 153.25718688964844, \"ACN\": 212.3760070800781, \"TSLA\": 215.9620056152344}, {\"Date\": \"2020-07-01T00:00:00\", \"MMM\": 152.7069854736328, \"ACN\": 212.24742126464844, \"TSLA\": 223.92599487304688}, {\"Date\": \"2020-07-02T00:00:00\", \"MMM\": 154.2887725830078, \"ACN\": 213.36509704589844, \"TSLA\": 241.73199462890625}, {\"Date\": \"2020-07-06T00:00:00\", \"MMM\": 155.33021545410156, \"ACN\": 215.17510986328125, \"TSLA\": 274.31600952148443}, {\"Date\": \"2020-07-07T00:00:00\", \"MMM\": 152.10769653320312, \"ACN\": 213.96844482421875, \"TSLA\": 277.97198486328125}, {\"Date\": \"2020-07-08T00:00:00\", \"MMM\": 151.87188720703125, \"ACN\": 216.50048828125, \"TSLA\": 273.17599487304693}, {\"Date\": \"2020-07-09T00:00:00\", \"MMM\": 148.79672241210938, \"ACN\": 216.91590881347656, \"TSLA\": 278.85598754882807}, {\"Date\": \"2020-07-10T00:00:00\", \"MMM\": 150.1721954345703, \"ACN\": 217.8555145263672, \"TSLA\": 308.92999267578125}, {\"Date\": \"2020-07-13T00:00:00\", \"MMM\": 152.08802795410156, \"ACN\": 213.38487243652344, \"TSLA\": 299.4119873046875}, {\"Date\": \"2020-07-14T00:00:00\", \"MMM\": 155.7624969482422, \"ACN\": 216.76754760742188, \"TSLA\": 303.3599853515625}, {\"Date\": \"2020-07-15T00:00:00\", \"MMM\": 156.53866577148438, \"ACN\": 218.15733337402344, \"TSLA\": 309.2019958496094}, {\"Date\": \"2020-07-16T00:00:00\", \"MMM\": 157.68817138671875, \"ACN\": 217.51206970214844, \"TSLA\": 300.12799072265625}, {\"Date\": \"2020-07-17T00:00:00\", \"MMM\": 157.0299072265625, \"ACN\": 220.32144165039062, \"TSLA\": 300.1679992675781}, {\"Date\": \"2020-07-20T00:00:00\", \"MMM\": 153.63052368164062, \"ACN\": 221.80056762695312, \"TSLA\": 328.6000061035156}, {\"Date\": \"2020-07-21T00:00:00\", \"MMM\": 155.0354766845703, \"ACN\": 221.1255340576172, \"TSLA\": 313.6719970703125}, {\"Date\": \"2020-07-22T00:00:00\", \"MMM\": 155.92953491210938, \"ACN\": 222.5947265625, \"TSLA\": 318.46600341796875}, {\"Date\": \"2020-07-23T00:00:00\", \"MMM\": 156.49935913085938, \"ACN\": 220.67881774902344, \"TSLA\": 302.614013671875}, {\"Date\": \"2020-07-24T00:00:00\", \"MMM\": 157.0397186279297, \"ACN\": 219.8250732421875, \"TSLA\": 283.3999938964844}, {\"Date\": \"2020-07-27T00:00:00\", \"MMM\": 160.3801727294922, \"ACN\": 221.69137573242188, \"TSLA\": 307.9200134277344}, {\"Date\": \"2020-07-28T00:00:00\", \"MMM\": 152.60874938964844, \"ACN\": 220.55967712402344, \"TSLA\": 295.2980041503906}, {\"Date\": \"2020-07-29T00:00:00\", \"MMM\": 153.5126190185547, \"ACN\": 222.74365234375, \"TSLA\": 299.8219909667969}, {\"Date\": \"2020-07-30T00:00:00\", \"MMM\": 149.45497131347656, \"ACN\": 222.34654235839844, \"TSLA\": 297.49798583984375}, {\"Date\": \"2020-07-31T00:00:00\", \"MMM\": 147.83389282226562, \"ACN\": 223.14073181152344, \"TSLA\": 286.1520080566406}, {\"Date\": \"2020-08-03T00:00:00\", \"MMM\": 147.7749481201172, \"ACN\": 225.5232086181641, \"TSLA\": 297.0}, {\"Date\": \"2020-08-04T00:00:00\", \"MMM\": 148.56092834472656, \"ACN\": 225.49343872070312, \"TSLA\": 297.3999938964844}, {\"Date\": \"2020-08-05T00:00:00\", \"MMM\": 152.62840270996094, \"ACN\": 227.0321350097656, \"TSLA\": 297.0039978027344}, {\"Date\": \"2020-08-06T00:00:00\", \"MMM\": 153.2670135498047, \"ACN\": 229.20616149902344, \"TSLA\": 297.9159851074219}, {\"Date\": \"2020-08-07T00:00:00\", \"MMM\": 155.55618286132812, \"ACN\": 229.8712615966797, \"TSLA\": 290.5419921875}, {\"Date\": \"2020-08-10T00:00:00\", \"MMM\": 158.61170959472656, \"ACN\": 228.66017150878903, \"TSLA\": 283.7139892578125}, {\"Date\": \"2020-08-11T00:00:00\", \"MMM\": 160.51773071289062, \"ACN\": 226.9030914306641, \"TSLA\": 274.87799072265625}, {\"Date\": \"2020-08-12T00:00:00\", \"MMM\": 161.38229370117188, \"ACN\": 228.0744781494141, \"TSLA\": 310.9519958496094}, {\"Date\": \"2020-08-13T00:00:00\", \"MMM\": 162.9542694091797, \"ACN\": 230.0400238037109, \"TSLA\": 324.20001220703125}, {\"Date\": \"2020-08-14T00:00:00\", \"MMM\": 163.19007873535156, \"ACN\": 228.5708312988281, \"TSLA\": 330.1419982910156}, {\"Date\": \"2020-08-17T00:00:00\", \"MMM\": 161.8244171142578, \"ACN\": 230.92355346679688, \"TSLA\": 367.12799072265625}, {\"Date\": \"2020-08-18T00:00:00\", \"MMM\": 161.50021362304688, \"ACN\": 232.5218048095703, \"TSLA\": 377.4179992675781}, {\"Date\": \"2020-08-19T00:00:00\", \"MMM\": 161.09738159179688, \"ACN\": 232.9188995361328, \"TSLA\": 375.70599365234375}, {\"Date\": \"2020-08-20T00:00:00\", \"MMM\": 160.11489868164062, \"ACN\": 234.88446044921875, \"TSLA\": 400.3659973144531}, {\"Date\": \"2020-08-21T00:00:00\", \"MMM\": 160.32310485839844, \"ACN\": 235.75804138183597, \"TSLA\": 409.9960021972656}, {\"Date\": \"2020-08-24T00:00:00\", \"MMM\": 162.1274871826172, \"ACN\": 236.01612854003903, \"TSLA\": 402.8399963378906}, {\"Date\": \"2020-08-25T00:00:00\", \"MMM\": 161.70118713378906, \"ACN\": 236.4727935791016, \"TSLA\": 404.6679992675781}, {\"Date\": \"2020-08-26T00:00:00\", \"MMM\": 162.4943084716797, \"ACN\": 238.69644165039062, \"TSLA\": 430.6340026855469}, {\"Date\": \"2020-08-27T00:00:00\", \"MMM\": 162.6727752685547, \"ACN\": 239.11338806152344, \"TSLA\": 447.75}, {\"Date\": \"2020-08-28T00:00:00\", \"MMM\": 164.23922729492188, \"ACN\": 241.21792602539062, \"TSLA\": 442.67999267578125}, {\"Date\": \"2020-08-31T00:00:00\", \"MMM\": 161.6218719482422, \"ACN\": 238.1802215576172, \"TSLA\": 498.3200073242188}, {\"Date\": \"2020-09-01T00:00:00\", \"MMM\": 163.3865966796875, \"ACN\": 238.2695770263672, \"TSLA\": 475.0499877929688}, {\"Date\": \"2020-09-02T00:00:00\", \"MMM\": 168.0561981201172, \"ACN\": 245.3773651123047, \"TSLA\": 447.3699951171875}, {\"Date\": \"2020-09-03T00:00:00\", \"MMM\": 164.88365173339844, \"ACN\": 237.23716735839844, \"TSLA\": 407.0}, {\"Date\": \"2020-09-04T00:00:00\", \"MMM\": 164.34828186035156, \"ACN\": 234.3484039306641, \"TSLA\": 418.3200073242188}, {\"Date\": \"2020-09-08T00:00:00\", \"MMM\": 161.7705841064453, \"ACN\": 230.9533233642578, \"TSLA\": 330.2099914550781}, {\"Date\": \"2020-09-09T00:00:00\", \"MMM\": 164.2788848876953, \"ACN\": 237.1676788330078, \"TSLA\": 366.2799987792969}, {\"Date\": \"2020-09-10T00:00:00\", \"MMM\": 161.75074768066406, \"ACN\": 231.94602966308597, \"TSLA\": 371.3399963378906}, {\"Date\": \"2020-09-11T00:00:00\", \"MMM\": 164.74484252929688, \"ACN\": 233.0578765869141, \"TSLA\": 372.7200012207031}, {\"Date\": \"2020-09-14T00:00:00\", \"MMM\": 167.0152130126953, \"ACN\": 237.0882568359375, \"TSLA\": 419.6199951171875}, {\"Date\": \"2020-09-15T00:00:00\", \"MMM\": 165.1414337158203, \"ACN\": 238.44825744628903, \"TSLA\": 449.760009765625}, {\"Date\": \"2020-09-16T00:00:00\", \"MMM\": 168.0561981201172, \"ACN\": 237.6739501953125, \"TSLA\": 441.760009765625}, {\"Date\": \"2020-09-17T00:00:00\", \"MMM\": 170.90159606933594, \"ACN\": 235.09292602539062, \"TSLA\": 423.42999267578125}, {\"Date\": \"2020-09-18T00:00:00\", \"MMM\": 168.0958709716797, \"ACN\": 234.4575653076172, \"TSLA\": 442.1499938964844}, {\"Date\": \"2020-09-21T00:00:00\", \"MMM\": 159.97610473632812, \"ACN\": 232.2041473388672, \"TSLA\": 449.3900146484375}, {\"Date\": \"2020-09-22T00:00:00\", \"MMM\": 160.94769287109375, \"ACN\": 235.1921844482422, \"TSLA\": 424.2300109863281}, {\"Date\": \"2020-09-23T00:00:00\", \"MMM\": 158.1419677734375, \"ACN\": 228.9679107666016, \"TSLA\": 380.3599853515625}, {\"Date\": \"2020-09-24T00:00:00\", \"MMM\": 159.04415893554688, \"ACN\": 212.8562774658203, \"TSLA\": 387.7900085449219}, {\"Date\": \"2020-09-25T00:00:00\", \"MMM\": 158.8954620361328, \"ACN\": 213.0647430419922, \"TSLA\": 407.3399963378906}, {\"Date\": \"2020-09-28T00:00:00\", \"MMM\": 160.27352905273438, \"ACN\": 221.1553039550781, \"TSLA\": 421.20001220703125}, {\"Date\": \"2020-09-29T00:00:00\", \"MMM\": 158.43939208984375, \"ACN\": 222.4458312988281, \"TSLA\": 419.0700073242188}, {\"Date\": \"2020-09-30T00:00:00\", \"MMM\": 158.80621337890625, \"ACN\": 224.34190368652344, \"TSLA\": 429.010009765625}, {\"Date\": \"2020-10-01T00:00:00\", \"MMM\": 157.42813110351562, \"ACN\": 223.5377960205078, \"TSLA\": 448.1600036621094}, {\"Date\": \"2020-10-02T00:00:00\", \"MMM\": 158.98468017578125, \"ACN\": 220.778076171875, \"TSLA\": 415.0899963378906}, {\"Date\": \"2020-10-05T00:00:00\", \"MMM\": 161.35418701171875, \"ACN\": 221.8601226806641, \"TSLA\": 425.67999267578125}, {\"Date\": \"2020-10-06T00:00:00\", \"MMM\": 160.83863830566406, \"ACN\": 218.74302673339844, \"TSLA\": 413.9800109863281}, {\"Date\": \"2020-10-07T00:00:00\", \"MMM\": 165.06211853027344, \"ACN\": 221.82041931152344, \"TSLA\": 425.2999877929688}, {\"Date\": \"2020-10-08T00:00:00\", \"MMM\": 166.2716522216797, \"ACN\": 223.96466064453125, \"TSLA\": 425.9200134277344}, {\"Date\": \"2020-10-09T00:00:00\", \"MMM\": 167.84800720214844, \"ACN\": 227.9111785888672, \"TSLA\": 434.0}, {\"Date\": \"2020-10-12T00:00:00\", \"MMM\": 167.20358276367188, \"ACN\": 229.80470275878903, \"TSLA\": 442.2999877929688}, {\"Date\": \"2020-10-13T00:00:00\", \"MMM\": 165.20091247558594, \"ACN\": 228.5988311767578, \"TSLA\": 446.6499938964844}, {\"Date\": \"2020-10-14T00:00:00\", \"MMM\": 166.95571899414062, \"ACN\": 228.64865112304688, \"TSLA\": 461.2999877929688}, {\"Date\": \"2020-10-15T00:00:00\", \"MMM\": 167.62989807128906, \"ACN\": 227.99090576171875, \"TSLA\": 448.8800048828125}, {\"Date\": \"2020-10-16T00:00:00\", \"MMM\": 169.50369262695312, \"ACN\": 229.2665557861328, \"TSLA\": 439.6700134277344}, {\"Date\": \"2020-10-19T00:00:00\", \"MMM\": 168.0958709716797, \"ACN\": 225.4695281982422, \"TSLA\": 430.8299865722656}, {\"Date\": \"2020-10-20T00:00:00\", \"MMM\": 169.48385620117188, \"ACN\": 229.6053924560547, \"TSLA\": 421.9400024414063}, {\"Date\": \"2020-10-21T00:00:00\", \"MMM\": 167.7191162109375, \"ACN\": 232.30616760253903, \"TSLA\": 422.6400146484375}, {\"Date\": \"2020-10-22T00:00:00\", \"MMM\": 169.2459259033203, \"ACN\": 227.3630523681641, \"TSLA\": 425.7900085449219}, {\"Date\": \"2020-10-23T00:00:00\", \"MMM\": 168.34371948242188, \"ACN\": 228.9177398681641, \"TSLA\": 420.6300048828125}, {\"Date\": \"2020-10-26T00:00:00\", \"MMM\": 164.7349395751953, \"ACN\": 218.4833984375, \"TSLA\": 420.2799987792969}, {\"Date\": \"2020-10-27T00:00:00\", \"MMM\": 159.64892578125, \"ACN\": 219.9085235595703, \"TSLA\": 424.67999267578125}, {\"Date\": \"2020-10-28T00:00:00\", \"MMM\": 157.17037963867188, \"ACN\": 213.2114105224609, \"TSLA\": 406.0199890136719}, {\"Date\": \"2020-10-29T00:00:00\", \"MMM\": 157.1208038330078, \"ACN\": 215.7028961181641, \"TSLA\": 410.8299865722656}, {\"Date\": \"2020-10-30T00:00:00\", \"MMM\": 158.58811950683594, \"ACN\": 216.1712951660156, \"TSLA\": 388.0400085449219}, {\"Date\": \"2020-11-02T00:00:00\", \"MMM\": 161.5425567626953, \"ACN\": 219.44012451171875, \"TSLA\": 400.510009765625}, {\"Date\": \"2020-11-03T00:00:00\", \"MMM\": 164.0904998779297, \"ACN\": 224.9413299560547, \"TSLA\": 423.8999938964844}, {\"Date\": \"2020-11-04T00:00:00\", \"MMM\": 158.78639221191406, \"ACN\": 227.143798828125, \"TSLA\": 420.9800109863281}, {\"Date\": \"2020-11-05T00:00:00\", \"MMM\": 161.80032348632812, \"ACN\": 233.1931304931641, \"TSLA\": 438.0899963378906}, {\"Date\": \"2020-11-06T00:00:00\", \"MMM\": 161.6218719482422, \"ACN\": 235.48529052734372, \"TSLA\": 429.95001220703125}, {\"Date\": \"2020-11-09T00:00:00\", \"MMM\": 162.02833557128906, \"ACN\": 239.40191650390625, \"TSLA\": 421.260009765625}, {\"Date\": \"2020-11-10T00:00:00\", \"MMM\": 167.6893768310547, \"ACN\": 237.8970642089844, \"TSLA\": 410.3599853515625}, {\"Date\": \"2020-11-11T00:00:00\", \"MMM\": 167.7587890625, \"ACN\": 241.9232940673828, \"TSLA\": 417.1300048828125}, {\"Date\": \"2020-11-12T00:00:00\", \"MMM\": 165.6173095703125, \"ACN\": 237.3389587402344, \"TSLA\": 411.760009765625}, {\"Date\": \"2020-11-13T00:00:00\", \"MMM\": 168.33380126953125, \"ACN\": 240.95660400390625, \"TSLA\": 408.5}, {\"Date\": \"2020-11-16T00:00:00\", \"MMM\": 172.368896484375, \"ACN\": 244.1157989501953, \"TSLA\": 408.0899963378906}, {\"Date\": \"2020-11-17T00:00:00\", \"MMM\": 172.15078735351562, \"ACN\": 242.9896545410156, \"TSLA\": 441.6099853515625}, {\"Date\": \"2020-11-18T00:00:00\", \"MMM\": 169.92999267578125, \"ACN\": 238.91357421875, \"TSLA\": 486.6400146484375}, {\"Date\": \"2020-11-19T00:00:00\", \"MMM\": 171.61000061035156, \"ACN\": 242.37176513671875, \"TSLA\": 499.2699890136719}, {\"Date\": \"2020-11-20T00:00:00\", \"MMM\": 172.88999938964844, \"ACN\": 242.61094665527344, \"TSLA\": 489.6099853515625}, {\"Date\": \"2020-11-23T00:00:00\", \"MMM\": 174.13999938964844, \"ACN\": 245.36154174804688, \"TSLA\": 521.8499755859375}, {\"Date\": \"2020-11-24T00:00:00\", \"MMM\": 177.0800018310547, \"ACN\": 249.1486053466797, \"TSLA\": 555.3800048828125}, {\"Date\": \"2020-11-25T00:00:00\", \"MMM\": 177.1199951171875, \"ACN\": 248.48089599609372, \"TSLA\": 574.0}, {\"Date\": \"2020-11-27T00:00:00\", \"MMM\": 176.88999938964844, \"ACN\": 249.2681884765625, \"TSLA\": 585.760009765625}, {\"Date\": \"2020-11-30T00:00:00\", \"MMM\": 172.72999572753906, \"ACN\": 248.24169921875, \"TSLA\": 567.5999755859375}, {\"Date\": \"2020-12-01T00:00:00\", \"MMM\": 170.52000427246094, \"ACN\": 251.41087341308597, \"TSLA\": 584.760009765625}, {\"Date\": \"2020-12-02T00:00:00\", \"MMM\": 171.85000610351562, \"ACN\": 248.8097686767578, \"TSLA\": 568.8200073242188}, {\"Date\": \"2020-12-03T00:00:00\", \"MMM\": 171.8300018310547, \"ACN\": 249.07884216308597, \"TSLA\": 593.3800048828125}, {\"Date\": \"2020-12-04T00:00:00\", \"MMM\": 172.4600067138672, \"ACN\": 252.57688903808597, \"TSLA\": 599.0399780273438}, {\"Date\": \"2020-12-07T00:00:00\", \"MMM\": 170.14999389648438, \"ACN\": 248.45098876953125, \"TSLA\": 641.760009765625}, {\"Date\": \"2020-12-08T00:00:00\", \"MMM\": 172.4600067138672, \"ACN\": 249.0090789794922, \"TSLA\": 649.8800048828125}, {\"Date\": \"2020-12-09T00:00:00\", \"MMM\": 175.2899932861328, \"ACN\": 245.9296112060547, \"TSLA\": 604.47998046875}, {\"Date\": \"2020-12-10T00:00:00\", \"MMM\": 173.49000549316406, \"ACN\": 245.3216857910156, \"TSLA\": 627.0700073242188}, {\"Date\": \"2020-12-11T00:00:00\", \"MMM\": 174.02000427246094, \"ACN\": 244.9928131103516, \"TSLA\": 609.989990234375}, {\"Date\": \"2020-12-14T00:00:00\", \"MMM\": 173.0800018310547, \"ACN\": 242.91989135742188, \"TSLA\": 639.8300170898438}, {\"Date\": \"2020-12-15T00:00:00\", \"MMM\": 174.67999267578125, \"ACN\": 246.2086639404297, \"TSLA\": 633.25}, {\"Date\": \"2020-12-16T00:00:00\", \"MMM\": 175.41000366210938, \"ACN\": 246.60728454589844, \"TSLA\": 622.77001953125}, {\"Date\": \"2020-12-17T00:00:00\", \"MMM\": 176.64999389648438, \"ACN\": 263.5693359375, \"TSLA\": 655.9000244140625}, {\"Date\": \"2020-12-18T00:00:00\", \"MMM\": 176.4199981689453, \"ACN\": 265.34326171875, \"TSLA\": 695.0}, {\"Date\": \"2020-12-21T00:00:00\", \"MMM\": 175.66000366210938, \"ACN\": 260.5297241210937, \"TSLA\": 649.8599853515625}, {\"Date\": \"2020-12-22T00:00:00\", \"MMM\": 174.77999877929688, \"ACN\": 258.5863647460937, \"TSLA\": 640.3400268554688}, {\"Date\": \"2020-12-23T00:00:00\", \"MMM\": 173.99000549316406, \"ACN\": 256.56326293945307, \"TSLA\": 645.97998046875}, {\"Date\": \"2020-12-24T00:00:00\", \"MMM\": 174.52000427246094, \"ACN\": 256.42373657226557, \"TSLA\": 661.77001953125}, {\"Date\": \"2020-12-28T00:00:00\", \"MMM\": 174.7100067138672, \"ACN\": 258.79562377929693, \"TSLA\": 663.6900024414062}, {\"Date\": \"2020-12-29T00:00:00\", \"MMM\": 173.85000610351562, \"ACN\": 256.8822021484375, \"TSLA\": 665.989990234375}, {\"Date\": \"2020-12-30T00:00:00\", \"MMM\": 174.11000061035156, \"ACN\": 256.66293334960943, \"TSLA\": 694.780029296875}, {\"Date\": \"2020-12-31T00:00:00\", \"MMM\": 174.7899932861328, \"ACN\": 260.3204345703125, \"TSLA\": 705.6699829101562}, {\"Date\": \"2021-01-04T00:00:00\", \"MMM\": 171.8699951171875, \"ACN\": 255.5865936279297, \"TSLA\": 729.77001953125}, {\"Date\": \"2021-01-05T00:00:00\", \"MMM\": 171.5800018310547, \"ACN\": 257.04165649414057, \"TSLA\": 735.1099853515625}, {\"Date\": \"2021-01-06T00:00:00\", \"MMM\": 174.19000244140625, \"ACN\": 259.85202026367193, \"TSLA\": 755.97998046875}, {\"Date\": \"2021-01-07T00:00:00\", \"MMM\": 169.72000122070312, \"ACN\": 262.30368041992193, \"TSLA\": 816.0399780273438}, {\"Date\": \"2021-01-08T00:00:00\", \"MMM\": 166.6199951171875, \"ACN\": 263.2603759765625, \"TSLA\": 880.02001953125}, {\"Date\": \"2021-01-11T00:00:00\", \"MMM\": 165.1999969482422, \"ACN\": 259.46337890625, \"TSLA\": 811.1900024414062}, {\"Date\": \"2021-01-12T00:00:00\", \"MMM\": 166.50999450683594, \"ACN\": 257.51998901367193, \"TSLA\": 849.4400024414062}, {\"Date\": \"2021-01-13T00:00:00\", \"MMM\": 166.27999877929688, \"ACN\": 257.07998657226557, \"TSLA\": 854.4099731445312}, {\"Date\": \"2021-01-14T00:00:00\", \"MMM\": 166.41000366210938, \"ACN\": 255.0, \"TSLA\": 845.0}, {\"Date\": \"2021-01-15T00:00:00\", \"MMM\": 165.5500030517578, \"ACN\": 253.6499938964844, \"TSLA\": 826.1599731445312}, {\"Date\": \"2021-01-19T00:00:00\", \"MMM\": 169.1199951171875, \"ACN\": 255.83999633789062, \"TSLA\": 844.5499877929688}, {\"Date\": \"2021-01-20T00:00:00\", \"MMM\": 170.22000122070312, \"ACN\": 261.67001342773443, \"TSLA\": 850.4500122070312}, {\"Date\": \"2021-01-21T00:00:00\", \"MMM\": 170.6699981689453, \"ACN\": 257.94000244140625, \"TSLA\": 844.989990234375}, {\"Date\": \"2021-01-22T00:00:00\", \"MMM\": 169.0399932861328, \"ACN\": 254.7700042724609, \"TSLA\": 846.6400146484375}, {\"Date\": \"2021-01-25T00:00:00\", \"MMM\": 170.38999938964844, \"ACN\": 252.0399932861328, \"TSLA\": 880.7999877929688}, {\"Date\": \"2021-01-26T00:00:00\", \"MMM\": 175.9499969482422, \"ACN\": 252.9900054931641, \"TSLA\": 883.0900268554688}, {\"Date\": \"2021-01-27T00:00:00\", \"MMM\": 186.6499938964844, \"ACN\": 246.1000061035156, \"TSLA\": 864.1599731445312}, {\"Date\": \"2021-01-28T00:00:00\", \"MMM\": 186.33999633789062, \"ACN\": 250.4600067138672, \"TSLA\": 845.25}]}}, {\"mode\": \"vega-lite\"});\n",
       "</script>"
      ],
      "text/plain": [
       "alt.Chart(...)"
      ]
     },
     "execution_count": 151,
     "metadata": {},
     "output_type": "execute_result"
    }
   ],
   "source": [
    "Plot_Performance(df)"
   ]
  },
  {
   "cell_type": "code",
   "execution_count": 29,
   "metadata": {},
   "outputs": [
    {
     "data": {
      "text/html": [
       "<div>\n",
       "<style scoped>\n",
       "    .dataframe tbody tr th:only-of-type {\n",
       "        vertical-align: middle;\n",
       "    }\n",
       "\n",
       "    .dataframe tbody tr th {\n",
       "        vertical-align: top;\n",
       "    }\n",
       "\n",
       "    .dataframe thead th {\n",
       "        text-align: right;\n",
       "    }\n",
       "</style>\n",
       "<table border=\"1\" class=\"dataframe\">\n",
       "  <thead>\n",
       "    <tr style=\"text-align: right;\">\n",
       "      <th>window</th>\n",
       "      <th>D</th>\n",
       "      <th>W</th>\n",
       "      <th>M</th>\n",
       "      <th>3M</th>\n",
       "      <th>6M</th>\n",
       "      <th>A</th>\n",
       "      <th>YTD</th>\n",
       "    </tr>\n",
       "    <tr>\n",
       "      <th>ticker</th>\n",
       "      <th></th>\n",
       "      <th></th>\n",
       "      <th></th>\n",
       "      <th></th>\n",
       "      <th></th>\n",
       "      <th></th>\n",
       "      <th></th>\n",
       "    </tr>\n",
       "  </thead>\n",
       "  <tbody>\n",
       "    <tr>\n",
       "      <th>TSLA</th>\n",
       "      <td>-2.14%</td>\n",
       "      <td>2.48%</td>\n",
       "      <td>24.33%</td>\n",
       "      <td>64.49%</td>\n",
       "      <td>226.76%</td>\n",
       "      <td>743.44%</td>\n",
       "      <td>19.78%</td>\n",
       "    </tr>\n",
       "    <tr>\n",
       "      <th>CSCO</th>\n",
       "      <td>0.97%</td>\n",
       "      <td>-1.45%</td>\n",
       "      <td>4.02%</td>\n",
       "      <td>14.66%</td>\n",
       "      <td>-2.40%</td>\n",
       "      <td>-3.49%</td>\n",
       "      <td>3.03%</td>\n",
       "    </tr>\n",
       "  </tbody>\n",
       "</table>\n",
       "</div>"
      ],
      "text/plain": [
       "window       D       W       M      3M       6M        A     YTD\n",
       "ticker                                                          \n",
       "TSLA    -2.14%   2.48%  24.33%  64.49%  226.76%  743.44%  19.78%\n",
       "CSCO     0.97%  -1.45%   4.02%  14.66%   -2.40%   -3.49%   3.03%"
      ]
     },
     "execution_count": 29,
     "metadata": {},
     "output_type": "execute_result"
    }
   ],
   "source": [
    "df.columns.name = 'window'\n",
    "df"
   ]
  },
  {
   "cell_type": "code",
   "execution_count": 58,
   "metadata": {},
   "outputs": [
    {
     "ename": "ValueError",
     "evalue": "sum(ticker:Q) encoding field is specified without a type; the type cannot be inferred because it does not match any column in the data.",
     "output_type": "error",
     "traceback": [
      "\u001b[0;31m---------------------------------------------------------------------------\u001b[0m",
      "\u001b[0;31mValueError\u001b[0m                                Traceback (most recent call last)",
      "\u001b[0;32m~/opt/anaconda3/lib/python3.8/site-packages/altair/vegalite/v4/api.py\u001b[0m in \u001b[0;36mto_dict\u001b[0;34m(self, *args, **kwargs)\u001b[0m\n\u001b[1;32m    371\u001b[0m \u001b[0;34m\u001b[0m\u001b[0m\n\u001b[1;32m    372\u001b[0m         \u001b[0;32mtry\u001b[0m\u001b[0;34m:\u001b[0m\u001b[0;34m\u001b[0m\u001b[0;34m\u001b[0m\u001b[0m\n\u001b[0;32m--> 373\u001b[0;31m             \u001b[0mdct\u001b[0m \u001b[0;34m=\u001b[0m \u001b[0msuper\u001b[0m\u001b[0;34m(\u001b[0m\u001b[0mTopLevelMixin\u001b[0m\u001b[0;34m,\u001b[0m \u001b[0mcopy\u001b[0m\u001b[0;34m)\u001b[0m\u001b[0;34m.\u001b[0m\u001b[0mto_dict\u001b[0m\u001b[0;34m(\u001b[0m\u001b[0;34m*\u001b[0m\u001b[0margs\u001b[0m\u001b[0;34m,\u001b[0m \u001b[0;34m**\u001b[0m\u001b[0mkwargs\u001b[0m\u001b[0;34m)\u001b[0m\u001b[0;34m\u001b[0m\u001b[0;34m\u001b[0m\u001b[0m\n\u001b[0m\u001b[1;32m    374\u001b[0m         \u001b[0;32mexcept\u001b[0m \u001b[0mjsonschema\u001b[0m\u001b[0;34m.\u001b[0m\u001b[0mValidationError\u001b[0m\u001b[0;34m:\u001b[0m\u001b[0;34m\u001b[0m\u001b[0;34m\u001b[0m\u001b[0m\n\u001b[1;32m    375\u001b[0m             \u001b[0mdct\u001b[0m \u001b[0;34m=\u001b[0m \u001b[0;32mNone\u001b[0m\u001b[0;34m\u001b[0m\u001b[0;34m\u001b[0m\u001b[0m\n",
      "\u001b[0;32m~/opt/anaconda3/lib/python3.8/site-packages/altair/utils/schemapi.py\u001b[0m in \u001b[0;36mto_dict\u001b[0;34m(self, validate, ignore, context)\u001b[0m\n\u001b[1;32m    323\u001b[0m             \u001b[0mresult\u001b[0m \u001b[0;34m=\u001b[0m \u001b[0m_todict\u001b[0m\u001b[0;34m(\u001b[0m\u001b[0mself\u001b[0m\u001b[0;34m.\u001b[0m\u001b[0m_args\u001b[0m\u001b[0;34m[\u001b[0m\u001b[0;36m0\u001b[0m\u001b[0;34m]\u001b[0m\u001b[0;34m,\u001b[0m \u001b[0mvalidate\u001b[0m\u001b[0;34m=\u001b[0m\u001b[0msub_validate\u001b[0m\u001b[0;34m,\u001b[0m \u001b[0mcontext\u001b[0m\u001b[0;34m=\u001b[0m\u001b[0mcontext\u001b[0m\u001b[0;34m)\u001b[0m\u001b[0;34m\u001b[0m\u001b[0;34m\u001b[0m\u001b[0m\n\u001b[1;32m    324\u001b[0m         \u001b[0;32melif\u001b[0m \u001b[0;32mnot\u001b[0m \u001b[0mself\u001b[0m\u001b[0;34m.\u001b[0m\u001b[0m_args\u001b[0m\u001b[0;34m:\u001b[0m\u001b[0;34m\u001b[0m\u001b[0;34m\u001b[0m\u001b[0m\n\u001b[0;32m--> 325\u001b[0;31m             result = _todict(\n\u001b[0m\u001b[1;32m    326\u001b[0m                 \u001b[0;34m{\u001b[0m\u001b[0mk\u001b[0m\u001b[0;34m:\u001b[0m \u001b[0mv\u001b[0m \u001b[0;32mfor\u001b[0m \u001b[0mk\u001b[0m\u001b[0;34m,\u001b[0m \u001b[0mv\u001b[0m \u001b[0;32min\u001b[0m \u001b[0mself\u001b[0m\u001b[0;34m.\u001b[0m\u001b[0m_kwds\u001b[0m\u001b[0;34m.\u001b[0m\u001b[0mitems\u001b[0m\u001b[0;34m(\u001b[0m\u001b[0;34m)\u001b[0m \u001b[0;32mif\u001b[0m \u001b[0mk\u001b[0m \u001b[0;32mnot\u001b[0m \u001b[0;32min\u001b[0m \u001b[0mignore\u001b[0m\u001b[0;34m}\u001b[0m\u001b[0;34m,\u001b[0m\u001b[0;34m\u001b[0m\u001b[0;34m\u001b[0m\u001b[0m\n\u001b[1;32m    327\u001b[0m                 \u001b[0mvalidate\u001b[0m\u001b[0;34m=\u001b[0m\u001b[0msub_validate\u001b[0m\u001b[0;34m,\u001b[0m\u001b[0;34m\u001b[0m\u001b[0;34m\u001b[0m\u001b[0m\n",
      "\u001b[0;32m~/opt/anaconda3/lib/python3.8/site-packages/altair/utils/schemapi.py\u001b[0m in \u001b[0;36m_todict\u001b[0;34m(obj, validate, context)\u001b[0m\n\u001b[1;32m     58\u001b[0m         \u001b[0;32mreturn\u001b[0m \u001b[0;34m[\u001b[0m\u001b[0m_todict\u001b[0m\u001b[0;34m(\u001b[0m\u001b[0mv\u001b[0m\u001b[0;34m,\u001b[0m \u001b[0mvalidate\u001b[0m\u001b[0;34m,\u001b[0m \u001b[0mcontext\u001b[0m\u001b[0;34m)\u001b[0m \u001b[0;32mfor\u001b[0m \u001b[0mv\u001b[0m \u001b[0;32min\u001b[0m \u001b[0mobj\u001b[0m\u001b[0;34m]\u001b[0m\u001b[0;34m\u001b[0m\u001b[0;34m\u001b[0m\u001b[0m\n\u001b[1;32m     59\u001b[0m     \u001b[0;32melif\u001b[0m \u001b[0misinstance\u001b[0m\u001b[0;34m(\u001b[0m\u001b[0mobj\u001b[0m\u001b[0;34m,\u001b[0m \u001b[0mdict\u001b[0m\u001b[0;34m)\u001b[0m\u001b[0;34m:\u001b[0m\u001b[0;34m\u001b[0m\u001b[0;34m\u001b[0m\u001b[0m\n\u001b[0;32m---> 60\u001b[0;31m         return {\n\u001b[0m\u001b[1;32m     61\u001b[0m             \u001b[0mk\u001b[0m\u001b[0;34m:\u001b[0m \u001b[0m_todict\u001b[0m\u001b[0;34m(\u001b[0m\u001b[0mv\u001b[0m\u001b[0;34m,\u001b[0m \u001b[0mvalidate\u001b[0m\u001b[0;34m,\u001b[0m \u001b[0mcontext\u001b[0m\u001b[0;34m)\u001b[0m\u001b[0;34m\u001b[0m\u001b[0;34m\u001b[0m\u001b[0m\n\u001b[1;32m     62\u001b[0m             \u001b[0;32mfor\u001b[0m \u001b[0mk\u001b[0m\u001b[0;34m,\u001b[0m \u001b[0mv\u001b[0m \u001b[0;32min\u001b[0m \u001b[0mobj\u001b[0m\u001b[0;34m.\u001b[0m\u001b[0mitems\u001b[0m\u001b[0;34m(\u001b[0m\u001b[0;34m)\u001b[0m\u001b[0;34m\u001b[0m\u001b[0;34m\u001b[0m\u001b[0m\n",
      "\u001b[0;32m~/opt/anaconda3/lib/python3.8/site-packages/altair/utils/schemapi.py\u001b[0m in \u001b[0;36m<dictcomp>\u001b[0;34m(.0)\u001b[0m\n\u001b[1;32m     59\u001b[0m     \u001b[0;32melif\u001b[0m \u001b[0misinstance\u001b[0m\u001b[0;34m(\u001b[0m\u001b[0mobj\u001b[0m\u001b[0;34m,\u001b[0m \u001b[0mdict\u001b[0m\u001b[0;34m)\u001b[0m\u001b[0;34m:\u001b[0m\u001b[0;34m\u001b[0m\u001b[0;34m\u001b[0m\u001b[0m\n\u001b[1;32m     60\u001b[0m         return {\n\u001b[0;32m---> 61\u001b[0;31m             \u001b[0mk\u001b[0m\u001b[0;34m:\u001b[0m \u001b[0m_todict\u001b[0m\u001b[0;34m(\u001b[0m\u001b[0mv\u001b[0m\u001b[0;34m,\u001b[0m \u001b[0mvalidate\u001b[0m\u001b[0;34m,\u001b[0m \u001b[0mcontext\u001b[0m\u001b[0;34m)\u001b[0m\u001b[0;34m\u001b[0m\u001b[0;34m\u001b[0m\u001b[0m\n\u001b[0m\u001b[1;32m     62\u001b[0m             \u001b[0;32mfor\u001b[0m \u001b[0mk\u001b[0m\u001b[0;34m,\u001b[0m \u001b[0mv\u001b[0m \u001b[0;32min\u001b[0m \u001b[0mobj\u001b[0m\u001b[0;34m.\u001b[0m\u001b[0mitems\u001b[0m\u001b[0;34m(\u001b[0m\u001b[0;34m)\u001b[0m\u001b[0;34m\u001b[0m\u001b[0;34m\u001b[0m\u001b[0m\n\u001b[1;32m     63\u001b[0m             \u001b[0;32mif\u001b[0m \u001b[0mv\u001b[0m \u001b[0;32mis\u001b[0m \u001b[0;32mnot\u001b[0m \u001b[0mUndefined\u001b[0m\u001b[0;34m\u001b[0m\u001b[0;34m\u001b[0m\u001b[0m\n",
      "\u001b[0;32m~/opt/anaconda3/lib/python3.8/site-packages/altair/utils/schemapi.py\u001b[0m in \u001b[0;36m_todict\u001b[0;34m(obj, validate, context)\u001b[0m\n\u001b[1;32m     54\u001b[0m     \u001b[0;34m\"\"\"Convert an object to a dict representation.\"\"\"\u001b[0m\u001b[0;34m\u001b[0m\u001b[0;34m\u001b[0m\u001b[0m\n\u001b[1;32m     55\u001b[0m     \u001b[0;32mif\u001b[0m \u001b[0misinstance\u001b[0m\u001b[0;34m(\u001b[0m\u001b[0mobj\u001b[0m\u001b[0;34m,\u001b[0m \u001b[0mSchemaBase\u001b[0m\u001b[0;34m)\u001b[0m\u001b[0;34m:\u001b[0m\u001b[0;34m\u001b[0m\u001b[0;34m\u001b[0m\u001b[0m\n\u001b[0;32m---> 56\u001b[0;31m         \u001b[0;32mreturn\u001b[0m \u001b[0mobj\u001b[0m\u001b[0;34m.\u001b[0m\u001b[0mto_dict\u001b[0m\u001b[0;34m(\u001b[0m\u001b[0mvalidate\u001b[0m\u001b[0;34m=\u001b[0m\u001b[0mvalidate\u001b[0m\u001b[0;34m,\u001b[0m \u001b[0mcontext\u001b[0m\u001b[0;34m=\u001b[0m\u001b[0mcontext\u001b[0m\u001b[0;34m)\u001b[0m\u001b[0;34m\u001b[0m\u001b[0;34m\u001b[0m\u001b[0m\n\u001b[0m\u001b[1;32m     57\u001b[0m     \u001b[0;32melif\u001b[0m \u001b[0misinstance\u001b[0m\u001b[0;34m(\u001b[0m\u001b[0mobj\u001b[0m\u001b[0;34m,\u001b[0m \u001b[0;34m(\u001b[0m\u001b[0mlist\u001b[0m\u001b[0;34m,\u001b[0m \u001b[0mtuple\u001b[0m\u001b[0;34m,\u001b[0m \u001b[0mnp\u001b[0m\u001b[0;34m.\u001b[0m\u001b[0mndarray\u001b[0m\u001b[0;34m)\u001b[0m\u001b[0;34m)\u001b[0m\u001b[0;34m:\u001b[0m\u001b[0;34m\u001b[0m\u001b[0;34m\u001b[0m\u001b[0m\n\u001b[1;32m     58\u001b[0m         \u001b[0;32mreturn\u001b[0m \u001b[0;34m[\u001b[0m\u001b[0m_todict\u001b[0m\u001b[0;34m(\u001b[0m\u001b[0mv\u001b[0m\u001b[0;34m,\u001b[0m \u001b[0mvalidate\u001b[0m\u001b[0;34m,\u001b[0m \u001b[0mcontext\u001b[0m\u001b[0;34m)\u001b[0m \u001b[0;32mfor\u001b[0m \u001b[0mv\u001b[0m \u001b[0;32min\u001b[0m \u001b[0mobj\u001b[0m\u001b[0;34m]\u001b[0m\u001b[0;34m\u001b[0m\u001b[0;34m\u001b[0m\u001b[0m\n",
      "\u001b[0;32m~/opt/anaconda3/lib/python3.8/site-packages/altair/utils/schemapi.py\u001b[0m in \u001b[0;36mto_dict\u001b[0;34m(self, validate, ignore, context)\u001b[0m\n\u001b[1;32m    323\u001b[0m             \u001b[0mresult\u001b[0m \u001b[0;34m=\u001b[0m \u001b[0m_todict\u001b[0m\u001b[0;34m(\u001b[0m\u001b[0mself\u001b[0m\u001b[0;34m.\u001b[0m\u001b[0m_args\u001b[0m\u001b[0;34m[\u001b[0m\u001b[0;36m0\u001b[0m\u001b[0;34m]\u001b[0m\u001b[0;34m,\u001b[0m \u001b[0mvalidate\u001b[0m\u001b[0;34m=\u001b[0m\u001b[0msub_validate\u001b[0m\u001b[0;34m,\u001b[0m \u001b[0mcontext\u001b[0m\u001b[0;34m=\u001b[0m\u001b[0mcontext\u001b[0m\u001b[0;34m)\u001b[0m\u001b[0;34m\u001b[0m\u001b[0;34m\u001b[0m\u001b[0m\n\u001b[1;32m    324\u001b[0m         \u001b[0;32melif\u001b[0m \u001b[0;32mnot\u001b[0m \u001b[0mself\u001b[0m\u001b[0;34m.\u001b[0m\u001b[0m_args\u001b[0m\u001b[0;34m:\u001b[0m\u001b[0;34m\u001b[0m\u001b[0;34m\u001b[0m\u001b[0m\n\u001b[0;32m--> 325\u001b[0;31m             result = _todict(\n\u001b[0m\u001b[1;32m    326\u001b[0m                 \u001b[0;34m{\u001b[0m\u001b[0mk\u001b[0m\u001b[0;34m:\u001b[0m \u001b[0mv\u001b[0m \u001b[0;32mfor\u001b[0m \u001b[0mk\u001b[0m\u001b[0;34m,\u001b[0m \u001b[0mv\u001b[0m \u001b[0;32min\u001b[0m \u001b[0mself\u001b[0m\u001b[0;34m.\u001b[0m\u001b[0m_kwds\u001b[0m\u001b[0;34m.\u001b[0m\u001b[0mitems\u001b[0m\u001b[0;34m(\u001b[0m\u001b[0;34m)\u001b[0m \u001b[0;32mif\u001b[0m \u001b[0mk\u001b[0m \u001b[0;32mnot\u001b[0m \u001b[0;32min\u001b[0m \u001b[0mignore\u001b[0m\u001b[0;34m}\u001b[0m\u001b[0;34m,\u001b[0m\u001b[0;34m\u001b[0m\u001b[0;34m\u001b[0m\u001b[0m\n\u001b[1;32m    327\u001b[0m                 \u001b[0mvalidate\u001b[0m\u001b[0;34m=\u001b[0m\u001b[0msub_validate\u001b[0m\u001b[0;34m,\u001b[0m\u001b[0;34m\u001b[0m\u001b[0;34m\u001b[0m\u001b[0m\n",
      "\u001b[0;32m~/opt/anaconda3/lib/python3.8/site-packages/altair/utils/schemapi.py\u001b[0m in \u001b[0;36m_todict\u001b[0;34m(obj, validate, context)\u001b[0m\n\u001b[1;32m     58\u001b[0m         \u001b[0;32mreturn\u001b[0m \u001b[0;34m[\u001b[0m\u001b[0m_todict\u001b[0m\u001b[0;34m(\u001b[0m\u001b[0mv\u001b[0m\u001b[0;34m,\u001b[0m \u001b[0mvalidate\u001b[0m\u001b[0;34m,\u001b[0m \u001b[0mcontext\u001b[0m\u001b[0;34m)\u001b[0m \u001b[0;32mfor\u001b[0m \u001b[0mv\u001b[0m \u001b[0;32min\u001b[0m \u001b[0mobj\u001b[0m\u001b[0;34m]\u001b[0m\u001b[0;34m\u001b[0m\u001b[0;34m\u001b[0m\u001b[0m\n\u001b[1;32m     59\u001b[0m     \u001b[0;32melif\u001b[0m \u001b[0misinstance\u001b[0m\u001b[0;34m(\u001b[0m\u001b[0mobj\u001b[0m\u001b[0;34m,\u001b[0m \u001b[0mdict\u001b[0m\u001b[0;34m)\u001b[0m\u001b[0;34m:\u001b[0m\u001b[0;34m\u001b[0m\u001b[0;34m\u001b[0m\u001b[0m\n\u001b[0;32m---> 60\u001b[0;31m         return {\n\u001b[0m\u001b[1;32m     61\u001b[0m             \u001b[0mk\u001b[0m\u001b[0;34m:\u001b[0m \u001b[0m_todict\u001b[0m\u001b[0;34m(\u001b[0m\u001b[0mv\u001b[0m\u001b[0;34m,\u001b[0m \u001b[0mvalidate\u001b[0m\u001b[0;34m,\u001b[0m \u001b[0mcontext\u001b[0m\u001b[0;34m)\u001b[0m\u001b[0;34m\u001b[0m\u001b[0;34m\u001b[0m\u001b[0m\n\u001b[1;32m     62\u001b[0m             \u001b[0;32mfor\u001b[0m \u001b[0mk\u001b[0m\u001b[0;34m,\u001b[0m \u001b[0mv\u001b[0m \u001b[0;32min\u001b[0m \u001b[0mobj\u001b[0m\u001b[0;34m.\u001b[0m\u001b[0mitems\u001b[0m\u001b[0;34m(\u001b[0m\u001b[0;34m)\u001b[0m\u001b[0;34m\u001b[0m\u001b[0;34m\u001b[0m\u001b[0m\n",
      "\u001b[0;32m~/opt/anaconda3/lib/python3.8/site-packages/altair/utils/schemapi.py\u001b[0m in \u001b[0;36m<dictcomp>\u001b[0;34m(.0)\u001b[0m\n\u001b[1;32m     59\u001b[0m     \u001b[0;32melif\u001b[0m \u001b[0misinstance\u001b[0m\u001b[0;34m(\u001b[0m\u001b[0mobj\u001b[0m\u001b[0;34m,\u001b[0m \u001b[0mdict\u001b[0m\u001b[0;34m)\u001b[0m\u001b[0;34m:\u001b[0m\u001b[0;34m\u001b[0m\u001b[0;34m\u001b[0m\u001b[0m\n\u001b[1;32m     60\u001b[0m         return {\n\u001b[0;32m---> 61\u001b[0;31m             \u001b[0mk\u001b[0m\u001b[0;34m:\u001b[0m \u001b[0m_todict\u001b[0m\u001b[0;34m(\u001b[0m\u001b[0mv\u001b[0m\u001b[0;34m,\u001b[0m \u001b[0mvalidate\u001b[0m\u001b[0;34m,\u001b[0m \u001b[0mcontext\u001b[0m\u001b[0;34m)\u001b[0m\u001b[0;34m\u001b[0m\u001b[0;34m\u001b[0m\u001b[0m\n\u001b[0m\u001b[1;32m     62\u001b[0m             \u001b[0;32mfor\u001b[0m \u001b[0mk\u001b[0m\u001b[0;34m,\u001b[0m \u001b[0mv\u001b[0m \u001b[0;32min\u001b[0m \u001b[0mobj\u001b[0m\u001b[0;34m.\u001b[0m\u001b[0mitems\u001b[0m\u001b[0;34m(\u001b[0m\u001b[0;34m)\u001b[0m\u001b[0;34m\u001b[0m\u001b[0;34m\u001b[0m\u001b[0m\n\u001b[1;32m     63\u001b[0m             \u001b[0;32mif\u001b[0m \u001b[0mv\u001b[0m \u001b[0;32mis\u001b[0m \u001b[0;32mnot\u001b[0m \u001b[0mUndefined\u001b[0m\u001b[0;34m\u001b[0m\u001b[0;34m\u001b[0m\u001b[0m\n",
      "\u001b[0;32m~/opt/anaconda3/lib/python3.8/site-packages/altair/utils/schemapi.py\u001b[0m in \u001b[0;36m_todict\u001b[0;34m(obj, validate, context)\u001b[0m\n\u001b[1;32m     54\u001b[0m     \u001b[0;34m\"\"\"Convert an object to a dict representation.\"\"\"\u001b[0m\u001b[0;34m\u001b[0m\u001b[0;34m\u001b[0m\u001b[0m\n\u001b[1;32m     55\u001b[0m     \u001b[0;32mif\u001b[0m \u001b[0misinstance\u001b[0m\u001b[0;34m(\u001b[0m\u001b[0mobj\u001b[0m\u001b[0;34m,\u001b[0m \u001b[0mSchemaBase\u001b[0m\u001b[0;34m)\u001b[0m\u001b[0;34m:\u001b[0m\u001b[0;34m\u001b[0m\u001b[0;34m\u001b[0m\u001b[0m\n\u001b[0;32m---> 56\u001b[0;31m         \u001b[0;32mreturn\u001b[0m \u001b[0mobj\u001b[0m\u001b[0;34m.\u001b[0m\u001b[0mto_dict\u001b[0m\u001b[0;34m(\u001b[0m\u001b[0mvalidate\u001b[0m\u001b[0;34m=\u001b[0m\u001b[0mvalidate\u001b[0m\u001b[0;34m,\u001b[0m \u001b[0mcontext\u001b[0m\u001b[0;34m=\u001b[0m\u001b[0mcontext\u001b[0m\u001b[0;34m)\u001b[0m\u001b[0;34m\u001b[0m\u001b[0;34m\u001b[0m\u001b[0m\n\u001b[0m\u001b[1;32m     57\u001b[0m     \u001b[0;32melif\u001b[0m \u001b[0misinstance\u001b[0m\u001b[0;34m(\u001b[0m\u001b[0mobj\u001b[0m\u001b[0;34m,\u001b[0m \u001b[0;34m(\u001b[0m\u001b[0mlist\u001b[0m\u001b[0;34m,\u001b[0m \u001b[0mtuple\u001b[0m\u001b[0;34m,\u001b[0m \u001b[0mnp\u001b[0m\u001b[0;34m.\u001b[0m\u001b[0mndarray\u001b[0m\u001b[0;34m)\u001b[0m\u001b[0;34m)\u001b[0m\u001b[0;34m:\u001b[0m\u001b[0;34m\u001b[0m\u001b[0;34m\u001b[0m\u001b[0m\n\u001b[1;32m     58\u001b[0m         \u001b[0;32mreturn\u001b[0m \u001b[0;34m[\u001b[0m\u001b[0m_todict\u001b[0m\u001b[0;34m(\u001b[0m\u001b[0mv\u001b[0m\u001b[0;34m,\u001b[0m \u001b[0mvalidate\u001b[0m\u001b[0;34m,\u001b[0m \u001b[0mcontext\u001b[0m\u001b[0;34m)\u001b[0m \u001b[0;32mfor\u001b[0m \u001b[0mv\u001b[0m \u001b[0;32min\u001b[0m \u001b[0mobj\u001b[0m\u001b[0;34m]\u001b[0m\u001b[0;34m\u001b[0m\u001b[0;34m\u001b[0m\u001b[0m\n",
      "\u001b[0;32m~/opt/anaconda3/lib/python3.8/site-packages/altair/vegalite/v4/schema/channels.py\u001b[0m in \u001b[0;36mto_dict\u001b[0;34m(self, validate, ignore, context)\u001b[0m\n\u001b[1;32m     38\u001b[0m             \u001b[0;32melif\u001b[0m \u001b[0;32mnot\u001b[0m \u001b[0;34m(\u001b[0m\u001b[0mtype_in_shorthand\u001b[0m \u001b[0;32mor\u001b[0m \u001b[0mtype_defined_explicitly\u001b[0m\u001b[0;34m)\u001b[0m\u001b[0;34m:\u001b[0m\u001b[0;34m\u001b[0m\u001b[0;34m\u001b[0m\u001b[0m\n\u001b[1;32m     39\u001b[0m                 \u001b[0;32mif\u001b[0m \u001b[0misinstance\u001b[0m\u001b[0;34m(\u001b[0m\u001b[0mcontext\u001b[0m\u001b[0;34m.\u001b[0m\u001b[0mget\u001b[0m\u001b[0;34m(\u001b[0m\u001b[0;34m'data'\u001b[0m\u001b[0;34m,\u001b[0m \u001b[0;32mNone\u001b[0m\u001b[0;34m)\u001b[0m\u001b[0;34m,\u001b[0m \u001b[0mpd\u001b[0m\u001b[0;34m.\u001b[0m\u001b[0mDataFrame\u001b[0m\u001b[0;34m)\u001b[0m\u001b[0;34m:\u001b[0m\u001b[0;34m\u001b[0m\u001b[0;34m\u001b[0m\u001b[0m\n\u001b[0;32m---> 40\u001b[0;31m                     raise ValueError(\"{} encoding field is specified without a type; \"\n\u001b[0m\u001b[1;32m     41\u001b[0m                                      \u001b[0;34m\"the type cannot be inferred because it does not \"\u001b[0m\u001b[0;34m\u001b[0m\u001b[0;34m\u001b[0m\u001b[0m\n\u001b[1;32m     42\u001b[0m                                      \"match any column in the data.\".format(shorthand))\n",
      "\u001b[0;31mValueError\u001b[0m: sum(ticker:Q) encoding field is specified without a type; the type cannot be inferred because it does not match any column in the data."
     ]
    },
    {
     "data": {
      "text/plain": [
       "alt.Chart(...)"
      ]
     },
     "execution_count": 58,
     "metadata": {},
     "output_type": "execute_result"
    }
   ],
   "source": [
    "\n",
    "to_float = lambda x: float(x.strip('%'))/100\n",
    "df = df.applymap(to_float)\n",
    "\n",
    "alt.Chart(df).mark_bar().encode(\n",
    "    x='window:O',\n",
    "    y='ticker:Q',\n",
    "    color='ticker:O'\n",
    ").properties(height=50, width=400)\n"
   ]
  },
  {
   "cell_type": "code",
   "execution_count": null,
   "metadata": {},
   "outputs": [],
   "source": []
  },
  {
   "cell_type": "code",
   "execution_count": null,
   "metadata": {},
   "outputs": [],
   "source": []
  }
 ],
 "metadata": {
  "kernelspec": {
   "display_name": "Python 3",
   "language": "python",
   "name": "python3"
  },
  "language_info": {
   "codemirror_mode": {
    "name": "ipython",
    "version": 3
   },
   "file_extension": ".py",
   "mimetype": "text/x-python",
   "name": "python",
   "nbconvert_exporter": "python",
   "pygments_lexer": "ipython3",
   "version": "3.8.5"
  }
 },
 "nbformat": 4,
 "nbformat_minor": 4
}
