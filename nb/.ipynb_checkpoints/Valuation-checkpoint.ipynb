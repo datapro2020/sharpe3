{
 "cells": [
  {
   "cell_type": "code",
   "execution_count": 1,
   "metadata": {},
   "outputs": [
    {
     "data": {
      "text/plain": [
       "'AAPL'"
      ]
     },
     "execution_count": 1,
     "metadata": {},
     "output_type": "execute_result"
    }
   ],
   "source": [
    "import numpy as np\n",
    "import pandas as pd\n",
    "import pandas_datareader.data as web\n",
    "from datetime import datetime, timedelta\n",
    "import altair as alt\n",
    "from pandas.io.json import json_normalize\n",
    "import requests\n",
    "import yahoo_fin.stock_info as yf\n",
    "from alpha_vantage.fundamentaldata import FundamentalData\n",
    "import json\n",
    "from fbprophet import Prophet \n",
    "\n",
    "D = 400\n",
    "date_D_days_ago = datetime.now() - timedelta(days=D)\n",
    "now = datetime.now()\n",
    "\n",
    "start_date = date_D_days_ago.strftime('%F')\n",
    "end_date = now.strftime('%F')\n",
    "\n",
    "apikey='2HCDHLMKIK99309W'\n",
    "tech_stocks = ['AAPL', 'PTON', 'TSLA','ADYEY']\n",
    "\n",
    "\n",
    "tech_stocks[0]\n",
    "\n",
    "\n",
    "# Operating CashFlow minus Capital Expenditures\n"
   ]
  },
  {
   "cell_type": "code",
   "execution_count": 2,
   "metadata": {},
   "outputs": [],
   "source": [
    "#Get Data from Yahoo\n",
    "def StockData(ticker, start_d, end_d):\n",
    "    data = web.get_data_yahoo(ticker, start = start_d, end = end_d)\n",
    "    price =  pd.DataFrame(data['Adj Close'])\n",
    "    \n",
    "    #volume = pd.DataFrame(data['Volume'])\n",
    "    return price"
   ]
  },
  {
   "cell_type": "code",
   "execution_count": 37,
   "metadata": {},
   "outputs": [],
   "source": [
    "price = StockData(tech_stocks,start_date,end_date)"
   ]
  },
  {
   "cell_type": "code",
   "execution_count": null,
   "metadata": {},
   "outputs": [],
   "source": [
    "test = price[tech_stocks[0]].reset_index()\n",
    "\n",
    "test.rename(columns ={'Date':'ds','AAPL':'y'}, inplace=True)"
   ]
  },
  {
   "cell_type": "code",
   "execution_count": null,
   "metadata": {},
   "outputs": [],
   "source": [
    "prophet = Prophet()\n",
    "prophet.fit(test)"
   ]
  },
  {
   "cell_type": "code",
   "execution_count": null,
   "metadata": {},
   "outputs": [],
   "source": [
    "future_prices=prophet.make_future_dataframe(periods=365)\n",
    "future = prophet.predict(future_prices)"
   ]
  },
  {
   "cell_type": "code",
   "execution_count": null,
   "metadata": {},
   "outputs": [],
   "source": [
    "f = future[['ds','trend','yhat_lower','yhat_upper']]"
   ]
  },
  {
   "cell_type": "code",
   "execution_count": null,
   "metadata": {},
   "outputs": [],
   "source": [
    "f"
   ]
  },
  {
   "cell_type": "code",
   "execution_count": null,
   "metadata": {},
   "outputs": [],
   "source": [
    "\n",
    "f = f.melt('ds', var_name='bands', value_name='price')\n",
    "f"
   ]
  },
  {
   "cell_type": "code",
   "execution_count": null,
   "metadata": {},
   "outputs": [],
   "source": [
    "pic = alt.Chart(f).mark_line().encode(\n",
    "        x='ds:T',\n",
    "        y='price:Q',\n",
    "        color='bands:N', tooltip=['bands:N', 'ds:N','price:N']\n",
    "    )"
   ]
  },
  {
   "cell_type": "code",
   "execution_count": null,
   "metadata": {},
   "outputs": [],
   "source": [
    "pic"
   ]
  },
  {
   "cell_type": "code",
   "execution_count": null,
   "metadata": {},
   "outputs": [],
   "source": [
    "prophet.plot_components(future)"
   ]
  },
  {
   "cell_type": "code",
   "execution_count": null,
   "metadata": {},
   "outputs": [],
   "source": [
    "test.columns = ['a','b']"
   ]
  },
  {
   "cell_type": "code",
   "execution_count": null,
   "metadata": {},
   "outputs": [],
   "source": [
    "test\n"
   ]
  },
  {
   "cell_type": "code",
   "execution_count": 3,
   "metadata": {},
   "outputs": [],
   "source": [
    "df1 = pd.DataFrame({'key' : ['a','b','c'],'value': range(3)}, index = ['a1','x2','a3'])\n",
    "df2 = pd.DataFrame({'key' : ['x','y','x','v'],'stuff': range(4)}, index = ['a1','a2','a3','a4'])"
   ]
  },
  {
   "cell_type": "code",
   "execution_count": 4,
   "metadata": {},
   "outputs": [
    {
     "data": {
      "text/html": [
       "<div>\n",
       "<style scoped>\n",
       "    .dataframe tbody tr th:only-of-type {\n",
       "        vertical-align: middle;\n",
       "    }\n",
       "\n",
       "    .dataframe tbody tr th {\n",
       "        vertical-align: top;\n",
       "    }\n",
       "\n",
       "    .dataframe thead th {\n",
       "        text-align: right;\n",
       "    }\n",
       "</style>\n",
       "<table border=\"1\" class=\"dataframe\">\n",
       "  <thead>\n",
       "    <tr style=\"text-align: right;\">\n",
       "      <th></th>\n",
       "      <th>key</th>\n",
       "      <th>value</th>\n",
       "    </tr>\n",
       "  </thead>\n",
       "  <tbody>\n",
       "    <tr>\n",
       "      <th>a1</th>\n",
       "      <td>a</td>\n",
       "      <td>0</td>\n",
       "    </tr>\n",
       "    <tr>\n",
       "      <th>x2</th>\n",
       "      <td>b</td>\n",
       "      <td>1</td>\n",
       "    </tr>\n",
       "    <tr>\n",
       "      <th>a3</th>\n",
       "      <td>c</td>\n",
       "      <td>2</td>\n",
       "    </tr>\n",
       "  </tbody>\n",
       "</table>\n",
       "</div>"
      ],
      "text/plain": [
       "   key  value\n",
       "a1   a      0\n",
       "x2   b      1\n",
       "a3   c      2"
      ]
     },
     "execution_count": 4,
     "metadata": {},
     "output_type": "execute_result"
    }
   ],
   "source": [
    "df1"
   ]
  },
  {
   "cell_type": "code",
   "execution_count": 5,
   "metadata": {},
   "outputs": [
    {
     "data": {
      "text/html": [
       "<div>\n",
       "<style scoped>\n",
       "    .dataframe tbody tr th:only-of-type {\n",
       "        vertical-align: middle;\n",
       "    }\n",
       "\n",
       "    .dataframe tbody tr th {\n",
       "        vertical-align: top;\n",
       "    }\n",
       "\n",
       "    .dataframe thead th {\n",
       "        text-align: right;\n",
       "    }\n",
       "</style>\n",
       "<table border=\"1\" class=\"dataframe\">\n",
       "  <thead>\n",
       "    <tr style=\"text-align: right;\">\n",
       "      <th></th>\n",
       "      <th>key</th>\n",
       "      <th>stuff</th>\n",
       "    </tr>\n",
       "  </thead>\n",
       "  <tbody>\n",
       "    <tr>\n",
       "      <th>a1</th>\n",
       "      <td>x</td>\n",
       "      <td>0</td>\n",
       "    </tr>\n",
       "    <tr>\n",
       "      <th>a2</th>\n",
       "      <td>y</td>\n",
       "      <td>1</td>\n",
       "    </tr>\n",
       "    <tr>\n",
       "      <th>a3</th>\n",
       "      <td>x</td>\n",
       "      <td>2</td>\n",
       "    </tr>\n",
       "    <tr>\n",
       "      <th>a4</th>\n",
       "      <td>v</td>\n",
       "      <td>3</td>\n",
       "    </tr>\n",
       "  </tbody>\n",
       "</table>\n",
       "</div>"
      ],
      "text/plain": [
       "   key  stuff\n",
       "a1   x      0\n",
       "a2   y      1\n",
       "a3   x      2\n",
       "a4   v      3"
      ]
     },
     "execution_count": 5,
     "metadata": {},
     "output_type": "execute_result"
    }
   ],
   "source": [
    "df2"
   ]
  },
  {
   "cell_type": "code",
   "execution_count": 6,
   "metadata": {},
   "outputs": [
    {
     "data": {
      "text/html": [
       "<div>\n",
       "<style scoped>\n",
       "    .dataframe tbody tr th:only-of-type {\n",
       "        vertical-align: middle;\n",
       "    }\n",
       "\n",
       "    .dataframe tbody tr th {\n",
       "        vertical-align: top;\n",
       "    }\n",
       "\n",
       "    .dataframe thead th {\n",
       "        text-align: right;\n",
       "    }\n",
       "</style>\n",
       "<table border=\"1\" class=\"dataframe\">\n",
       "  <thead>\n",
       "    <tr style=\"text-align: right;\">\n",
       "      <th></th>\n",
       "      <th>key</th>\n",
       "      <th>stuff</th>\n",
       "      <th>value</th>\n",
       "    </tr>\n",
       "  </thead>\n",
       "  <tbody>\n",
       "    <tr>\n",
       "      <th>a1</th>\n",
       "      <td>a</td>\n",
       "      <td>0.0</td>\n",
       "      <td>0.0</td>\n",
       "    </tr>\n",
       "    <tr>\n",
       "      <th>a2</th>\n",
       "      <td>y</td>\n",
       "      <td>1.0</td>\n",
       "      <td>NaN</td>\n",
       "    </tr>\n",
       "    <tr>\n",
       "      <th>a3</th>\n",
       "      <td>c</td>\n",
       "      <td>2.0</td>\n",
       "      <td>2.0</td>\n",
       "    </tr>\n",
       "    <tr>\n",
       "      <th>a4</th>\n",
       "      <td>v</td>\n",
       "      <td>3.0</td>\n",
       "      <td>NaN</td>\n",
       "    </tr>\n",
       "    <tr>\n",
       "      <th>x2</th>\n",
       "      <td>b</td>\n",
       "      <td>NaN</td>\n",
       "      <td>1.0</td>\n",
       "    </tr>\n",
       "  </tbody>\n",
       "</table>\n",
       "</div>"
      ],
      "text/plain": [
       "   key  stuff  value\n",
       "a1   a    0.0    0.0\n",
       "a2   y    1.0    NaN\n",
       "a3   c    2.0    2.0\n",
       "a4   v    3.0    NaN\n",
       "x2   b    NaN    1.0"
      ]
     },
     "execution_count": 6,
     "metadata": {},
     "output_type": "execute_result"
    }
   ],
   "source": [
    "df1.combine_first(df2)"
   ]
  },
  {
   "cell_type": "code",
   "execution_count": null,
   "metadata": {},
   "outputs": [],
   "source": [
    "df1.index.str.match('a3').any()"
   ]
  },
  {
   "cell_type": "code",
   "execution_count": null,
   "metadata": {},
   "outputs": [],
   "source": [
    "df1.columns.values[0]"
   ]
  },
  {
   "cell_type": "code",
   "execution_count": null,
   "metadata": {},
   "outputs": [],
   "source": []
  },
  {
   "cell_type": "code",
   "execution_count": null,
   "metadata": {},
   "outputs": [],
   "source": [
    "%pip install streamlit-disqus"
   ]
  },
  {
   "cell_type": "code",
   "execution_count": 18,
   "metadata": {},
   "outputs": [],
   "source": [
    "win = yf.get_day_gainers()\n",
    "win = win.sort_values(by='Market Cap',ascending = False).head(5).sort_values(by='% Change',ascending = False)"
   ]
  },
  {
   "cell_type": "code",
   "execution_count": 19,
   "metadata": {},
   "outputs": [
    {
     "data": {
      "text/html": [
       "<div>\n",
       "<style scoped>\n",
       "    .dataframe tbody tr th:only-of-type {\n",
       "        vertical-align: middle;\n",
       "    }\n",
       "\n",
       "    .dataframe tbody tr th {\n",
       "        vertical-align: top;\n",
       "    }\n",
       "\n",
       "    .dataframe thead th {\n",
       "        text-align: right;\n",
       "    }\n",
       "</style>\n",
       "<table border=\"1\" class=\"dataframe\">\n",
       "  <thead>\n",
       "    <tr style=\"text-align: right;\">\n",
       "      <th></th>\n",
       "      <th>Symbol</th>\n",
       "      <th>Name</th>\n",
       "      <th>Price (Intraday)</th>\n",
       "      <th>Change</th>\n",
       "      <th>% Change</th>\n",
       "      <th>Volume</th>\n",
       "      <th>Avg Vol (3 month)</th>\n",
       "      <th>Market Cap</th>\n",
       "      <th>PE Ratio (TTM)</th>\n",
       "    </tr>\n",
       "  </thead>\n",
       "  <tbody>\n",
       "    <tr>\n",
       "      <th>14</th>\n",
       "      <td>CICHF</td>\n",
       "      <td>China Construction Bank Corporation</td>\n",
       "      <td>0.84</td>\n",
       "      <td>0.105</td>\n",
       "      <td>14.29</td>\n",
       "      <td>2.199900e+13</td>\n",
       "      <td>9.271100e+13</td>\n",
       "      <td>2.240200e+11</td>\n",
       "      <td>5.42</td>\n",
       "    </tr>\n",
       "    <tr>\n",
       "      <th>36</th>\n",
       "      <td>JDCMF</td>\n",
       "      <td>JD.com, Inc.</td>\n",
       "      <td>49.35</td>\n",
       "      <td>3.740</td>\n",
       "      <td>8.20</td>\n",
       "      <td>3.113300e+13</td>\n",
       "      <td>7.380000e+13</td>\n",
       "      <td>1.540560e+11</td>\n",
       "      <td>NaN</td>\n",
       "    </tr>\n",
       "    <tr>\n",
       "      <th>61</th>\n",
       "      <td>ABNB</td>\n",
       "      <td>Airbnb, Inc.</td>\n",
       "      <td>211.66</td>\n",
       "      <td>11.780</td>\n",
       "      <td>5.89</td>\n",
       "      <td>5.257000e+06</td>\n",
       "      <td>9.675000e+06</td>\n",
       "      <td>1.264560e+11</td>\n",
       "      <td>NaN</td>\n",
       "    </tr>\n",
       "    <tr>\n",
       "      <th>77</th>\n",
       "      <td>PDD</td>\n",
       "      <td>Pinduoduo Inc.</td>\n",
       "      <td>199.61</td>\n",
       "      <td>9.850</td>\n",
       "      <td>5.19</td>\n",
       "      <td>6.608000e+06</td>\n",
       "      <td>9.621000e+06</td>\n",
       "      <td>2.447880e+11</td>\n",
       "      <td>NaN</td>\n",
       "    </tr>\n",
       "    <tr>\n",
       "      <th>82</th>\n",
       "      <td>TM</td>\n",
       "      <td>Toyota Motor Corporation</td>\n",
       "      <td>161.56</td>\n",
       "      <td>7.560</td>\n",
       "      <td>4.91</td>\n",
       "      <td>1.400000e+06</td>\n",
       "      <td>3.003660e+14</td>\n",
       "      <td>2.228350e+11</td>\n",
       "      <td>9.88</td>\n",
       "    </tr>\n",
       "  </tbody>\n",
       "</table>\n",
       "</div>"
      ],
      "text/plain": [
       "   Symbol                                 Name  Price (Intraday)  Change  \\\n",
       "14  CICHF  China Construction Bank Corporation              0.84   0.105   \n",
       "36  JDCMF                         JD.com, Inc.             49.35   3.740   \n",
       "61   ABNB                         Airbnb, Inc.            211.66  11.780   \n",
       "77    PDD                       Pinduoduo Inc.            199.61   9.850   \n",
       "82     TM             Toyota Motor Corporation            161.56   7.560   \n",
       "\n",
       "    % Change        Volume  Avg Vol (3 month)    Market Cap  PE Ratio (TTM)  \n",
       "14     14.29  2.199900e+13       9.271100e+13  2.240200e+11            5.42  \n",
       "36      8.20  3.113300e+13       7.380000e+13  1.540560e+11             NaN  \n",
       "61      5.89  5.257000e+06       9.675000e+06  1.264560e+11             NaN  \n",
       "77      5.19  6.608000e+06       9.621000e+06  2.447880e+11             NaN  \n",
       "82      4.91  1.400000e+06       3.003660e+14  2.228350e+11            9.88  "
      ]
     },
     "execution_count": 19,
     "metadata": {},
     "output_type": "execute_result"
    }
   ],
   "source": [
    "win"
   ]
  },
  {
   "cell_type": "code",
   "execution_count": 20,
   "metadata": {},
   "outputs": [],
   "source": [
    "lose = yf.get_day_losers()\n",
    "lose = lose.sort_values(by='Market Cap',ascending = False).head(5).sort_values(by='% Change',ascending = True)"
   ]
  },
  {
   "cell_type": "code",
   "execution_count": 21,
   "metadata": {},
   "outputs": [
    {
     "data": {
      "text/html": [
       "<div>\n",
       "<style scoped>\n",
       "    .dataframe tbody tr th:only-of-type {\n",
       "        vertical-align: middle;\n",
       "    }\n",
       "\n",
       "    .dataframe tbody tr th {\n",
       "        vertical-align: top;\n",
       "    }\n",
       "\n",
       "    .dataframe thead th {\n",
       "        text-align: right;\n",
       "    }\n",
       "</style>\n",
       "<table border=\"1\" class=\"dataframe\">\n",
       "  <thead>\n",
       "    <tr style=\"text-align: right;\">\n",
       "      <th></th>\n",
       "      <th>Symbol</th>\n",
       "      <th>Name</th>\n",
       "      <th>Price (Intraday)</th>\n",
       "      <th>Change</th>\n",
       "      <th>% Change</th>\n",
       "      <th>Volume</th>\n",
       "      <th>Avg Vol (3 month)</th>\n",
       "      <th>Market Cap</th>\n",
       "      <th>PE Ratio (TTM)</th>\n",
       "    </tr>\n",
       "  </thead>\n",
       "  <tbody>\n",
       "    <tr>\n",
       "      <th>8</th>\n",
       "      <td>DFIFF</td>\n",
       "      <td>Diamond Fields Resources Inc.</td>\n",
       "      <td>0.1588</td>\n",
       "      <td>-0.0219</td>\n",
       "      <td>-12.10</td>\n",
       "      <td>3.884900e+13</td>\n",
       "      <td>6.276200e+13</td>\n",
       "      <td>8.389100e+10</td>\n",
       "      <td>NaN</td>\n",
       "    </tr>\n",
       "    <tr>\n",
       "      <th>45</th>\n",
       "      <td>AMKBY</td>\n",
       "      <td>A.P. Møller - Mærsk A/S</td>\n",
       "      <td>10.2700</td>\n",
       "      <td>-0.7200</td>\n",
       "      <td>-6.55</td>\n",
       "      <td>3.165920e+14</td>\n",
       "      <td>1.451850e+14</td>\n",
       "      <td>3.759800e+10</td>\n",
       "      <td>14.17</td>\n",
       "    </tr>\n",
       "    <tr>\n",
       "      <th>49</th>\n",
       "      <td>PLTR</td>\n",
       "      <td>Palantir Technologies Inc.</td>\n",
       "      <td>35.7000</td>\n",
       "      <td>-2.4700</td>\n",
       "      <td>-6.47</td>\n",
       "      <td>4.496900e+07</td>\n",
       "      <td>7.249200e+07</td>\n",
       "      <td>6.704200e+10</td>\n",
       "      <td>NaN</td>\n",
       "    </tr>\n",
       "    <tr>\n",
       "      <th>72</th>\n",
       "      <td>TSLA</td>\n",
       "      <td>Tesla, Inc.</td>\n",
       "      <td>804.8200</td>\n",
       "      <td>-44.6400</td>\n",
       "      <td>-5.26</td>\n",
       "      <td>3.526000e+07</td>\n",
       "      <td>4.271500e+07</td>\n",
       "      <td>7.725100e+11</td>\n",
       "      <td>1257.53</td>\n",
       "    </tr>\n",
       "    <tr>\n",
       "      <th>80</th>\n",
       "      <td>CMPGY</td>\n",
       "      <td>Compass Group PLC</td>\n",
       "      <td>19.2600</td>\n",
       "      <td>-1.0400</td>\n",
       "      <td>-5.12</td>\n",
       "      <td>5.166030e+14</td>\n",
       "      <td>3.014040e+14</td>\n",
       "      <td>3.417200e+10</td>\n",
       "      <td>20.51</td>\n",
       "    </tr>\n",
       "  </tbody>\n",
       "</table>\n",
       "</div>"
      ],
      "text/plain": [
       "   Symbol                           Name  Price (Intraday)   Change  % Change  \\\n",
       "8   DFIFF  Diamond Fields Resources Inc.            0.1588  -0.0219    -12.10   \n",
       "45  AMKBY        A.P. Møller - Mærsk A/S           10.2700  -0.7200     -6.55   \n",
       "49   PLTR     Palantir Technologies Inc.           35.7000  -2.4700     -6.47   \n",
       "72   TSLA                    Tesla, Inc.          804.8200 -44.6400     -5.26   \n",
       "80  CMPGY              Compass Group PLC           19.2600  -1.0400     -5.12   \n",
       "\n",
       "          Volume  Avg Vol (3 month)    Market Cap  PE Ratio (TTM)  \n",
       "8   3.884900e+13       6.276200e+13  8.389100e+10             NaN  \n",
       "45  3.165920e+14       1.451850e+14  3.759800e+10           14.17  \n",
       "49  4.496900e+07       7.249200e+07  6.704200e+10             NaN  \n",
       "72  3.526000e+07       4.271500e+07  7.725100e+11         1257.53  \n",
       "80  5.166030e+14       3.014040e+14  3.417200e+10           20.51  "
      ]
     },
     "execution_count": 21,
     "metadata": {},
     "output_type": "execute_result"
    }
   ],
   "source": [
    "lose"
   ]
  },
  {
   "cell_type": "code",
   "execution_count": 22,
   "metadata": {},
   "outputs": [],
   "source": [
    "active = yf.get_day_most_active()\n",
    "active = lose.sort_values(by='Market Cap',ascending = False).head(5)"
   ]
  },
  {
   "cell_type": "code",
   "execution_count": 23,
   "metadata": {},
   "outputs": [
    {
     "data": {
      "text/html": [
       "<div>\n",
       "<style scoped>\n",
       "    .dataframe tbody tr th:only-of-type {\n",
       "        vertical-align: middle;\n",
       "    }\n",
       "\n",
       "    .dataframe tbody tr th {\n",
       "        vertical-align: top;\n",
       "    }\n",
       "\n",
       "    .dataframe thead th {\n",
       "        text-align: right;\n",
       "    }\n",
       "</style>\n",
       "<table border=\"1\" class=\"dataframe\">\n",
       "  <thead>\n",
       "    <tr style=\"text-align: right;\">\n",
       "      <th></th>\n",
       "      <th>Symbol</th>\n",
       "      <th>Name</th>\n",
       "      <th>Price (Intraday)</th>\n",
       "      <th>Change</th>\n",
       "      <th>% Change</th>\n",
       "      <th>Volume</th>\n",
       "      <th>Avg Vol (3 month)</th>\n",
       "      <th>Market Cap</th>\n",
       "      <th>PE Ratio (TTM)</th>\n",
       "    </tr>\n",
       "  </thead>\n",
       "  <tbody>\n",
       "    <tr>\n",
       "      <th>72</th>\n",
       "      <td>TSLA</td>\n",
       "      <td>Tesla, Inc.</td>\n",
       "      <td>804.8200</td>\n",
       "      <td>-44.6400</td>\n",
       "      <td>-5.26</td>\n",
       "      <td>3.526000e+07</td>\n",
       "      <td>4.271500e+07</td>\n",
       "      <td>7.725100e+11</td>\n",
       "      <td>1257.53</td>\n",
       "    </tr>\n",
       "    <tr>\n",
       "      <th>8</th>\n",
       "      <td>DFIFF</td>\n",
       "      <td>Diamond Fields Resources Inc.</td>\n",
       "      <td>0.1588</td>\n",
       "      <td>-0.0219</td>\n",
       "      <td>-12.10</td>\n",
       "      <td>3.884900e+13</td>\n",
       "      <td>6.276200e+13</td>\n",
       "      <td>8.389100e+10</td>\n",
       "      <td>NaN</td>\n",
       "    </tr>\n",
       "    <tr>\n",
       "      <th>49</th>\n",
       "      <td>PLTR</td>\n",
       "      <td>Palantir Technologies Inc.</td>\n",
       "      <td>35.7000</td>\n",
       "      <td>-2.4700</td>\n",
       "      <td>-6.47</td>\n",
       "      <td>4.496900e+07</td>\n",
       "      <td>7.249200e+07</td>\n",
       "      <td>6.704200e+10</td>\n",
       "      <td>NaN</td>\n",
       "    </tr>\n",
       "    <tr>\n",
       "      <th>45</th>\n",
       "      <td>AMKBY</td>\n",
       "      <td>A.P. Møller - Mærsk A/S</td>\n",
       "      <td>10.2700</td>\n",
       "      <td>-0.7200</td>\n",
       "      <td>-6.55</td>\n",
       "      <td>3.165920e+14</td>\n",
       "      <td>1.451850e+14</td>\n",
       "      <td>3.759800e+10</td>\n",
       "      <td>14.17</td>\n",
       "    </tr>\n",
       "    <tr>\n",
       "      <th>80</th>\n",
       "      <td>CMPGY</td>\n",
       "      <td>Compass Group PLC</td>\n",
       "      <td>19.2600</td>\n",
       "      <td>-1.0400</td>\n",
       "      <td>-5.12</td>\n",
       "      <td>5.166030e+14</td>\n",
       "      <td>3.014040e+14</td>\n",
       "      <td>3.417200e+10</td>\n",
       "      <td>20.51</td>\n",
       "    </tr>\n",
       "  </tbody>\n",
       "</table>\n",
       "</div>"
      ],
      "text/plain": [
       "   Symbol                           Name  Price (Intraday)   Change  % Change  \\\n",
       "72   TSLA                    Tesla, Inc.          804.8200 -44.6400     -5.26   \n",
       "8   DFIFF  Diamond Fields Resources Inc.            0.1588  -0.0219    -12.10   \n",
       "49   PLTR     Palantir Technologies Inc.           35.7000  -2.4700     -6.47   \n",
       "45  AMKBY        A.P. Møller - Mærsk A/S           10.2700  -0.7200     -6.55   \n",
       "80  CMPGY              Compass Group PLC           19.2600  -1.0400     -5.12   \n",
       "\n",
       "          Volume  Avg Vol (3 month)    Market Cap  PE Ratio (TTM)  \n",
       "72  3.526000e+07       4.271500e+07  7.725100e+11         1257.53  \n",
       "8   3.884900e+13       6.276200e+13  8.389100e+10             NaN  \n",
       "49  4.496900e+07       7.249200e+07  6.704200e+10             NaN  \n",
       "45  3.165920e+14       1.451850e+14  3.759800e+10           14.17  \n",
       "80  5.166030e+14       3.014040e+14  3.417200e+10           20.51  "
      ]
     },
     "execution_count": 23,
     "metadata": {},
     "output_type": "execute_result"
    }
   ],
   "source": [
    "active"
   ]
  },
  {
   "cell_type": "code",
   "execution_count": 31,
   "metadata": {},
   "outputs": [],
   "source": [
    "data[[\"EPS (TTM)\"]] = yf.get_quote_table(\"aapl\")"
   ]
  },
  {
   "cell_type": "code",
   "execution_count": 33,
   "metadata": {},
   "outputs": [],
   "source": [
    "data[\"EPS (TTM)\"] = yf.get_quote_table(\"aapl\")"
   ]
  },
  {
   "cell_type": "code",
   "execution_count": 93,
   "metadata": {},
   "outputs": [],
   "source": [
    "performance = (price.resample('W').ffill().pct_change() + 1).cumprod().fillna(0).tail(1)"
   ]
  },
  {
   "cell_type": "code",
   "execution_count": 94,
   "metadata": {},
   "outputs": [],
   "source": [
    "df = pd.DataFrame(0, index= price.columns, columns =['performance','EPS'])"
   ]
  },
  {
   "cell_type": "code",
   "execution_count": 95,
   "metadata": {},
   "outputs": [],
   "source": [
    "df['performance'] = performance.tail(1)"
   ]
  },
  {
   "cell_type": "code",
   "execution_count": 96,
   "metadata": {},
   "outputs": [],
   "source": [
    "df['performance'] = performance.iloc[0,:]"
   ]
  },
  {
   "cell_type": "code",
   "execution_count": 97,
   "metadata": {},
   "outputs": [],
   "source": [
    "my_EPS = lambda x: yf.get_quote_table(x)[\"EPS (TTM)\"]"
   ]
  },
  {
   "cell_type": "code",
   "execution_count": 98,
   "metadata": {},
   "outputs": [],
   "source": [
    "for i in df.index:\n",
    "    EPS = yf.get_quote_table(i)[\"EPS (TTM)\"]\n",
    "    df.loc[i,'EPS'] = EPS\n",
    "    \n",
    "    "
   ]
  },
  {
   "cell_type": "code",
   "execution_count": 99,
   "metadata": {},
   "outputs": [
    {
     "data": {
      "text/html": [
       "<div>\n",
       "<style scoped>\n",
       "    .dataframe tbody tr th:only-of-type {\n",
       "        vertical-align: middle;\n",
       "    }\n",
       "\n",
       "    .dataframe tbody tr th {\n",
       "        vertical-align: top;\n",
       "    }\n",
       "\n",
       "    .dataframe thead th {\n",
       "        text-align: right;\n",
       "    }\n",
       "</style>\n",
       "<table border=\"1\" class=\"dataframe\">\n",
       "  <thead>\n",
       "    <tr style=\"text-align: right;\">\n",
       "      <th></th>\n",
       "      <th>performance</th>\n",
       "      <th>EPS</th>\n",
       "    </tr>\n",
       "    <tr>\n",
       "      <th>Symbols</th>\n",
       "      <th></th>\n",
       "      <th></th>\n",
       "    </tr>\n",
       "  </thead>\n",
       "  <tbody>\n",
       "    <tr>\n",
       "      <th>AAPL</th>\n",
       "      <td>1.759296</td>\n",
       "      <td>3.69</td>\n",
       "    </tr>\n",
       "    <tr>\n",
       "      <th>PTON</th>\n",
       "      <td>5.256694</td>\n",
       "      <td>-2.11</td>\n",
       "    </tr>\n",
       "    <tr>\n",
       "      <th>TSLA</th>\n",
       "      <td>8.603472</td>\n",
       "      <td>0.64</td>\n",
       "    </tr>\n",
       "  </tbody>\n",
       "</table>\n",
       "</div>"
      ],
      "text/plain": [
       "         performance   EPS\n",
       "Symbols                   \n",
       "AAPL        1.759296  3.69\n",
       "PTON        5.256694 -2.11\n",
       "TSLA        8.603472  0.64"
      ]
     },
     "execution_count": 99,
     "metadata": {},
     "output_type": "execute_result"
    }
   ],
   "source": [
    "df"
   ]
  },
  {
   "cell_type": "code",
   "execution_count": 100,
   "metadata": {},
   "outputs": [
    {
     "data": {
      "text/html": [
       "\n",
       "<div id=\"altair-viz-546e34ff8cb64367a12dc7bea687622e\"></div>\n",
       "<script type=\"text/javascript\">\n",
       "  (function(spec, embedOpt){\n",
       "    let outputDiv = document.currentScript.previousElementSibling;\n",
       "    if (outputDiv.id !== \"altair-viz-546e34ff8cb64367a12dc7bea687622e\") {\n",
       "      outputDiv = document.getElementById(\"altair-viz-546e34ff8cb64367a12dc7bea687622e\");\n",
       "    }\n",
       "    const paths = {\n",
       "      \"vega\": \"https://cdn.jsdelivr.net/npm//vega@5?noext\",\n",
       "      \"vega-lib\": \"https://cdn.jsdelivr.net/npm//vega-lib?noext\",\n",
       "      \"vega-lite\": \"https://cdn.jsdelivr.net/npm//vega-lite@4.8.1?noext\",\n",
       "      \"vega-embed\": \"https://cdn.jsdelivr.net/npm//vega-embed@6?noext\",\n",
       "    };\n",
       "\n",
       "    function loadScript(lib) {\n",
       "      return new Promise(function(resolve, reject) {\n",
       "        var s = document.createElement('script');\n",
       "        s.src = paths[lib];\n",
       "        s.async = true;\n",
       "        s.onload = () => resolve(paths[lib]);\n",
       "        s.onerror = () => reject(`Error loading script: ${paths[lib]}`);\n",
       "        document.getElementsByTagName(\"head\")[0].appendChild(s);\n",
       "      });\n",
       "    }\n",
       "\n",
       "    function showError(err) {\n",
       "      outputDiv.innerHTML = `<div class=\"error\" style=\"color:red;\">${err}</div>`;\n",
       "      throw err;\n",
       "    }\n",
       "\n",
       "    function displayChart(vegaEmbed) {\n",
       "      vegaEmbed(outputDiv, spec, embedOpt)\n",
       "        .catch(err => showError(`Javascript Error: ${err.message}<br>This usually means there's a typo in your chart specification. See the javascript console for the full traceback.`));\n",
       "    }\n",
       "\n",
       "    if(typeof define === \"function\" && define.amd) {\n",
       "      requirejs.config({paths});\n",
       "      require([\"vega-embed\"], displayChart, err => showError(`Error loading script: ${err.message}`));\n",
       "    } else if (typeof vegaEmbed === \"function\") {\n",
       "      displayChart(vegaEmbed);\n",
       "    } else {\n",
       "      loadScript(\"vega\")\n",
       "        .then(() => loadScript(\"vega-lite\"))\n",
       "        .then(() => loadScript(\"vega-embed\"))\n",
       "        .catch(showError)\n",
       "        .then(() => displayChart(vegaEmbed));\n",
       "    }\n",
       "  })({\"config\": {\"view\": {\"continuousWidth\": 400, \"continuousHeight\": 300}}, \"layer\": [{\"mark\": \"point\", \"encoding\": {\"color\": {\"type\": \"nominal\", \"field\": \"Symbols\"}, \"size\": {\"type\": \"quantitative\", \"field\": \"performance\", \"scale\": {\"range\": [0, 1000]}}, \"tooltip\": [{\"type\": \"nominal\", \"field\": \"Symbols\"}, {\"type\": \"nominal\", \"field\": \"performance\"}, {\"type\": \"nominal\", \"field\": \"EPS\"}], \"x\": {\"type\": \"quantitative\", \"field\": \"performance\", \"scale\": {\"zero\": false}}, \"y\": {\"type\": \"quantitative\", \"field\": \"EPS\"}}}, {\"mark\": {\"type\": \"text\", \"align\": \"left\", \"baseline\": \"middle\", \"dx\": 7}, \"encoding\": {\"color\": {\"type\": \"nominal\", \"field\": \"Symbols\"}, \"size\": {\"type\": \"quantitative\", \"field\": \"performance\", \"scale\": {\"range\": [0, 1000]}}, \"text\": {\"type\": \"nominal\", \"field\": \"Symbols\"}, \"tooltip\": [{\"type\": \"nominal\", \"field\": \"Symbols\"}, {\"type\": \"nominal\", \"field\": \"performance\"}, {\"type\": \"nominal\", \"field\": \"EPS\"}], \"x\": {\"type\": \"quantitative\", \"field\": \"performance\", \"scale\": {\"zero\": false}}, \"y\": {\"type\": \"quantitative\", \"field\": \"EPS\"}}}], \"data\": {\"name\": \"data-a58598b3f0737af038f29073d82cadf5\"}, \"$schema\": \"https://vega.github.io/schema/vega-lite/v4.8.1.json\", \"datasets\": {\"data-a58598b3f0737af038f29073d82cadf5\": [{\"Symbols\": \"AAPL\", \"performance\": 1.759295695556366, \"EPS\": 3.69}, {\"Symbols\": \"PTON\", \"performance\": 5.256694191003294, \"EPS\": -2.11}, {\"Symbols\": \"TSLA\", \"performance\": 8.603471960996982, \"EPS\": 0.64}]}}, {\"mode\": \"vega-lite\"});\n",
       "</script>"
      ],
      "text/plain": [
       "alt.LayerChart(...)"
      ]
     },
     "execution_count": 100,
     "metadata": {},
     "output_type": "execute_result"
    }
   ],
   "source": [
    "def Plot_EPS(price):\n",
    "    performance = (price.resample('W').ffill().pct_change() + 1).cumprod().fillna(0).tail(1)\n",
    "    df = pd.DataFrame(0, index= price.columns, columns =['performance','EPS'])\n",
    "    df['performance'] = performance.tail(1)\n",
    "    df['performance'] = performance.iloc[0,:]\n",
    "\n",
    "    for i in df.index:\n",
    "        EPS = yf.get_quote_table(i)[\"EPS (TTM)\"]\n",
    "        df.loc[i,'EPS'] = EPS\n",
    "\n",
    "\n",
    "\n",
    "    df = df.reset_index()\n",
    "\n",
    "    pic = alt.Chart(df).mark_point().encode(alt.X('performance:Q',scale=alt.Scale(zero=False)\n",
    "        ),y='EPS:Q', \n",
    "        color='Symbols:N', \n",
    "        size=alt.Size(\"performance:Q\", scale=alt.Scale(range=[0, 1000])), \n",
    "        tooltip=['Symbols:N', 'performance:N','EPS:N'])\n",
    "    return pic"
   ]
  },
  {
   "cell_type": "code",
   "execution_count": 107,
   "metadata": {},
   "outputs": [
    {
     "ename": "TypeError",
     "evalue": "read_html() got an unexpected keyword argument 'index'",
     "output_type": "error",
     "traceback": [
      "\u001b[0;31m---------------------------------------------------------------------------\u001b[0m",
      "\u001b[0;31mTypeError\u001b[0m                                 Traceback (most recent call last)",
      "\u001b[0;32m<ipython-input-107-3951bb978fed>\u001b[0m in \u001b[0;36m<module>\u001b[0;34m\u001b[0m\n\u001b[1;32m      1\u001b[0m \u001b[0mtable\u001b[0m \u001b[0;34m=\u001b[0m \u001b[0myf\u001b[0m\u001b[0;34m.\u001b[0m\u001b[0mget_quote_table\u001b[0m\u001b[0;34m(\u001b[0m\u001b[0;34m'CSCO'\u001b[0m\u001b[0;34m)\u001b[0m\u001b[0;34m\u001b[0m\u001b[0;34m\u001b[0m\u001b[0m\n\u001b[1;32m      2\u001b[0m \u001b[0;34m\u001b[0m\u001b[0m\n\u001b[0;32m----> 3\u001b[0;31m \u001b[0mpd\u001b[0m\u001b[0;34m.\u001b[0m\u001b[0mread_html\u001b[0m\u001b[0;34m(\u001b[0m\u001b[0mtable\u001b[0m\u001b[0;34m,\u001b[0m \u001b[0mindex\u001b[0m\u001b[0;34m=\u001b[0m\u001b[0;36m0\u001b[0m\u001b[0;34m)\u001b[0m\u001b[0;34m\u001b[0m\u001b[0;34m\u001b[0m\u001b[0m\n\u001b[0m",
      "\u001b[0;32m~/opt/anaconda3/lib/python3.8/site-packages/pandas/util/_decorators.py\u001b[0m in \u001b[0;36mwrapper\u001b[0;34m(*args, **kwargs)\u001b[0m\n\u001b[1;32m    294\u001b[0m                 )\n\u001b[1;32m    295\u001b[0m                 \u001b[0mwarnings\u001b[0m\u001b[0;34m.\u001b[0m\u001b[0mwarn\u001b[0m\u001b[0;34m(\u001b[0m\u001b[0mmsg\u001b[0m\u001b[0;34m,\u001b[0m \u001b[0mFutureWarning\u001b[0m\u001b[0;34m,\u001b[0m \u001b[0mstacklevel\u001b[0m\u001b[0;34m=\u001b[0m\u001b[0mstacklevel\u001b[0m\u001b[0;34m)\u001b[0m\u001b[0;34m\u001b[0m\u001b[0;34m\u001b[0m\u001b[0m\n\u001b[0;32m--> 296\u001b[0;31m             \u001b[0;32mreturn\u001b[0m \u001b[0mfunc\u001b[0m\u001b[0;34m(\u001b[0m\u001b[0;34m*\u001b[0m\u001b[0margs\u001b[0m\u001b[0;34m,\u001b[0m \u001b[0;34m**\u001b[0m\u001b[0mkwargs\u001b[0m\u001b[0;34m)\u001b[0m\u001b[0;34m\u001b[0m\u001b[0;34m\u001b[0m\u001b[0m\n\u001b[0m\u001b[1;32m    297\u001b[0m \u001b[0;34m\u001b[0m\u001b[0m\n\u001b[1;32m    298\u001b[0m         \u001b[0;32mreturn\u001b[0m \u001b[0mwrapper\u001b[0m\u001b[0;34m\u001b[0m\u001b[0;34m\u001b[0m\u001b[0m\n",
      "\u001b[0;31mTypeError\u001b[0m: read_html() got an unexpected keyword argument 'index'"
     ]
    }
   ],
   "source": [
    "table = yf.get_quote_table('CSCO')\n",
    "\n",
    "pd.read_html(table, index=0)"
   ]
  },
  {
   "cell_type": "code",
   "execution_count": 108,
   "metadata": {},
   "outputs": [
    {
     "data": {
      "text/plain": [
       "<function dict.values>"
      ]
     },
     "execution_count": 108,
     "metadata": {},
     "output_type": "execute_result"
    }
   ],
   "source": [
    "table.values"
   ]
  },
  {
   "cell_type": "code",
   "execution_count": null,
   "metadata": {},
   "outputs": [],
   "source": []
  }
 ],
 "metadata": {
  "kernelspec": {
   "display_name": "Python 3",
   "language": "python",
   "name": "python3"
  },
  "language_info": {
   "codemirror_mode": {
    "name": "ipython",
    "version": 3
   },
   "file_extension": ".py",
   "mimetype": "text/x-python",
   "name": "python",
   "nbconvert_exporter": "python",
   "pygments_lexer": "ipython3",
   "version": "3.8.5"
  }
 },
 "nbformat": 4,
 "nbformat_minor": 4
}
