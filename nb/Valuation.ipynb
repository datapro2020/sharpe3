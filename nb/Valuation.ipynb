{
 "cells": [
  {
   "cell_type": "code",
   "execution_count": null,
   "metadata": {},
   "outputs": [],
   "source": [
    "import numpy as np\n",
    "import pandas as pd\n",
    "import pandas_datareader.data as web\n",
    "from datetime import datetime, timedelta\n",
    "import altair as alt\n",
    "from pandas.io.json import json_normalize\n",
    "import requests\n",
    "import yahoo_fin.stock_info as yf\n",
    "from alpha_vantage.fundamentaldata import FundamentalData\n",
    "import json\n",
    "from fbprophet import Prophet \n",
    "\n",
    "D = 400\n",
    "date_D_days_ago = datetime.now() - timedelta(days=D)\n",
    "now = datetime.now()\n",
    "\n",
    "start_date = date_D_days_ago.strftime('%F')\n",
    "end_date = now.strftime('%F')\n",
    "\n",
    "apikey='2HCDHLMKIK99309W'\n",
    "tech_stocks = ['AAPL', 'MSFT', 'INTC']\n",
    "\n",
    "\n",
    "tech_stocks[0]\n",
    "\n",
    "\n",
    "# Operating CashFlow minus Capital Expenditures\n"
   ]
  },
  {
   "cell_type": "code",
   "execution_count": null,
   "metadata": {},
   "outputs": [],
   "source": [
    "#Get Data from Yahoo\n",
    "def StockData(ticker, start_d, end_d):\n",
    "    data = web.get_data_yahoo(ticker, start = start_d, end = end_d)\n",
    "    price =  pd.DataFrame(data['Adj Close'])\n",
    "    \n",
    "    #volume = pd.DataFrame(data['Volume'])\n",
    "    return price"
   ]
  },
  {
   "cell_type": "code",
   "execution_count": null,
   "metadata": {},
   "outputs": [],
   "source": [
    "price = StockData(tech_stocks,start_date,end_date)"
   ]
  },
  {
   "cell_type": "code",
   "execution_count": null,
   "metadata": {},
   "outputs": [],
   "source": [
    "test = price[tech_stocks[0]].reset_index()\n",
    "\n",
    "test.rename(columns ={'Date':'ds','AAPL':'y'}, inplace=True)"
   ]
  },
  {
   "cell_type": "code",
   "execution_count": null,
   "metadata": {},
   "outputs": [],
   "source": [
    "prophet = Prophet()\n",
    "prophet.fit(test)"
   ]
  },
  {
   "cell_type": "code",
   "execution_count": null,
   "metadata": {},
   "outputs": [],
   "source": [
    "future_prices=prophet.make_future_dataframe(periods=365)\n",
    "future = prophet.predict(future_prices)"
   ]
  },
  {
   "cell_type": "code",
   "execution_count": null,
   "metadata": {},
   "outputs": [],
   "source": [
    "f = future[['ds','trend','yhat_lower','yhat_upper']]"
   ]
  },
  {
   "cell_type": "code",
   "execution_count": null,
   "metadata": {},
   "outputs": [],
   "source": [
    "f"
   ]
  },
  {
   "cell_type": "code",
   "execution_count": null,
   "metadata": {},
   "outputs": [],
   "source": [
    "\n",
    "f = f.melt('ds', var_name='bands', value_name='price')\n",
    "f"
   ]
  },
  {
   "cell_type": "code",
   "execution_count": null,
   "metadata": {},
   "outputs": [],
   "source": [
    "pic = alt.Chart(f).mark_line().encode(\n",
    "        x='ds:T',\n",
    "        y='price:Q',\n",
    "        color='bands:N', tooltip=['bands:N', 'ds:N','price:N']\n",
    "    )"
   ]
  },
  {
   "cell_type": "code",
   "execution_count": null,
   "metadata": {},
   "outputs": [],
   "source": [
    "pic"
   ]
  },
  {
   "cell_type": "code",
   "execution_count": null,
   "metadata": {},
   "outputs": [],
   "source": [
    "prophet.plot_components(future)"
   ]
  },
  {
   "cell_type": "code",
   "execution_count": null,
   "metadata": {},
   "outputs": [],
   "source": [
    "test.columns = ['a','b']"
   ]
  },
  {
   "cell_type": "code",
   "execution_count": null,
   "metadata": {},
   "outputs": [],
   "source": [
    "test\n"
   ]
  },
  {
   "cell_type": "code",
   "execution_count": null,
   "metadata": {},
   "outputs": [],
   "source": [
    "df1 = pd.DataFrame({'key' : ['a','b','c'],'value': range(3)}, index = ['a1','x2','a3'])\n",
    "df2 = pd.DataFrame({'key' : ['x','y','x','v'],'stuff': range(4)}, index = ['a1','a2','a3','a4'])"
   ]
  },
  {
   "cell_type": "code",
   "execution_count": null,
   "metadata": {},
   "outputs": [],
   "source": [
    "df1"
   ]
  },
  {
   "cell_type": "code",
   "execution_count": null,
   "metadata": {},
   "outputs": [],
   "source": [
    "df2"
   ]
  },
  {
   "cell_type": "code",
   "execution_count": null,
   "metadata": {},
   "outputs": [],
   "source": [
    "df1.combine_first(df2)"
   ]
  },
  {
   "cell_type": "code",
   "execution_count": null,
   "metadata": {},
   "outputs": [],
   "source": [
    "df1.index.str.match('a3').any()"
   ]
  },
  {
   "cell_type": "code",
   "execution_count": null,
   "metadata": {},
   "outputs": [],
   "source": [
    "df1.columns.values[0]"
   ]
  },
  {
   "cell_type": "code",
   "execution_count": null,
   "metadata": {},
   "outputs": [],
   "source": []
  },
  {
   "cell_type": "code",
   "execution_count": null,
   "metadata": {},
   "outputs": [],
   "source": [
    "%pip install streamlit-disqus"
   ]
  },
  {
   "cell_type": "code",
   "execution_count": null,
   "metadata": {},
   "outputs": [],
   "source": []
  }
 ],
 "metadata": {
  "kernelspec": {
   "display_name": "Python 3",
   "language": "python",
   "name": "python3"
  },
  "language_info": {
   "codemirror_mode": {
    "name": "ipython",
    "version": 3
   },
   "file_extension": ".py",
   "mimetype": "text/x-python",
   "name": "python",
   "nbconvert_exporter": "python",
   "pygments_lexer": "ipython3",
   "version": "3.8.5"
  }
 },
 "nbformat": 4,
 "nbformat_minor": 4
}
