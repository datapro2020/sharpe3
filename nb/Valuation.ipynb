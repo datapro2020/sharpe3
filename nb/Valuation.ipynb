{
 "cells": [
  {
   "cell_type": "code",
   "execution_count": 4,
   "metadata": {},
   "outputs": [
    {
     "data": {
      "text/plain": [
       "'AAPL'"
      ]
     },
     "execution_count": 4,
     "metadata": {},
     "output_type": "execute_result"
    }
   ],
   "source": [
    "import numpy as np\n",
    "import pandas as pd\n",
    "import pandas_datareader.data as web\n",
    "from datetime import datetime, timedelta\n",
    "import altair as alt\n",
    "from pandas.io.json import json_normalize\n",
    "import requests\n",
    "import yahoo_fin.stock_info as yf\n",
    "from alpha_vantage.fundamentaldata import FundamentalData\n",
    "import json\n",
    "from fbprophet import Prophet \n",
    "\n",
    "D = 400\n",
    "date_D_days_ago = datetime.now() - timedelta(days=D)\n",
    "now = datetime.now()\n",
    "\n",
    "start_date = date_D_days_ago.strftime('%F')\n",
    "end_date = now.strftime('%F')\n",
    "\n",
    "apikey='2HCDHLMKIK99309W'\n",
    "tech_stocks = ['AAPL', 'PTON', 'TSLA']\n",
    "\n",
    "\n",
    "tech_stocks[0]\n",
    "\n",
    "\n",
    "# Operating CashFlow minus Capital Expenditures\n"
   ]
  },
  {
   "cell_type": "code",
   "execution_count": 5,
   "metadata": {},
   "outputs": [],
   "source": [
    "#Get Data from Yahoo\n",
    "def StockData(ticker, start_d, end_d):\n",
    "    data = web.get_data_yahoo(ticker, start = start_d, end = end_d)\n",
    "    price =  pd.DataFrame(data['Adj Close'])\n",
    "    \n",
    "    #volume = pd.DataFrame(data['Volume'])\n",
    "    return price"
   ]
  },
  {
   "cell_type": "code",
   "execution_count": 6,
   "metadata": {},
   "outputs": [],
   "source": [
    "price = StockData(tech_stocks,start_date,end_date)"
   ]
  },
  {
   "cell_type": "code",
   "execution_count": null,
   "metadata": {},
   "outputs": [],
   "source": [
    "test = price[tech_stocks[0]].reset_index()\n",
    "\n",
    "test.rename(columns ={'Date':'ds','AAPL':'y'}, inplace=True)"
   ]
  },
  {
   "cell_type": "code",
   "execution_count": null,
   "metadata": {},
   "outputs": [],
   "source": [
    "prophet = Prophet()\n",
    "prophet.fit(test)"
   ]
  },
  {
   "cell_type": "code",
   "execution_count": null,
   "metadata": {},
   "outputs": [],
   "source": [
    "future_prices=prophet.make_future_dataframe(periods=365)\n",
    "future = prophet.predict(future_prices)"
   ]
  },
  {
   "cell_type": "code",
   "execution_count": null,
   "metadata": {},
   "outputs": [],
   "source": [
    "f = future[['ds','trend','yhat_lower','yhat_upper']]"
   ]
  },
  {
   "cell_type": "code",
   "execution_count": null,
   "metadata": {},
   "outputs": [],
   "source": [
    "f"
   ]
  },
  {
   "cell_type": "code",
   "execution_count": null,
   "metadata": {},
   "outputs": [],
   "source": [
    "\n",
    "f = f.melt('ds', var_name='bands', value_name='price')\n",
    "f"
   ]
  },
  {
   "cell_type": "code",
   "execution_count": null,
   "metadata": {},
   "outputs": [],
   "source": [
    "pic = alt.Chart(f).mark_line().encode(\n",
    "        x='ds:T',\n",
    "        y='price:Q',\n",
    "        color='bands:N', tooltip=['bands:N', 'ds:N','price:N']\n",
    "    )"
   ]
  },
  {
   "cell_type": "code",
   "execution_count": null,
   "metadata": {},
   "outputs": [],
   "source": [
    "pic"
   ]
  },
  {
   "cell_type": "code",
   "execution_count": null,
   "metadata": {},
   "outputs": [],
   "source": [
    "prophet.plot_components(future)"
   ]
  },
  {
   "cell_type": "code",
   "execution_count": null,
   "metadata": {},
   "outputs": [],
   "source": [
    "test.columns = ['a','b']"
   ]
  },
  {
   "cell_type": "code",
   "execution_count": null,
   "metadata": {},
   "outputs": [],
   "source": [
    "test\n"
   ]
  },
  {
   "cell_type": "code",
   "execution_count": null,
   "metadata": {},
   "outputs": [],
   "source": [
    "df1 = pd.DataFrame({'key' : ['a','b','c'],'value': range(3)}, index = ['a1','x2','a3'])\n",
    "df2 = pd.DataFrame({'key' : ['x','y','x','v'],'stuff': range(4)}, index = ['a1','a2','a3','a4'])"
   ]
  },
  {
   "cell_type": "code",
   "execution_count": null,
   "metadata": {},
   "outputs": [],
   "source": [
    "df1"
   ]
  },
  {
   "cell_type": "code",
   "execution_count": null,
   "metadata": {},
   "outputs": [],
   "source": [
    "df2"
   ]
  },
  {
   "cell_type": "code",
   "execution_count": null,
   "metadata": {},
   "outputs": [],
   "source": [
    "df1.combine_first(df2)"
   ]
  },
  {
   "cell_type": "code",
   "execution_count": null,
   "metadata": {},
   "outputs": [],
   "source": [
    "df1.index.str.match('a3').any()"
   ]
  },
  {
   "cell_type": "code",
   "execution_count": null,
   "metadata": {},
   "outputs": [],
   "source": [
    "df1.columns.values[0]"
   ]
  },
  {
   "cell_type": "code",
   "execution_count": null,
   "metadata": {},
   "outputs": [],
   "source": []
  },
  {
   "cell_type": "code",
   "execution_count": null,
   "metadata": {},
   "outputs": [],
   "source": [
    "%pip install streamlit-disqus"
   ]
  },
  {
   "cell_type": "code",
   "execution_count": 7,
   "metadata": {},
   "outputs": [
    {
     "data": {
      "text/html": [
       "<div>\n",
       "<style scoped>\n",
       "    .dataframe tbody tr th:only-of-type {\n",
       "        vertical-align: middle;\n",
       "    }\n",
       "\n",
       "    .dataframe tbody tr th {\n",
       "        vertical-align: top;\n",
       "    }\n",
       "\n",
       "    .dataframe thead th {\n",
       "        text-align: right;\n",
       "    }\n",
       "</style>\n",
       "<table border=\"1\" class=\"dataframe\">\n",
       "  <thead>\n",
       "    <tr style=\"text-align: right;\">\n",
       "      <th>Symbols</th>\n",
       "      <th>AAPL</th>\n",
       "      <th>PTON</th>\n",
       "      <th>TSLA</th>\n",
       "    </tr>\n",
       "    <tr>\n",
       "      <th>Date</th>\n",
       "      <th></th>\n",
       "      <th></th>\n",
       "      <th></th>\n",
       "    </tr>\n",
       "  </thead>\n",
       "  <tbody>\n",
       "    <tr>\n",
       "      <th>2020-01-08</th>\n",
       "      <td>75.036385</td>\n",
       "      <td>29.650000</td>\n",
       "      <td>98.428001</td>\n",
       "    </tr>\n",
       "    <tr>\n",
       "      <th>2020-01-09</th>\n",
       "      <td>76.630219</td>\n",
       "      <td>27.870001</td>\n",
       "      <td>96.267998</td>\n",
       "    </tr>\n",
       "    <tr>\n",
       "      <th>2020-01-10</th>\n",
       "      <td>76.803459</td>\n",
       "      <td>28.010000</td>\n",
       "      <td>95.629997</td>\n",
       "    </tr>\n",
       "    <tr>\n",
       "      <th>2020-01-13</th>\n",
       "      <td>78.444321</td>\n",
       "      <td>28.530001</td>\n",
       "      <td>104.972000</td>\n",
       "    </tr>\n",
       "    <tr>\n",
       "      <th>2020-01-14</th>\n",
       "      <td>77.385063</td>\n",
       "      <td>29.690001</td>\n",
       "      <td>107.584000</td>\n",
       "    </tr>\n",
       "    <tr>\n",
       "      <th>...</th>\n",
       "      <td>...</td>\n",
       "      <td>...</td>\n",
       "      <td>...</td>\n",
       "    </tr>\n",
       "    <tr>\n",
       "      <th>2021-02-04</th>\n",
       "      <td>137.184998</td>\n",
       "      <td>157.529999</td>\n",
       "      <td>849.989990</td>\n",
       "    </tr>\n",
       "    <tr>\n",
       "      <th>2021-02-05</th>\n",
       "      <td>136.759995</td>\n",
       "      <td>148.300003</td>\n",
       "      <td>852.229980</td>\n",
       "    </tr>\n",
       "    <tr>\n",
       "      <th>2021-02-08</th>\n",
       "      <td>136.910004</td>\n",
       "      <td>144.990005</td>\n",
       "      <td>863.419983</td>\n",
       "    </tr>\n",
       "    <tr>\n",
       "      <th>2021-02-09</th>\n",
       "      <td>136.009995</td>\n",
       "      <td>147.759995</td>\n",
       "      <td>849.460022</td>\n",
       "    </tr>\n",
       "    <tr>\n",
       "      <th>2021-02-10</th>\n",
       "      <td>135.389999</td>\n",
       "      <td>145.039993</td>\n",
       "      <td>804.820007</td>\n",
       "    </tr>\n",
       "  </tbody>\n",
       "</table>\n",
       "<p>276 rows × 3 columns</p>\n",
       "</div>"
      ],
      "text/plain": [
       "Symbols           AAPL        PTON        TSLA\n",
       "Date                                          \n",
       "2020-01-08   75.036385   29.650000   98.428001\n",
       "2020-01-09   76.630219   27.870001   96.267998\n",
       "2020-01-10   76.803459   28.010000   95.629997\n",
       "2020-01-13   78.444321   28.530001  104.972000\n",
       "2020-01-14   77.385063   29.690001  107.584000\n",
       "...                ...         ...         ...\n",
       "2021-02-04  137.184998  157.529999  849.989990\n",
       "2021-02-05  136.759995  148.300003  852.229980\n",
       "2021-02-08  136.910004  144.990005  863.419983\n",
       "2021-02-09  136.009995  147.759995  849.460022\n",
       "2021-02-10  135.389999  145.039993  804.820007\n",
       "\n",
       "[276 rows x 3 columns]"
      ]
     },
     "execution_count": 7,
     "metadata": {},
     "output_type": "execute_result"
    }
   ],
   "source": [
    "price"
   ]
  },
  {
   "cell_type": "code",
   "execution_count": null,
   "metadata": {},
   "outputs": [],
   "source": []
  }
 ],
 "metadata": {
  "kernelspec": {
   "display_name": "Python 3",
   "language": "python",
   "name": "python3"
  },
  "language_info": {
   "codemirror_mode": {
    "name": "ipython",
    "version": 3
   },
   "file_extension": ".py",
   "mimetype": "text/x-python",
   "name": "python",
   "nbconvert_exporter": "python",
   "pygments_lexer": "ipython3",
   "version": "3.8.5"
  }
 },
 "nbformat": 4,
 "nbformat_minor": 4
}
