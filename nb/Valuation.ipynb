{
 "cells": [
  {
   "cell_type": "code",
   "execution_count": 3,
   "metadata": {},
   "outputs": [
    {
     "data": {
      "text/plain": [
       "'AAPL'"
      ]
     },
     "execution_count": 3,
     "metadata": {},
     "output_type": "execute_result"
    }
   ],
   "source": [
    "import numpy as np\n",
    "import pandas as pd\n",
    "import pandas_datareader.data as web\n",
    "from datetime import datetime, timedelta\n",
    "import altair as alt\n",
    "from pandas.io.json import json_normalize\n",
    "import requests\n",
    "import yahoo_fin.stock_info as yf\n",
    "from alpha_vantage.fundamentaldata import FundamentalData\n",
    "import json\n",
    "from fbprophet import Prophet \n",
    "\n",
    "D = 400\n",
    "date_D_days_ago = datetime.now() - timedelta(days=D)\n",
    "now = datetime.now()\n",
    "\n",
    "start_date = date_D_days_ago.strftime('%F')\n",
    "end_date = now.strftime('%F')\n",
    "\n",
    "apikey='2HCDHLMKIK99309W'\n",
    "tech_stocks = ['AAPL', 'PTON', 'TSLA','ADYEY']\n",
    "\n",
    "portfolio2 = ['CSCO','PTON','AI','TSLA','ADYEY','UBER']\n",
    "\n",
    "tech_stocks[0]\n",
    "\n",
    "\n",
    "# Operating CashFlow minus Capital Expenditures\n"
   ]
  },
  {
   "cell_type": "code",
   "execution_count": null,
   "metadata": {},
   "outputs": [],
   "source": [
    "#Get Data from Yahoo\n",
    "def StockData(ticker, start_d, end_d):\n",
    "    data = web.get_data_yahoo(ticker, start = start_d, end = end_d)\n",
    "    price =  pd.DataFrame(data['Adj Close'])\n",
    "    \n",
    "    #volume = pd.DataFrame(data['Volume'])\n",
    "    return price"
   ]
  },
  {
   "cell_type": "code",
   "execution_count": null,
   "metadata": {},
   "outputs": [],
   "source": [
    "def Forecast(df,ticker):\n",
    "    df = df.fillna(0)\n",
    "    tit = ''+ticker\n",
    "    df = df.reset_index()\n",
    "    df.columns = ['ds','y']\n",
    "    prophet = Prophet()\n",
    "    prophet.fit(df)\n",
    "    future_prices=prophet.make_future_dataframe(periods=365)\n",
    "    future = prophet.predict(future_prices)\n",
    "    future = future[['ds','trend','yhat_lower','yhat_upper']]\n",
    "    return future"
   ]
  },
  {
   "cell_type": "code",
   "execution_count": null,
   "metadata": {},
   "outputs": [],
   "source": [
    "price = StockData(portfolio2, start_date, end_date)"
   ]
  },
  {
   "cell_type": "code",
   "execution_count": null,
   "metadata": {},
   "outputs": [],
   "source": [
    "def Performance(p):\n",
    "   \n",
    "    perform = pd.DataFrame(0, index = p.columns, columns=['performance','trend','yhat_lower','yhat_upper'])\n",
    "       \n",
    "    df =(p.resample('W').ffill().pct_change() + 1).cumprod().fillna(0).tail(1)\n",
    "    perform['performance'] = df.iloc[0,:].apply(pct) \n",
    "    \n",
    "    for i in p.columns:\n",
    "        f = Forecast(p[i],i)\n",
    "        f.index = f['ds']\n",
    "        f = f.drop(['ds'], axis=1)\n",
    "        f = f[now:]\n",
    "        print(f.tail(1))\n",
    "        f = (f.resample('W').ffill().pct_change()+1).cumprod().fillna(0).tail(1).applymap(pct)\n",
    "        print(f)\n",
    "        perform.loc[i,'trend'] = f.iloc[0,0]\n",
    "        perform.loc[i,'yhat_lower'] = f.iloc[0,1]\n",
    "        perform.loc[i,'yhat_upper'] = f.iloc[0,2]\n",
    "    return perform"
   ]
  },
  {
   "cell_type": "code",
   "execution_count": null,
   "metadata": {},
   "outputs": [],
   "source": [
    "p = Performance(price)"
   ]
  },
  {
   "cell_type": "code",
   "execution_count": null,
   "metadata": {},
   "outputs": [],
   "source": [
    "p"
   ]
  },
  {
   "cell_type": "code",
   "execution_count": null,
   "metadata": {},
   "outputs": [],
   "source": [
    "p['yhat_upper'].astype(float) - p['yhat_lower'].astype(float)"
   ]
  },
  {
   "cell_type": "code",
   "execution_count": null,
   "metadata": {},
   "outputs": [],
   "source": [
    "p"
   ]
  },
  {
   "cell_type": "code",
   "execution_count": null,
   "metadata": {},
   "outputs": [],
   "source": [
    "t.index = t['ds']"
   ]
  },
  {
   "cell_type": "code",
   "execution_count": null,
   "metadata": {},
   "outputs": [],
   "source": [
    "t = t.drop(['ds'], axis=1)"
   ]
  },
  {
   "cell_type": "code",
   "execution_count": null,
   "metadata": {},
   "outputs": [],
   "source": [
    "t = t[now:]\n",
    "dig = lambda x: '{:.2f}'.format(x)\n",
    "pct = lambda x: '{:.2%}'.format(x)"
   ]
  },
  {
   "cell_type": "code",
   "execution_count": null,
   "metadata": {},
   "outputs": [],
   "source": [
    "p2 = (t.resample('W').ffill().pct_change()+1).cumprod().fillna(0).tail(1).applymap(dig)"
   ]
  },
  {
   "cell_type": "code",
   "execution_count": null,
   "metadata": {},
   "outputs": [],
   "source": [
    "p2\n"
   ]
  },
  {
   "cell_type": "code",
   "execution_count": null,
   "metadata": {},
   "outputs": [],
   "source": [
    "df1 = pd.DataFrame({'key' : ['a','b','c'],'value': range(3)}, index = ['a1','x2','a3'])\n",
    "df2 = pd.DataFrame({'key' : ['x','y','x','v'],'stuff': range(4)}, index = ['a1','a2','a3','a4'])"
   ]
  },
  {
   "cell_type": "code",
   "execution_count": null,
   "metadata": {},
   "outputs": [],
   "source": [
    "df1"
   ]
  },
  {
   "cell_type": "code",
   "execution_count": null,
   "metadata": {},
   "outputs": [],
   "source": [
    "df2"
   ]
  },
  {
   "cell_type": "code",
   "execution_count": null,
   "metadata": {},
   "outputs": [],
   "source": [
    "df1.combine_first(df2)"
   ]
  },
  {
   "cell_type": "code",
   "execution_count": null,
   "metadata": {},
   "outputs": [],
   "source": [
    "df1.index.str.match('a3').any()"
   ]
  },
  {
   "cell_type": "code",
   "execution_count": null,
   "metadata": {},
   "outputs": [],
   "source": [
    "df1.columns.values[0]"
   ]
  },
  {
   "cell_type": "code",
   "execution_count": null,
   "metadata": {},
   "outputs": [],
   "source": []
  },
  {
   "cell_type": "code",
   "execution_count": 6,
   "metadata": {},
   "outputs": [],
   "source": [
    "win = yf.get_day_gainers()\n"
   ]
  },
  {
   "cell_type": "code",
   "execution_count": 15,
   "metadata": {},
   "outputs": [
    {
     "data": {
      "text/plain": [
       "<bound method NDFrame.describe of    Symbol                                  Name  Price (Intraday)  Change  \\\n",
       "0   RLLCF              Rolls-Royce Holdings plc            0.0470  0.0301   \n",
       "1     CAN                           Canaan Inc.           17.5700  4.5300   \n",
       "2   DFIFF         Diamond Fields Resources Inc.            0.3121  0.0716   \n",
       "3    FINV                     FinVolution Group            7.7100  1.5300   \n",
       "4   CMCLF            China Molybdenum Co., Ltd.            0.8500  0.1438   \n",
       "..    ...                                   ...               ...     ...   \n",
       "95    CMA                 Comerica Incorporated           65.6100  3.3000   \n",
       "96     PK            Park Hotels & Resorts Inc.           20.7400  1.0600   \n",
       "97   COOP                 Mr. Cooper Group Inc.           31.3600  1.5200   \n",
       "98    CMP  Compass Minerals International, Inc.           67.7100  3.5300   \n",
       "99  REPYY                          Repsol, S.A.           11.4100  0.5700   \n",
       "\n",
       "    % Change        Volume  Avg Vol (3 month)  \\\n",
       "0     178.11  3.451440e+08       1.600700e+07   \n",
       "1      34.74  2.951500e+07       1.209900e+07   \n",
       "2      29.77  2.946880e+14       7.711800e+13   \n",
       "3      24.76  5.513000e+06       1.033000e+06   \n",
       "4      20.35  2.413440e+14       5.628000e+13   \n",
       "..       ...           ...                ...   \n",
       "95      5.30  4.895390e+14       1.625000e+06   \n",
       "96      5.39  2.234000e+06       4.136000e+06   \n",
       "97      5.11  1.036000e+06       8.241470e+14   \n",
       "98      5.50  2.356760e+14       2.283360e+14   \n",
       "99      5.26  5.388000e+13       9.230900e+13   \n",
       "\n",
       "                                           Market Cap  PE Ratio (TTM)  \n",
       "0   1.025T1.025T1.025T1.025T1.025T1.025T1.025T1.02...             NaN  \n",
       "1                                           2.753e+09             NaN  \n",
       "2                                         1.64885e+11             NaN  \n",
       "3                                           2.169e+09             NaN  \n",
       "4                                          2.5122e+10             NaN  \n",
       "..                                                ...             ...  \n",
       "95                                          9.139e+09           20.06  \n",
       "96                                          4.887e+09             NaN  \n",
       "97                                           2.85e+09            5.16  \n",
       "98                                          2.299e+09           28.22  \n",
       "99                                         1.7765e+10            5.63  \n",
       "\n",
       "[100 rows x 9 columns]>"
      ]
     },
     "execution_count": 15,
     "metadata": {},
     "output_type": "execute_result"
    }
   ],
   "source": [
    "\n",
    "\n",
    "win.describe\n"
   ]
  },
  {
   "cell_type": "code",
   "execution_count": 8,
   "metadata": {},
   "outputs": [],
   "source": [
    "lose = yf.get_day_losers()\n",
    "lose = lose.sort_values(by='Market Cap',ascending = False).head(5).sort_values(by='% Change',ascending = True)"
   ]
  },
  {
   "cell_type": "code",
   "execution_count": 9,
   "metadata": {},
   "outputs": [
    {
     "data": {
      "text/html": [
       "<div>\n",
       "<style scoped>\n",
       "    .dataframe tbody tr th:only-of-type {\n",
       "        vertical-align: middle;\n",
       "    }\n",
       "\n",
       "    .dataframe tbody tr th {\n",
       "        vertical-align: top;\n",
       "    }\n",
       "\n",
       "    .dataframe thead th {\n",
       "        text-align: right;\n",
       "    }\n",
       "</style>\n",
       "<table border=\"1\" class=\"dataframe\">\n",
       "  <thead>\n",
       "    <tr style=\"text-align: right;\">\n",
       "      <th></th>\n",
       "      <th>Symbol</th>\n",
       "      <th>Name</th>\n",
       "      <th>Price (Intraday)</th>\n",
       "      <th>Change</th>\n",
       "      <th>% Change</th>\n",
       "      <th>Volume</th>\n",
       "      <th>Avg Vol (3 month)</th>\n",
       "      <th>Market Cap</th>\n",
       "      <th>PE Ratio (TTM)</th>\n",
       "    </tr>\n",
       "  </thead>\n",
       "  <tbody>\n",
       "    <tr>\n",
       "      <th>6</th>\n",
       "      <td>PLTR</td>\n",
       "      <td>Palantir Technologies Inc.</td>\n",
       "      <td>28.600</td>\n",
       "      <td>-3.310</td>\n",
       "      <td>-10.36</td>\n",
       "      <td>1.099040e+08</td>\n",
       "      <td>71909000.0</td>\n",
       "      <td>5.371800e+10</td>\n",
       "      <td>NaN</td>\n",
       "    </tr>\n",
       "    <tr>\n",
       "      <th>14</th>\n",
       "      <td>BKRKF</td>\n",
       "      <td>PT Bank Rakyat Indonesia (Persero) Tbk</td>\n",
       "      <td>0.328</td>\n",
       "      <td>-0.032</td>\n",
       "      <td>-8.89</td>\n",
       "      <td>2.141300e+14</td>\n",
       "      <td>1269000.0</td>\n",
       "      <td>3.735900e+10</td>\n",
       "      <td>18.22</td>\n",
       "    </tr>\n",
       "    <tr>\n",
       "      <th>83</th>\n",
       "      <td>TWLO</td>\n",
       "      <td>Twilio Inc.</td>\n",
       "      <td>414.450</td>\n",
       "      <td>-20.850</td>\n",
       "      <td>-4.79</td>\n",
       "      <td>1.499000e+06</td>\n",
       "      <td>2003000.0</td>\n",
       "      <td>6.651100e+10</td>\n",
       "      <td>NaN</td>\n",
       "    </tr>\n",
       "    <tr>\n",
       "      <th>96</th>\n",
       "      <td>NTES</td>\n",
       "      <td>NetEase, Inc.</td>\n",
       "      <td>126.210</td>\n",
       "      <td>-5.910</td>\n",
       "      <td>-4.47</td>\n",
       "      <td>1.501000e+06</td>\n",
       "      <td>2533000.0</td>\n",
       "      <td>8.673700e+10</td>\n",
       "      <td>18.92</td>\n",
       "    </tr>\n",
       "    <tr>\n",
       "      <th>91</th>\n",
       "      <td>CVS</td>\n",
       "      <td>CVS Health Corporation</td>\n",
       "      <td>70.970</td>\n",
       "      <td>-3.240</td>\n",
       "      <td>-4.37</td>\n",
       "      <td>1.101100e+07</td>\n",
       "      <td>7516000.0</td>\n",
       "      <td>9.289300e+10</td>\n",
       "      <td>11.73</td>\n",
       "    </tr>\n",
       "  </tbody>\n",
       "</table>\n",
       "</div>"
      ],
      "text/plain": [
       "   Symbol                                    Name  Price (Intraday)  Change  \\\n",
       "6    PLTR              Palantir Technologies Inc.            28.600  -3.310   \n",
       "14  BKRKF  PT Bank Rakyat Indonesia (Persero) Tbk             0.328  -0.032   \n",
       "83   TWLO                             Twilio Inc.           414.450 -20.850   \n",
       "96   NTES                           NetEase, Inc.           126.210  -5.910   \n",
       "91    CVS                  CVS Health Corporation            70.970  -3.240   \n",
       "\n",
       "    % Change        Volume  Avg Vol (3 month)    Market Cap  PE Ratio (TTM)  \n",
       "6     -10.36  1.099040e+08         71909000.0  5.371800e+10             NaN  \n",
       "14     -8.89  2.141300e+14          1269000.0  3.735900e+10           18.22  \n",
       "83     -4.79  1.499000e+06          2003000.0  6.651100e+10             NaN  \n",
       "96     -4.47  1.501000e+06          2533000.0  8.673700e+10           18.92  \n",
       "91     -4.37  1.101100e+07          7516000.0  9.289300e+10           11.73  "
      ]
     },
     "execution_count": 9,
     "metadata": {},
     "output_type": "execute_result"
    }
   ],
   "source": [
    "lose"
   ]
  },
  {
   "cell_type": "code",
   "execution_count": null,
   "metadata": {},
   "outputs": [],
   "source": [
    "active = yf.get_day_most_active()\n",
    "active = lose.sort_values(by='Market Cap',ascending = False).head(5)"
   ]
  },
  {
   "cell_type": "code",
   "execution_count": null,
   "metadata": {},
   "outputs": [],
   "source": [
    "active"
   ]
  },
  {
   "cell_type": "code",
   "execution_count": null,
   "metadata": {},
   "outputs": [],
   "source": [
    "yf.get_quote_table(\"aapl\")"
   ]
  },
  {
   "cell_type": "code",
   "execution_count": 16,
   "metadata": {},
   "outputs": [
    {
     "data": {
      "text/plain": [
       "3.69"
      ]
     },
     "execution_count": 16,
     "metadata": {},
     "output_type": "execute_result"
    }
   ],
   "source": [
    "yf.get_quote_table(\"aapl\")[\"EPS (TTM)\"]"
   ]
  },
  {
   "cell_type": "code",
   "execution_count": null,
   "metadata": {},
   "outputs": [],
   "source": [
    "performance = (price.resample('W').ffill().pct_change() + 1).cumprod().fillna(0).tail(1)"
   ]
  },
  {
   "cell_type": "code",
   "execution_count": null,
   "metadata": {},
   "outputs": [],
   "source": [
    "df = pd.DataFrame(0, index= price.columns, columns =['performance','EPS'])"
   ]
  },
  {
   "cell_type": "code",
   "execution_count": null,
   "metadata": {},
   "outputs": [],
   "source": [
    "df['performance'] = performance.tail(1)"
   ]
  },
  {
   "cell_type": "code",
   "execution_count": null,
   "metadata": {},
   "outputs": [],
   "source": [
    "df['performance'] = performance.iloc[0,:]"
   ]
  },
  {
   "cell_type": "code",
   "execution_count": null,
   "metadata": {},
   "outputs": [],
   "source": [
    "my_EPS = lambda x: yf.get_quote_table(x)[\"EPS (TTM)\"]"
   ]
  },
  {
   "cell_type": "code",
   "execution_count": null,
   "metadata": {},
   "outputs": [],
   "source": [
    "for i in df.index:\n",
    "    EPS = yf.get_quote_table(i)[\"EPS (TTM)\"]\n",
    "    df.loc[i,'EPS'] = EPS\n",
    "    \n",
    "    "
   ]
  },
  {
   "cell_type": "code",
   "execution_count": null,
   "metadata": {},
   "outputs": [],
   "source": [
    "data"
   ]
  },
  {
   "cell_type": "code",
   "execution_count": null,
   "metadata": {},
   "outputs": [],
   "source": [
    "def Plot_EPS(price):\n",
    "    performance = (price.resample('W').ffill().pct_change() + 1).cumprod().fillna(0).tail(1)\n",
    "    df = pd.DataFrame(0, index= price.columns, columns =['performance','EPS'])\n",
    "    df['performance'] = performance.tail(1)\n",
    "    df['performance'] = performance.iloc[0,:]\n",
    "\n",
    "    for i in df.index:\n",
    "        EPS = yf.get_quote_table(i)[\"EPS (TTM)\"]\n",
    "        df.loc[i,'EPS'] = EPS\n",
    "\n",
    "\n",
    "\n",
    "    df = df.reset_index()\n",
    "\n",
    "    pic = alt.Chart(df).mark_point().encode(alt.X('performance:Q',scale=alt.Scale(zero=False)\n",
    "        ),y='EPS:Q', \n",
    "        color='Symbols:N', \n",
    "        size=alt.Size(\"performance:Q\", scale=alt.Scale(range=[0, 1000])), \n",
    "        tooltip=['Symbols:N', 'performance:N','EPS:N'])\n",
    "    return pic"
   ]
  },
  {
   "cell_type": "code",
   "execution_count": null,
   "metadata": {},
   "outputs": [],
   "source": [
    "table = yf.get_quote_table('CSCO')\n",
    "\n",
    "pd.read_html(table, index=0)"
   ]
  },
  {
   "cell_type": "code",
   "execution_count": null,
   "metadata": {},
   "outputs": [],
   "source": [
    "table.values"
   ]
  },
  {
   "cell_type": "code",
   "execution_count": null,
   "metadata": {},
   "outputs": [],
   "source": []
  }
 ],
 "metadata": {
  "kernelspec": {
   "display_name": "Python 3",
   "language": "python",
   "name": "python3"
  },
  "language_info": {
   "codemirror_mode": {
    "name": "ipython",
    "version": 3
   },
   "file_extension": ".py",
   "mimetype": "text/x-python",
   "name": "python",
   "nbconvert_exporter": "python",
   "pygments_lexer": "ipython3",
   "version": "3.8.5"
  }
 },
 "nbformat": 4,
 "nbformat_minor": 4
}
